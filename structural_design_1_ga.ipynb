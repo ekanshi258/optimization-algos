{
  "nbformat": 4,
  "nbformat_minor": 0,
  "metadata": {
    "colab": {
      "name": "structural-design-1-ga.ipynb",
      "provenance": [],
      "authorship_tag": "ABX9TyOGHbF88B//Sld+ztaRA90F",
      "include_colab_link": true
    },
    "kernelspec": {
      "name": "python3",
      "display_name": "Python 3"
    }
  },
  "cells": [
    {
      "cell_type": "markdown",
      "metadata": {
        "id": "view-in-github",
        "colab_type": "text"
      },
      "source": [
        "<a href=\"https://colab.research.google.com/github/ekanshi258/optimization-algos/blob/master/structural_design_1_ga.ipynb\" target=\"_parent\"><img src=\"https://colab.research.google.com/assets/colab-badge.svg\" alt=\"Open In Colab\"/></a>"
      ]
    },
    {
      "cell_type": "code",
      "metadata": {
        "id": "hfK5AI4OG6V2"
      },
      "source": [
        "pip install pymoo"
      ],
      "execution_count": null,
      "outputs": []
    },
    {
      "cell_type": "markdown",
      "metadata": {
        "id": "yBXva0YwHRdh"
      },
      "source": [
        "This experiment is based on the following paper:  \n",
        "_Solving structural engineering design optimization problems using an artificial bee colony algorithm_: https://www.aimsciences.org/article/doi/10.3934/jimo.2014.10.777\n",
        "\n",
        "I will be using the Genetic Algo to solve the same problem as given in the paper.\n"
      ]
    },
    {
      "cell_type": "code",
      "metadata": {
        "id": "npzjPwuGHRNe"
      },
      "source": [
        "import numpy as np\n",
        "from pymoo.model.problem import FunctionalProblem\n",
        "from pymoo.algorithms.so_genetic_algorithm import GA\n",
        "\n",
        "from pymoo.factory import get_sampling, get_crossover, get_mutation, get_termination\n",
        "from pymoo.optimize import minimize"
      ],
      "execution_count": 2,
      "outputs": []
    },
    {
      "cell_type": "markdown",
      "metadata": {
        "id": "LU4q_cftHaSd"
      },
      "source": [
        "Problem 1:  \n",
        "**Design of pressure vessel. (Section 4.2.1).**\n",
        "\n",
        "\n",
        "---\n",
        "\n",
        "\n",
        "Objective functions:  \n",
        "```\n",
        "Minimize f(X) = 0.6224*x1*x3*x4 + 1.7781*x2*x3^2+ 3.1661*x1^2*x4 + 19.84*x1^2*x3\n",
        "\n",
        "Such that:\n",
        "g1(X) = −x1 + 0.0193*x3 <= 0\n",
        "g2(X) = −x2 + 0.00954*x3 <= 0\n",
        "g3(X) = − pi*x3^2*x4 − 4/3 *pi*x3^3 + 1296000 <= 0\n",
        "g4(X) = x4 − 240 <= 0\n",
        "\n",
        "Bounds:\n",
        "0.0625 <= x1, x2 <= 99*0.0625 \n",
        "10 <= x3, x4 <= 200\n",
        "```\n",
        "\n",
        "> There are four design variable associated with it namely\n",
        "as thickness of the pressure vessel, Ts = x1, thickness of the head, Th = x2, inner radius of the vessel, R = x3, and length of the vessel without heads, L = x4 i.e. the variables vectors are given (in inches) by X = (Ts, Th,R,L) = (x1, x2, x3, x4)."
      ]
    },
    {
      "cell_type": "code",
      "metadata": {
        "id": "U3AZKgiOHdbC"
      },
      "source": [
        "import math\n",
        "pi = math.pi\n",
        "\n",
        "#objective functions\n",
        "objs = [\n",
        "    lambda x: 0.6224 * x[0]*x[2]*x[3] + 1.7781 * x[1]*x[2]**2 + 3.1661 * x[0]**2 * x[3] + 19.84*x[0]**2 * x[2],\n",
        "]\n",
        "\n",
        "# Contraint equations\n",
        "constr_ieq = [\n",
        "    lambda x: - x[0] + 0.0193*x[2],\n",
        "    lambda x: - x[1] + 0.00954*x[2],\n",
        "    lambda x: - pi*x[2]**2*x[3] - 4/3 *pi*x[2]**3 + 1296000,\n",
        "    lambda x: x[3] - 240\n",
        "]\n",
        "\n",
        "# value bounds\n",
        "lower_bound = np.array([0.0625, 0.0625, 10, 10])\n",
        "upper_bound = np.array([99*0.0625, 99*0.0625, 200, 200])\n",
        "\n",
        "# initialising problem\n",
        "problem = FunctionalProblem(4, objs, constr_ieq=constr_ieq, xl=lower_bound, xu=upper_bound)"
      ],
      "execution_count": 3,
      "outputs": []
    },
    {
      "cell_type": "markdown",
      "metadata": {
        "id": "pRKDjHiYHktj"
      },
      "source": [
        "Starting GA:"
      ]
    },
    {
      "cell_type": "code",
      "metadata": {
        "id": "c8j-pVCBHlBX"
      },
      "source": [
        "algorithm = GA(\n",
        "    pop_size=1000,\n",
        "    crossover=get_crossover(\"real_sbx\", prob=0.9, eta=15),\n",
        "    mutation=get_mutation(\"real_pm\", eta=20),\n",
        "    eliminate_duplicates=True)\n",
        "\n",
        "termination = get_termination(\"n_gen\", 280)\n",
        "\n",
        "res = minimize(problem,\n",
        "               algorithm,\n",
        "               termination,\n",
        "               seed=1,\n",
        "               save_history=True,\n",
        "               verbose=True)"
      ],
      "execution_count": null,
      "outputs": []
    },
    {
      "cell_type": "markdown",
      "metadata": {
        "id": "C3Yi6X8bIwGh"
      },
      "source": [
        "`<output hidden due to length>`\n",
        "\n",
        "Results:"
      ]
    },
    {
      "cell_type": "code",
      "metadata": {
        "id": "ziKV6-pQIz4y",
        "outputId": "c2b262e7-b4ec-4d1a-a383-d6dca40976ea",
        "colab": {
          "base_uri": "https://localhost:8080/",
          "height": 85
        }
      },
      "source": [
        "print(\"X: \", res.X)\n",
        "print(\"Obj: \", res.F)\n",
        "print(\"Constraints: \", res.G)\n",
        "print(\"Execution time: \", res.exec_time)"
      ],
      "execution_count": 6,
      "outputs": [
        {
          "output_type": "stream",
          "text": [
            "X:  [  0.82103352   0.40583733  42.54059628 171.23360684]\n",
            "Obj:  [5962.71333828]\n",
            "Constraints:  [0. 0. 0. 0.]\n",
            "Execution time:  46.7254159450531\n"
          ],
          "name": "stdout"
        }
      ]
    },
    {
      "cell_type": "markdown",
      "metadata": {
        "id": "vwuEsRpkI8d4"
      },
      "source": [
        "Covergence:\n",
        "\n",
        "\n",
        "\n",
        "```\n",
        "x-axis: number of function evaluations\n",
        "y-axis: optimum objective value\n",
        "```\n"
      ]
    },
    {
      "cell_type": "code",
      "metadata": {
        "id": "AICEfnmgI8F6",
        "outputId": "2535e010-203a-42c2-a704-d7b905db7014",
        "colab": {
          "base_uri": "https://localhost:8080/",
          "height": 390
        }
      },
      "source": [
        "import matplotlib.pyplot as plt\n",
        "\n",
        "n_evals = np.array([e.evaluator.n_eval for e in res.history])\n",
        "opt = np.array([e.opt[0].F for e in res.history])\n",
        "plt.figure(figsize=(12,6))\n",
        "plt.title(\"Problem 1 Convergence: GA\")\n",
        "plt.plot(n_evals, opt, \"-\")\n",
        "plt.show()"
      ],
      "execution_count": 7,
      "outputs": [
        {
          "output_type": "display_data",
          "data": {
            "image/png": "[encoded data removed]",
            "text/plain": [
              "<Figure size 864x432 with 1 Axes>"
            ]
          },
          "metadata": {
            "tags": [],
            "needs_background": "light"
          }
        }
      ]
    },
    {
      "cell_type": "markdown",
      "metadata": {
        "id": "kOT30_KsJBoS"
      },
      "source": [
        "Convergence with logarithmic scale Y-Axis"
      ]
    },
    {
      "cell_type": "code",
      "metadata": {
        "id": "ZGyqjsFKJFXj",
        "outputId": "9e1a5515-96e3-4261-9c6a-3c7c2828714a",
        "colab": {
          "base_uri": "https://localhost:8080/",
          "height": 390
        }
      },
      "source": [
        "n_evals = np.array([e.evaluator.n_eval for e in res.history])\n",
        "opt = np.array([e.opt[0].F for e in res.history])\n",
        "plt.figure(figsize=(12,6))\n",
        "plt.title(\"Problem 1 Convergence: GA\")\n",
        "plt.plot(n_evals, opt, \"-\")\n",
        "plt.yscale(\"log\")\n",
        "plt.show()"
      ],
      "execution_count": 8,
      "outputs": [
        {
          "output_type": "display_data",
          "data": {
            "image/png": "[encoded data removed]",
            "text/plain": [
              "<Figure size 864x432 with 1 Axes>"
            ]
          },
          "metadata": {
            "tags": [],
            "needs_background": "light"
          }
        }
      ]
    }
  ]
}