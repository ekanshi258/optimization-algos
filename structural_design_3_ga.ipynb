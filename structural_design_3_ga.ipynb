{
  "nbformat": 4,
  "nbformat_minor": 0,
  "metadata": {
    "colab": {
      "name": "structural-design-3-ga.ipynb",
      "provenance": [],
      "authorship_tag": "ABX9TyNDlWw/9XsME+tHYFb96ztH",
      "include_colab_link": true
    },
    "kernelspec": {
      "name": "python3",
      "display_name": "Python 3"
    }
  },
  "cells": [
    {
      "cell_type": "markdown",
      "metadata": {
        "id": "view-in-github",
        "colab_type": "text"
      },
      "source": [
        "<a href=\"https://colab.research.google.com/github/ekanshi258/optimization-algos/blob/master/structural_design_3_ga.ipynb\" target=\"_parent\"><img src=\"https://colab.research.google.com/assets/colab-badge.svg\" alt=\"Open In Colab\"/></a>"
      ]
    },
    {
      "cell_type": "code",
      "metadata": {
        "id": "AhteSHg7LBNy"
      },
      "source": [
        "pip install pymoo"
      ],
      "execution_count": null,
      "outputs": []
    },
    {
      "cell_type": "markdown",
      "metadata": {
        "id": "Y3ckDRQRLKbY"
      },
      "source": [
        "This experiment is based on the following paper:  \n",
        "_Solving structural engineering design optimization problems using an artificial bee colony algorithm_: https://www.aimsciences.org/article/doi/10.3934/jimo.2014.10.777\n",
        "\n",
        "I will be using the Genetic Algo to solve the same problem as given in the paper.\n"
      ]
    },
    {
      "cell_type": "code",
      "metadata": {
        "id": "zb146ZbRLQWt"
      },
      "source": [
        "import numpy as np\n",
        "from pymoo.model.problem import FunctionalProblem\n",
        "from pymoo.algorithms.so_genetic_algorithm import GA\n",
        "\n",
        "from pymoo.factory import get_sampling, get_crossover, get_mutation, get_termination\n",
        "from pymoo.optimize import minimize"
      ],
      "execution_count": 2,
      "outputs": []
    },
    {
      "cell_type": "markdown",
      "metadata": {
        "id": "OWnpsN7WLZOD"
      },
      "source": [
        "The paper states 3 structural design problems. \n",
        "\n",
        "Problem 3:  \n",
        "**Tension/Compression String Design. (Section 4.2.3).**\n",
        "\n",
        "\n",
        "---\n",
        "\n",
        "\n",
        "Objective functions:  \n",
        "```\n",
        "Minimize f(X) = (x3 + 2) * x2 * x1^2\n",
        "Such that:\n",
        "g1(X) = 1 − (x2^3 * x3)/(71785 * x1^4) <= 0\n",
        "g2(X) = (4*x2^2 − x1*x2)/12566*(x2*x1^3 − x1^4) + 1/(5108 * x1^2) − 1 <= 0\n",
        "g3(X) = 1 − (140.45 * x1)/(x2^2 * x3) <= 0\n",
        "g4(X) = (x1 + x2)/(1.5) − 1 <= 0\n",
        "\n",
        "Bounds:\n",
        "0.05 <= x1 <= 2 ; 0.25 <= x2 <= 1.3 ; 2 <= x3 <= 15\n",
        "```\n",
        "\n",
        "> Minimizing the weight of a tension/compression spring subject to constraints on minimum deflection, shear stress, surge frequency, limits on outside diameter and on design\n",
        "variables. The design variables are the mean coil diameter(x1), the wire diameter (x2) and the number of active coil (x3)."
      ]
    },
    {
      "cell_type": "code",
      "metadata": {
        "id": "38Xk8AopLgvR"
      },
      "source": [
        "#objective functions\n",
        "objs = [\n",
        "    lambda x: (x[2] + 2) * x[1] * x[0]**2,\n",
        "]\n",
        "\n",
        "# Contraint equations\n",
        "constr_ieq = [\n",
        "    lambda x: 1 - (x[1]**3 * x[2])/(71785 * x[0]**4),\n",
        "    lambda x: (4*x[1]**2 - x[0]*x[1])/(12566*(x[1] * x[0]**3 - x[0]**4)) + 1/(5108 * x[0]**2) - 1,\n",
        "    lambda x: 1 - (140.45 * x[0])/(x[1]**2 * x[2]),\n",
        "    lambda x: (x[0] + x[1])/(1.5) - 1\n",
        "]\n",
        "\n",
        "# value bounds\n",
        "lower_bound = np.array([0.05, 0.25, 2])\n",
        "upper_bound = np.array([2, 1.3, 15])\n",
        "\n",
        "# initialising problem\n",
        "problem = FunctionalProblem(3, objs, constr_ieq=constr_ieq, xl=lower_bound, xu=upper_bound)"
      ],
      "execution_count": 3,
      "outputs": []
    },
    {
      "cell_type": "markdown",
      "metadata": {
        "id": "pRKDjHiYHktj"
      },
      "source": [
        "Starting GA:"
      ]
    },
    {
      "cell_type": "code",
      "metadata": {
        "id": "lRDZh5u0LwFy",
        "outputId": "9d06c18a-722f-4447-b391-df26c9cb3d99",
        "colab": {
          "base_uri": "https://localhost:8080/",
          "height": 1000
        }
      },
      "source": [
        "algorithm = GA(\n",
        "    pop_size=1000,\n",
        "    crossover=get_crossover(\"real_sbx\", prob=0.9, eta=15),\n",
        "    mutation=get_mutation(\"real_pm\", eta=20),\n",
        "    eliminate_duplicates=True)\n",
        "\n",
        "termination = get_termination(\"n_gen\", 280)\n",
        "\n",
        "res = minimize(problem,\n",
        "               algorithm,\n",
        "               termination,\n",
        "               seed=1,\n",
        "               save_history=True,\n",
        "               verbose=True)"
      ],
      "execution_count": 4,
      "outputs": [
        {
          "output_type": "stream",
          "text": [
            "===========================================================================\n",
            "n_gen |  n_eval |   cv (min)   |   cv (avg)   |     fopt     |     favg    \n",
            "===========================================================================\n",
            "    1 |    1000 |  0.00000E+00 |  1.269475766 |  0.021596037 |  0.088538159\n",
            "    2 |    2000 |  0.00000E+00 |  0.920361207 |  0.019084181 |  0.086673264\n",
            "    3 |    3000 |  0.00000E+00 |  0.778847993 |  0.019084181 |  0.084273442\n",
            "    4 |    4000 |  0.00000E+00 |  0.454351616 |  0.016894179 |  0.075340555\n",
            "    5 |    5000 |  0.00000E+00 |  0.120613566 |  0.016894179 |  0.075741658\n",
            "    6 |    6000 |  0.00000E+00 |  0.006898437 |  0.016894179 |  0.072216348\n",
            "    7 |    7000 |  0.00000E+00 |  0.00000E+00 |  0.016894179 |  0.046411722\n",
            "    8 |    8000 |  0.00000E+00 |  0.00000E+00 |  0.015904952 |  0.034586141\n",
            "    9 |    9000 |  0.00000E+00 |  0.00000E+00 |  0.015509800 |  0.028870864\n",
            "   10 |   10000 |  0.00000E+00 |  0.00000E+00 |  0.015212556 |  0.025427752\n",
            "   11 |   11000 |  0.00000E+00 |  0.00000E+00 |  0.014235727 |  0.022802417\n",
            "   12 |   12000 |  0.00000E+00 |  0.00000E+00 |  0.013254573 |  0.020926620\n",
            "   13 |   13000 |  0.00000E+00 |  0.00000E+00 |  0.013254573 |  0.019525554\n",
            "   14 |   14000 |  0.00000E+00 |  0.00000E+00 |  0.013254573 |  0.018563446\n",
            "   15 |   15000 |  0.00000E+00 |  0.00000E+00 |  0.013254573 |  0.017796298\n",
            "   16 |   16000 |  0.00000E+00 |  0.00000E+00 |  0.013254573 |  0.017191568\n",
            "   17 |   17000 |  0.00000E+00 |  0.00000E+00 |  0.013128488 |  0.016708728\n",
            "   18 |   18000 |  0.00000E+00 |  0.00000E+00 |  0.013128488 |  0.016271745\n",
            "   19 |   19000 |  0.00000E+00 |  0.00000E+00 |  0.013128488 |  0.015915309\n",
            "   20 |   20000 |  0.00000E+00 |  0.00000E+00 |  0.013128488 |  0.015651842\n",
            "   21 |   21000 |  0.00000E+00 |  0.00000E+00 |  0.013128488 |  0.015400666\n",
            "   22 |   22000 |  0.00000E+00 |  0.00000E+00 |  0.013128488 |  0.015204022\n",
            "   23 |   23000 |  0.00000E+00 |  0.00000E+00 |  0.013098014 |  0.015002052\n",
            "   24 |   24000 |  0.00000E+00 |  0.00000E+00 |  0.013098014 |  0.014840868\n",
            "   25 |   25000 |  0.00000E+00 |  0.00000E+00 |  0.013098014 |  0.014676435\n",
            "   26 |   26000 |  0.00000E+00 |  0.00000E+00 |  0.013098014 |  0.014542255\n",
            "   27 |   27000 |  0.00000E+00 |  0.00000E+00 |  0.013098014 |  0.014403313\n",
            "   28 |   28000 |  0.00000E+00 |  0.00000E+00 |  0.013098014 |  0.014299843\n",
            "   29 |   29000 |  0.00000E+00 |  0.00000E+00 |  0.013059192 |  0.014194321\n",
            "   30 |   30000 |  0.00000E+00 |  0.00000E+00 |  0.013059192 |  0.014108941\n",
            "   31 |   31000 |  0.00000E+00 |  0.00000E+00 |  0.013059192 |  0.014018048\n",
            "   32 |   32000 |  0.00000E+00 |  0.00000E+00 |  0.012974348 |  0.013928389\n",
            "   33 |   33000 |  0.00000E+00 |  0.00000E+00 |  0.012743359 |  0.013850410\n",
            "   34 |   34000 |  0.00000E+00 |  0.00000E+00 |  0.012743359 |  0.013782104\n",
            "   35 |   35000 |  0.00000E+00 |  0.00000E+00 |  0.012743359 |  0.013715281\n",
            "   36 |   36000 |  0.00000E+00 |  0.00000E+00 |  0.012743359 |  0.013648441\n",
            "   37 |   37000 |  0.00000E+00 |  0.00000E+00 |  0.012743359 |  0.013578400\n",
            "   38 |   38000 |  0.00000E+00 |  0.00000E+00 |  0.012743359 |  0.013516499\n",
            "   39 |   39000 |  0.00000E+00 |  0.00000E+00 |  0.012743359 |  0.013458780\n",
            "   40 |   40000 |  0.00000E+00 |  0.00000E+00 |  0.012743359 |  0.013384524\n",
            "   41 |   41000 |  0.00000E+00 |  0.00000E+00 |  0.012743359 |  0.013314863\n",
            "   42 |   42000 |  0.00000E+00 |  0.00000E+00 |  0.012698645 |  0.013259020\n",
            "   43 |   43000 |  0.00000E+00 |  0.00000E+00 |  0.012698645 |  0.013202017\n",
            "   44 |   44000 |  0.00000E+00 |  0.00000E+00 |  0.012698645 |  0.013156803\n",
            "   45 |   45000 |  0.00000E+00 |  0.00000E+00 |  0.012698645 |  0.013116914\n",
            "   46 |   46000 |  0.00000E+00 |  0.00000E+00 |  0.012698645 |  0.013081464\n",
            "   47 |   47000 |  0.00000E+00 |  0.00000E+00 |  0.012698645 |  0.013047294\n",
            "   48 |   48000 |  0.00000E+00 |  0.00000E+00 |  0.012698645 |  0.013017290\n",
            "   49 |   49000 |  0.00000E+00 |  0.00000E+00 |  0.012698645 |  0.012994958\n",
            "   50 |   50000 |  0.00000E+00 |  0.00000E+00 |  0.012698645 |  0.012973308\n",
            "   51 |   51000 |  0.00000E+00 |  0.00000E+00 |  0.012679423 |  0.012954742\n",
            "   52 |   52000 |  0.00000E+00 |  0.00000E+00 |  0.012679423 |  0.012934826\n",
            "   53 |   53000 |  0.00000E+00 |  0.00000E+00 |  0.012679423 |  0.012914220\n",
            "   54 |   54000 |  0.00000E+00 |  0.00000E+00 |  0.012679423 |  0.012898766\n",
            "   55 |   55000 |  0.00000E+00 |  0.00000E+00 |  0.012679423 |  0.012882876\n",
            "   56 |   56000 |  0.00000E+00 |  0.00000E+00 |  0.012679423 |  0.012869282\n",
            "   57 |   57000 |  0.00000E+00 |  0.00000E+00 |  0.012679423 |  0.012858887\n",
            "   58 |   58000 |  0.00000E+00 |  0.00000E+00 |  0.012679423 |  0.012850047\n",
            "   59 |   59000 |  0.00000E+00 |  0.00000E+00 |  0.012679423 |  0.012838590\n",
            "   60 |   60000 |  0.00000E+00 |  0.00000E+00 |  0.012679067 |  0.012827890\n",
            "   61 |   61000 |  0.00000E+00 |  0.00000E+00 |  0.012679067 |  0.012819131\n",
            "   62 |   62000 |  0.00000E+00 |  0.00000E+00 |  0.012679067 |  0.012809412\n",
            "   63 |   63000 |  0.00000E+00 |  0.00000E+00 |  0.012679067 |  0.012801116\n",
            "   64 |   64000 |  0.00000E+00 |  0.00000E+00 |  0.012679067 |  0.012793246\n",
            "   65 |   65000 |  0.00000E+00 |  0.00000E+00 |  0.012679067 |  0.012785679\n",
            "   66 |   66000 |  0.00000E+00 |  0.00000E+00 |  0.012679067 |  0.012779349\n",
            "   67 |   67000 |  0.00000E+00 |  0.00000E+00 |  0.012676312 |  0.012771099\n",
            "   68 |   68000 |  0.00000E+00 |  0.00000E+00 |  0.012676312 |  0.012765586\n",
            "   69 |   69000 |  0.00000E+00 |  0.00000E+00 |  0.012676312 |  0.012759297\n",
            "   70 |   70000 |  0.00000E+00 |  0.00000E+00 |  0.012676312 |  0.012753443\n",
            "   71 |   71000 |  0.00000E+00 |  0.00000E+00 |  0.012676312 |  0.012748300\n",
            "   72 |   72000 |  0.00000E+00 |  0.00000E+00 |  0.012676312 |  0.012742096\n",
            "   73 |   73000 |  0.00000E+00 |  0.00000E+00 |  0.012676312 |  0.012736872\n",
            "   74 |   74000 |  0.00000E+00 |  0.00000E+00 |  0.012676312 |  0.012732292\n",
            "   75 |   75000 |  0.00000E+00 |  0.00000E+00 |  0.012676312 |  0.012728405\n",
            "   76 |   76000 |  0.00000E+00 |  0.00000E+00 |  0.012676312 |  0.012724579\n",
            "   77 |   77000 |  0.00000E+00 |  0.00000E+00 |  0.012676312 |  0.012720198\n",
            "   78 |   78000 |  0.00000E+00 |  0.00000E+00 |  0.012676312 |  0.012716609\n",
            "   79 |   79000 |  0.00000E+00 |  0.00000E+00 |  0.012676312 |  0.012713400\n",
            "   80 |   80000 |  0.00000E+00 |  0.00000E+00 |  0.012676312 |  0.012710321\n",
            "   81 |   81000 |  0.00000E+00 |  0.00000E+00 |  0.012676312 |  0.012707263\n",
            "   82 |   82000 |  0.00000E+00 |  0.00000E+00 |  0.012675988 |  0.012704681\n",
            "   83 |   83000 |  0.00000E+00 |  0.00000E+00 |  0.012674321 |  0.012701637\n",
            "   84 |   84000 |  0.00000E+00 |  0.00000E+00 |  0.012674321 |  0.012698943\n",
            "   85 |   85000 |  0.00000E+00 |  0.00000E+00 |  0.012674321 |  0.012696697\n",
            "   86 |   86000 |  0.00000E+00 |  0.00000E+00 |  0.012674321 |  0.012694359\n",
            "   87 |   87000 |  0.00000E+00 |  0.00000E+00 |  0.012674321 |  0.012692348\n",
            "   88 |   88000 |  0.00000E+00 |  0.00000E+00 |  0.012674321 |  0.012690374\n",
            "   89 |   89000 |  0.00000E+00 |  0.00000E+00 |  0.012673011 |  0.012688318\n",
            "   90 |   90000 |  0.00000E+00 |  0.00000E+00 |  0.012673011 |  0.012686709\n",
            "   91 |   91000 |  0.00000E+00 |  0.00000E+00 |  0.012672713 |  0.012685362\n",
            "   92 |   92000 |  0.00000E+00 |  0.00000E+00 |  0.012672713 |  0.012683956\n",
            "   93 |   93000 |  0.00000E+00 |  0.00000E+00 |  0.012672713 |  0.012682555\n",
            "   94 |   94000 |  0.00000E+00 |  0.00000E+00 |  0.012672713 |  0.012681386\n",
            "   95 |   95000 |  0.00000E+00 |  0.00000E+00 |  0.012672459 |  0.012680290\n",
            "   96 |   96000 |  0.00000E+00 |  0.00000E+00 |  0.012672459 |  0.012679411\n",
            "   97 |   97000 |  0.00000E+00 |  0.00000E+00 |  0.012672459 |  0.012678783\n",
            "   98 |   98000 |  0.00000E+00 |  0.00000E+00 |  0.012672312 |  0.012678087\n",
            "   99 |   99000 |  0.00000E+00 |  0.00000E+00 |  0.012672312 |  0.012677602\n",
            "  100 |  100000 |  0.00000E+00 |  0.00000E+00 |  0.012672312 |  0.012677184\n",
            "  101 |  101000 |  0.00000E+00 |  0.00000E+00 |  0.012671857 |  0.012676760\n",
            "  102 |  102000 |  0.00000E+00 |  0.00000E+00 |  0.012671857 |  0.012676422\n",
            "  103 |  103000 |  0.00000E+00 |  0.00000E+00 |  0.012670952 |  0.012676099\n",
            "  104 |  104000 |  0.00000E+00 |  0.00000E+00 |  0.012670952 |  0.012675780\n",
            "  105 |  105000 |  0.00000E+00 |  0.00000E+00 |  0.012670697 |  0.012675483\n",
            "  106 |  106000 |  0.00000E+00 |  0.00000E+00 |  0.012670697 |  0.012675216\n",
            "  107 |  107000 |  0.00000E+00 |  0.00000E+00 |  0.012670697 |  0.012674980\n",
            "  108 |  108000 |  0.00000E+00 |  0.00000E+00 |  0.012670697 |  0.012674704\n",
            "  109 |  109000 |  0.00000E+00 |  0.00000E+00 |  0.012670697 |  0.012674418\n",
            "  110 |  110000 |  0.00000E+00 |  0.00000E+00 |  0.012670594 |  0.012674093\n",
            "  111 |  111000 |  0.00000E+00 |  0.00000E+00 |  0.012670583 |  0.012673750\n",
            "  112 |  112000 |  0.00000E+00 |  0.00000E+00 |  0.012670522 |  0.012673431\n",
            "  113 |  113000 |  0.00000E+00 |  0.00000E+00 |  0.012670522 |  0.012673185\n",
            "  114 |  114000 |  0.00000E+00 |  0.00000E+00 |  0.012670371 |  0.012672919\n",
            "  115 |  115000 |  0.00000E+00 |  0.00000E+00 |  0.012670371 |  0.012672729\n",
            "  116 |  116000 |  0.00000E+00 |  0.00000E+00 |  0.012670371 |  0.012672570\n",
            "  117 |  117000 |  0.00000E+00 |  0.00000E+00 |  0.012670371 |  0.012672390\n",
            "  118 |  118000 |  0.00000E+00 |  0.00000E+00 |  0.012670371 |  0.012672219\n",
            "  119 |  119000 |  0.00000E+00 |  0.00000E+00 |  0.012670371 |  0.012672049\n",
            "  120 |  120000 |  0.00000E+00 |  0.00000E+00 |  0.012670371 |  0.012671848\n",
            "  121 |  121000 |  0.00000E+00 |  0.00000E+00 |  0.012670371 |  0.012671669\n",
            "  122 |  122000 |  0.00000E+00 |  0.00000E+00 |  0.012670150 |  0.012671504\n",
            "  123 |  123000 |  0.00000E+00 |  0.00000E+00 |  0.012670150 |  0.012671357\n",
            "  124 |  124000 |  0.00000E+00 |  0.00000E+00 |  0.012670150 |  0.012671235\n",
            "  125 |  125000 |  0.00000E+00 |  0.00000E+00 |  0.012670150 |  0.012671119\n",
            "  126 |  126000 |  0.00000E+00 |  0.00000E+00 |  0.012670150 |  0.012671018\n",
            "  127 |  127000 |  0.00000E+00 |  0.00000E+00 |  0.012670150 |  0.012670936\n",
            "  128 |  128000 |  0.00000E+00 |  0.00000E+00 |  0.012670150 |  0.012670863\n",
            "  129 |  129000 |  0.00000E+00 |  0.00000E+00 |  0.012670150 |  0.012670788\n",
            "  130 |  130000 |  0.00000E+00 |  0.00000E+00 |  0.012670150 |  0.012670721\n",
            "  131 |  131000 |  0.00000E+00 |  0.00000E+00 |  0.012670150 |  0.012670658\n",
            "  132 |  132000 |  0.00000E+00 |  0.00000E+00 |  0.012670150 |  0.012670605\n",
            "  133 |  133000 |  0.00000E+00 |  0.00000E+00 |  0.012670082 |  0.012670564\n",
            "  134 |  134000 |  0.00000E+00 |  0.00000E+00 |  0.012670082 |  0.012670527\n",
            "  135 |  135000 |  0.00000E+00 |  0.00000E+00 |  0.012670070 |  0.012670493\n",
            "  136 |  136000 |  0.00000E+00 |  0.00000E+00 |  0.012670024 |  0.012670457\n",
            "  137 |  137000 |  0.00000E+00 |  0.00000E+00 |  0.012670024 |  0.012670427\n",
            "  138 |  138000 |  0.00000E+00 |  0.00000E+00 |  0.012670010 |  0.012670400\n",
            "  139 |  139000 |  0.00000E+00 |  0.00000E+00 |  0.012670010 |  0.012670375\n",
            "  140 |  140000 |  0.00000E+00 |  0.00000E+00 |  0.012670001 |  0.012670351\n",
            "  141 |  141000 |  0.00000E+00 |  0.00000E+00 |  0.012669944 |  0.012670327\n",
            "  142 |  142000 |  0.00000E+00 |  0.00000E+00 |  0.012669944 |  0.012670304\n",
            "  143 |  143000 |  0.00000E+00 |  0.00000E+00 |  0.012669944 |  0.012670280\n",
            "  144 |  144000 |  0.00000E+00 |  0.00000E+00 |  0.012669944 |  0.012670256\n",
            "  145 |  145000 |  0.00000E+00 |  0.00000E+00 |  0.012669944 |  0.012670233\n",
            "  146 |  146000 |  0.00000E+00 |  0.00000E+00 |  0.012669944 |  0.012670214\n",
            "  147 |  147000 |  0.00000E+00 |  0.00000E+00 |  0.012669944 |  0.012670194\n",
            "  148 |  148000 |  0.00000E+00 |  0.00000E+00 |  0.012669944 |  0.012670175\n",
            "  149 |  149000 |  0.00000E+00 |  0.00000E+00 |  0.012669944 |  0.012670159\n",
            "  150 |  150000 |  0.00000E+00 |  0.00000E+00 |  0.012669944 |  0.012670141\n",
            "  151 |  151000 |  0.00000E+00 |  0.00000E+00 |  0.012669921 |  0.012670124\n",
            "  152 |  152000 |  0.00000E+00 |  0.00000E+00 |  0.012669921 |  0.012670108\n",
            "  153 |  153000 |  0.00000E+00 |  0.00000E+00 |  0.012669921 |  0.012670092\n",
            "  154 |  154000 |  0.00000E+00 |  0.00000E+00 |  0.012669921 |  0.012670076\n",
            "  155 |  155000 |  0.00000E+00 |  0.00000E+00 |  0.012669921 |  0.012670060\n",
            "  156 |  156000 |  0.00000E+00 |  0.00000E+00 |  0.012669921 |  0.012670043\n",
            "  157 |  157000 |  0.00000E+00 |  0.00000E+00 |  0.012669921 |  0.012670023\n",
            "  158 |  158000 |  0.00000E+00 |  0.00000E+00 |  0.012669921 |  0.012670003\n",
            "  159 |  159000 |  0.00000E+00 |  0.00000E+00 |  0.012669921 |  0.012669991\n",
            "  160 |  160000 |  0.00000E+00 |  0.00000E+00 |  0.012669916 |  0.012669981\n",
            "  161 |  161000 |  0.00000E+00 |  0.00000E+00 |  0.012669908 |  0.012669972\n",
            "  162 |  162000 |  0.00000E+00 |  0.00000E+00 |  0.012669901 |  0.012669966\n",
            "  163 |  163000 |  0.00000E+00 |  0.00000E+00 |  0.012669870 |  0.012669959\n",
            "  164 |  164000 |  0.00000E+00 |  0.00000E+00 |  0.012669870 |  0.012669954\n",
            "  165 |  165000 |  0.00000E+00 |  0.00000E+00 |  0.012669870 |  0.012669948\n",
            "  166 |  166000 |  0.00000E+00 |  0.00000E+00 |  0.012669869 |  0.012669942\n",
            "  167 |  167000 |  0.00000E+00 |  0.00000E+00 |  0.012669868 |  0.012669935\n",
            "  168 |  168000 |  0.00000E+00 |  0.00000E+00 |  0.012669864 |  0.012669929\n",
            "  169 |  169000 |  0.00000E+00 |  0.00000E+00 |  0.012669864 |  0.012669924\n",
            "  170 |  170000 |  0.00000E+00 |  0.00000E+00 |  0.012669864 |  0.012669918\n",
            "  171 |  171000 |  0.00000E+00 |  0.00000E+00 |  0.012669864 |  0.012669914\n",
            "  172 |  172000 |  0.00000E+00 |  0.00000E+00 |  0.012669864 |  0.012669908\n",
            "  173 |  173000 |  0.00000E+00 |  0.00000E+00 |  0.012669864 |  0.012669903\n",
            "  174 |  174000 |  0.00000E+00 |  0.00000E+00 |  0.012669864 |  0.012669899\n",
            "  175 |  175000 |  0.00000E+00 |  0.00000E+00 |  0.012669860 |  0.012669894\n",
            "  176 |  176000 |  0.00000E+00 |  0.00000E+00 |  0.012669859 |  0.012669890\n",
            "  177 |  177000 |  0.00000E+00 |  0.00000E+00 |  0.012669857 |  0.012669886\n",
            "  178 |  178000 |  0.00000E+00 |  0.00000E+00 |  0.012669857 |  0.012669881\n",
            "  179 |  179000 |  0.00000E+00 |  0.00000E+00 |  0.012669857 |  0.012669876\n",
            "  180 |  180000 |  0.00000E+00 |  0.00000E+00 |  0.012669857 |  0.012669872\n",
            "  181 |  181000 |  0.00000E+00 |  0.00000E+00 |  0.012669857 |  0.012669869\n",
            "  182 |  182000 |  0.00000E+00 |  0.00000E+00 |  0.012669857 |  0.012669868\n",
            "  183 |  183000 |  0.00000E+00 |  0.00000E+00 |  0.012669857 |  0.012669866\n",
            "  184 |  184000 |  0.00000E+00 |  0.00000E+00 |  0.012669857 |  0.012669865\n",
            "  185 |  185000 |  0.00000E+00 |  0.00000E+00 |  0.012669857 |  0.012669863\n",
            "  186 |  186000 |  0.00000E+00 |  0.00000E+00 |  0.012669853 |  0.012669862\n",
            "  187 |  187000 |  0.00000E+00 |  0.00000E+00 |  0.012669853 |  0.012669861\n",
            "  188 |  188000 |  0.00000E+00 |  0.00000E+00 |  0.012669852 |  0.012669861\n",
            "  189 |  189000 |  0.00000E+00 |  0.00000E+00 |  0.012669850 |  0.012669860\n",
            "  190 |  190000 |  0.00000E+00 |  0.00000E+00 |  0.012669850 |  0.012669859\n",
            "  191 |  191000 |  0.00000E+00 |  0.00000E+00 |  0.012669850 |  0.012669858\n",
            "  192 |  192000 |  0.00000E+00 |  0.00000E+00 |  0.012669850 |  0.012669858\n",
            "  193 |  193000 |  0.00000E+00 |  0.00000E+00 |  0.012669850 |  0.012669857\n",
            "  194 |  194000 |  0.00000E+00 |  0.00000E+00 |  0.012669850 |  0.012669857\n",
            "  195 |  195000 |  0.00000E+00 |  0.00000E+00 |  0.012669850 |  0.012669856\n",
            "  196 |  196000 |  0.00000E+00 |  0.00000E+00 |  0.012669850 |  0.012669856\n",
            "  197 |  197000 |  0.00000E+00 |  0.00000E+00 |  0.012669850 |  0.012669855\n",
            "  198 |  198000 |  0.00000E+00 |  0.00000E+00 |  0.012669850 |  0.012669855\n",
            "  199 |  199000 |  0.00000E+00 |  0.00000E+00 |  0.012669850 |  0.012669854\n",
            "  200 |  200000 |  0.00000E+00 |  0.00000E+00 |  0.012669850 |  0.012669854\n",
            "  201 |  201000 |  0.00000E+00 |  0.00000E+00 |  0.012669850 |  0.012669853\n",
            "  202 |  202000 |  0.00000E+00 |  0.00000E+00 |  0.012669850 |  0.012669853\n",
            "  203 |  203000 |  0.00000E+00 |  0.00000E+00 |  0.012669850 |  0.012669852\n",
            "  204 |  204000 |  0.00000E+00 |  0.00000E+00 |  0.012669850 |  0.012669852\n",
            "  205 |  205000 |  0.00000E+00 |  0.00000E+00 |  0.012669849 |  0.012669851\n",
            "  206 |  206000 |  0.00000E+00 |  0.00000E+00 |  0.012669849 |  0.012669851\n",
            "  207 |  207000 |  0.00000E+00 |  0.00000E+00 |  0.012669848 |  0.012669851\n",
            "  208 |  208000 |  0.00000E+00 |  0.00000E+00 |  0.012669848 |  0.012669851\n",
            "  209 |  209000 |  0.00000E+00 |  0.00000E+00 |  0.012669848 |  0.012669850\n",
            "  210 |  210000 |  0.00000E+00 |  0.00000E+00 |  0.012669848 |  0.012669850\n",
            "  211 |  211000 |  0.00000E+00 |  0.00000E+00 |  0.012669848 |  0.012669850\n",
            "  212 |  212000 |  0.00000E+00 |  0.00000E+00 |  0.012669848 |  0.012669850\n",
            "  213 |  213000 |  0.00000E+00 |  0.00000E+00 |  0.012669848 |  0.012669850\n",
            "  214 |  214000 |  0.00000E+00 |  0.00000E+00 |  0.012669848 |  0.012669850\n",
            "  215 |  215000 |  0.00000E+00 |  0.00000E+00 |  0.012669848 |  0.012669850\n",
            "  216 |  216000 |  0.00000E+00 |  0.00000E+00 |  0.012669848 |  0.012669850\n",
            "  217 |  217000 |  0.00000E+00 |  0.00000E+00 |  0.012669848 |  0.012669849\n",
            "  218 |  218000 |  0.00000E+00 |  0.00000E+00 |  0.012669848 |  0.012669849\n",
            "  219 |  219000 |  0.00000E+00 |  0.00000E+00 |  0.012669848 |  0.012669849\n",
            "  220 |  220000 |  0.00000E+00 |  0.00000E+00 |  0.012669848 |  0.012669849\n",
            "  221 |  221000 |  0.00000E+00 |  0.00000E+00 |  0.012669848 |  0.012669849\n",
            "  222 |  222000 |  0.00000E+00 |  0.00000E+00 |  0.012669848 |  0.012669849\n",
            "  223 |  223000 |  0.00000E+00 |  0.00000E+00 |  0.012669848 |  0.012669848\n",
            "  224 |  224000 |  0.00000E+00 |  0.00000E+00 |  0.012669848 |  0.012669848\n",
            "  225 |  225000 |  0.00000E+00 |  0.00000E+00 |  0.012669848 |  0.012669848\n",
            "  226 |  226000 |  0.00000E+00 |  0.00000E+00 |  0.012669848 |  0.012669848\n",
            "  227 |  227000 |  0.00000E+00 |  0.00000E+00 |  0.012669848 |  0.012669848\n",
            "  228 |  228000 |  0.00000E+00 |  0.00000E+00 |  0.012669847 |  0.012669848\n",
            "  229 |  229000 |  0.00000E+00 |  0.00000E+00 |  0.012669847 |  0.012669848\n",
            "  230 |  230000 |  0.00000E+00 |  0.00000E+00 |  0.012669847 |  0.012669848\n",
            "  231 |  231000 |  0.00000E+00 |  0.00000E+00 |  0.012669847 |  0.012669848\n",
            "  232 |  232000 |  0.00000E+00 |  0.00000E+00 |  0.012669847 |  0.012669848\n",
            "  233 |  233000 |  0.00000E+00 |  0.00000E+00 |  0.012669847 |  0.012669848\n",
            "  234 |  234000 |  0.00000E+00 |  0.00000E+00 |  0.012669847 |  0.012669848\n",
            "  235 |  235000 |  0.00000E+00 |  0.00000E+00 |  0.012669847 |  0.012669848\n",
            "  236 |  236000 |  0.00000E+00 |  0.00000E+00 |  0.012669847 |  0.012669848\n",
            "  237 |  237000 |  0.00000E+00 |  0.00000E+00 |  0.012669847 |  0.012669848\n",
            "  238 |  238000 |  0.00000E+00 |  0.00000E+00 |  0.012669847 |  0.012669848\n",
            "  239 |  239000 |  0.00000E+00 |  0.00000E+00 |  0.012669847 |  0.012669848\n",
            "  240 |  240000 |  0.00000E+00 |  0.00000E+00 |  0.012669847 |  0.012669848\n",
            "  241 |  241000 |  0.00000E+00 |  0.00000E+00 |  0.012669847 |  0.012669847\n",
            "  242 |  242000 |  0.00000E+00 |  0.00000E+00 |  0.012669847 |  0.012669847\n",
            "  243 |  243000 |  0.00000E+00 |  0.00000E+00 |  0.012669847 |  0.012669847\n",
            "  244 |  244000 |  0.00000E+00 |  0.00000E+00 |  0.012669847 |  0.012669847\n",
            "  245 |  245000 |  0.00000E+00 |  0.00000E+00 |  0.012669847 |  0.012669847\n",
            "  246 |  246000 |  0.00000E+00 |  0.00000E+00 |  0.012669847 |  0.012669847\n",
            "  247 |  247000 |  0.00000E+00 |  0.00000E+00 |  0.012669847 |  0.012669847\n",
            "  248 |  248000 |  0.00000E+00 |  0.00000E+00 |  0.012669847 |  0.012669847\n",
            "  249 |  249000 |  0.00000E+00 |  0.00000E+00 |  0.012669847 |  0.012669847\n",
            "  250 |  250000 |  0.00000E+00 |  0.00000E+00 |  0.012669847 |  0.012669847\n",
            "  251 |  251000 |  0.00000E+00 |  0.00000E+00 |  0.012669847 |  0.012669847\n",
            "  252 |  252000 |  0.00000E+00 |  0.00000E+00 |  0.012669847 |  0.012669847\n",
            "  253 |  253000 |  0.00000E+00 |  0.00000E+00 |  0.012669847 |  0.012669847\n",
            "  254 |  254000 |  0.00000E+00 |  0.00000E+00 |  0.012669847 |  0.012669847\n",
            "  255 |  255000 |  0.00000E+00 |  0.00000E+00 |  0.012669847 |  0.012669847\n",
            "  256 |  256000 |  0.00000E+00 |  0.00000E+00 |  0.012669847 |  0.012669847\n",
            "  257 |  257000 |  0.00000E+00 |  0.00000E+00 |  0.012669847 |  0.012669847\n",
            "  258 |  258000 |  0.00000E+00 |  0.00000E+00 |  0.012669847 |  0.012669847\n",
            "  259 |  259000 |  0.00000E+00 |  0.00000E+00 |  0.012669847 |  0.012669847\n",
            "  260 |  260000 |  0.00000E+00 |  0.00000E+00 |  0.012669847 |  0.012669847\n",
            "  261 |  261000 |  0.00000E+00 |  0.00000E+00 |  0.012669847 |  0.012669847\n",
            "  262 |  262000 |  0.00000E+00 |  0.00000E+00 |  0.012669847 |  0.012669847\n",
            "  263 |  263000 |  0.00000E+00 |  0.00000E+00 |  0.012669847 |  0.012669847\n",
            "  264 |  264000 |  0.00000E+00 |  0.00000E+00 |  0.012669847 |  0.012669847\n",
            "  265 |  265000 |  0.00000E+00 |  0.00000E+00 |  0.012669810 |  0.012669847\n",
            "  266 |  266000 |  0.00000E+00 |  0.00000E+00 |  0.012669810 |  0.012669847\n",
            "  267 |  267000 |  0.00000E+00 |  0.00000E+00 |  0.012669809 |  0.012669847\n",
            "  268 |  268000 |  0.00000E+00 |  0.00000E+00 |  0.012669809 |  0.012669847\n",
            "  269 |  269000 |  0.00000E+00 |  0.00000E+00 |  0.012669809 |  0.012669847\n",
            "  270 |  270000 |  0.00000E+00 |  0.00000E+00 |  0.012669805 |  0.012669847\n",
            "  271 |  271000 |  0.00000E+00 |  0.00000E+00 |  0.012669805 |  0.012669846\n",
            "  272 |  272000 |  0.00000E+00 |  0.00000E+00 |  0.012669805 |  0.012669846\n",
            "  273 |  273000 |  0.00000E+00 |  0.00000E+00 |  0.012669805 |  0.012669845\n",
            "  274 |  274000 |  0.00000E+00 |  0.00000E+00 |  0.012669805 |  0.012669844\n",
            "  275 |  275000 |  0.00000E+00 |  0.00000E+00 |  0.012669805 |  0.012669843\n",
            "  276 |  276000 |  0.00000E+00 |  0.00000E+00 |  0.012669804 |  0.012669841\n",
            "  277 |  277000 |  0.00000E+00 |  0.00000E+00 |  0.012669801 |  0.012669839\n",
            "  278 |  278000 |  0.00000E+00 |  0.00000E+00 |  0.012669800 |  0.012669835\n",
            "  279 |  279000 |  0.00000E+00 |  0.00000E+00 |  0.012669800 |  0.012669830\n",
            "  280 |  280000 |  0.00000E+00 |  0.00000E+00 |  0.012669800 |  0.012669823\n"
          ],
          "name": "stdout"
        }
      ]
    },
    {
      "cell_type": "code",
      "metadata": {
        "id": "ynk8YB2yMTQ6",
        "outputId": "090d00aa-e8bb-44e0-aea5-e0739bc34cb1",
        "colab": {
          "base_uri": "https://localhost:8080/",
          "height": 85
        }
      },
      "source": [
        "print(\"X: \", res.X)\n",
        "print(\"Obj: \", res.F)\n",
        "print(\"Constraints: \", res.G)\n",
        "print(\"Execution time: \", res.exec_time)"
      ],
      "execution_count": 5,
      "outputs": [
        {
          "output_type": "stream",
          "text": [
            "X:  [ 0.05218557  0.36877989 10.61541748]\n",
            "Obj:  [0.0126698]\n",
            "Constraints:  [0. 0. 0. 0.]\n",
            "Execution time:  49.111677169799805\n"
          ],
          "name": "stdout"
        }
      ]
    },
    {
      "cell_type": "markdown",
      "metadata": {
        "id": "83V-V1k9MZ92"
      },
      "source": [
        "Covergence:\n",
        "\n",
        "\n",
        "\n",
        "```\n",
        "x-axis: number of function evaluations\n",
        "y-axis: optimum objective value\n",
        "```\n"
      ]
    },
    {
      "cell_type": "code",
      "metadata": {
        "id": "rKK7MdweMZmQ",
        "outputId": "78007ec2-f58a-4956-9308-b834fa5ef3a1",
        "colab": {
          "base_uri": "https://localhost:8080/",
          "height": 390
        }
      },
      "source": [
        "import matplotlib.pyplot as plt\n",
        "\n",
        "n_evals = np.array([e.evaluator.n_eval for e in res.history])\n",
        "opt = np.array([e.opt[0].F for e in res.history])\n",
        "plt.figure(figsize=(12,6))\n",
        "plt.title(\"Problem 3 Convergence: GA\")\n",
        "plt.plot(n_evals, opt, \"-\")\n",
        "plt.show()"
      ],
      "execution_count": 7,
      "outputs": [
        {
          "output_type": "display_data",
          "data": {
            "image/png": "[encoded data removed]",
            "text/plain": [
              "<Figure size 864x432 with 1 Axes>"
            ]
          },
          "metadata": {
            "tags": [],
            "needs_background": "light"
          }
        }
      ]
    },
    {
      "cell_type": "markdown",
      "metadata": {
        "id": "kOT30_KsJBoS"
      },
      "source": [
        "Convergence with logarithmic scale Y-Axis"
      ]
    },
    {
      "cell_type": "code",
      "metadata": {
        "id": "LazdYXaTMqGs",
        "outputId": "63dffbd1-2039-4f6b-a30d-fb76d42b3ce2",
        "colab": {
          "base_uri": "https://localhost:8080/",
          "height": 390
        }
      },
      "source": [
        "n_evals = np.array([e.evaluator.n_eval for e in res.history])\n",
        "opt = np.array([e.opt[0].F for e in res.history])\n",
        "plt.figure(figsize=(12,6))\n",
        "plt.title(\"Problem 3 Convergence: GA\")\n",
        "plt.plot(n_evals, opt, \"-\")\n",
        "plt.yscale(\"log\")\n",
        "plt.show()"
      ],
      "execution_count": 8,
      "outputs": [
        {
          "output_type": "display_data",
          "data": {
            "image/png": "[encoded data removed]",
            "text/plain": [
              "<Figure size 864x432 with 1 Axes>"
            ]
          },
          "metadata": {
            "tags": [],
            "needs_background": "light"
          }
        }
      ]
    }
  ]
}