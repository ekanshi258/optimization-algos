{
  "nbformat": 4,
  "nbformat_minor": 0,
  "metadata": {
    "colab": {
      "name": "clustered_design_3_ga.ipynb",
      "provenance": [],
      "authorship_tag": "ABX9TyNYbn98i3ivt4oi2bEFwjRO",
      "include_colab_link": true
    },
    "kernelspec": {
      "name": "python3",
      "display_name": "Python 3"
    }
  },
  "cells": [
    {
      "cell_type": "markdown",
      "metadata": {
        "id": "view-in-github",
        "colab_type": "text"
      },
      "source": [
        "<a href=\"https://colab.research.google.com/github/ekanshi258/optimization-algos/blob/master/clustered_design_3_ga.ipynb\" target=\"_parent\"><img src=\"https://colab.research.google.com/assets/colab-badge.svg\" alt=\"Open In Colab\"/></a>"
      ]
    },
    {
      "cell_type": "code",
      "metadata": {
        "id": "YDNxPQudMd0s"
      },
      "source": [
        "pip install pymoo"
      ],
      "execution_count": null,
      "outputs": []
    },
    {
      "cell_type": "markdown",
      "metadata": {
        "id": "4YxSsGwGM8G0"
      },
      "source": [
        "This experiment is based on the following paper:  \n",
        "_Solving structural engineering design optimization problems using an artificial bee colony algorithm_: https://www.aimsciences.org/article/doi/10.3934/jimo.2014.10.777\n",
        "\n",
        "I will be using Genetic Algo to solve the same problem as given in the paper."
      ]
    },
    {
      "cell_type": "code",
      "metadata": {
        "id": "fnILD51ONAzd"
      },
      "source": [
        "import numpy as np\n",
        "from pymoo.model.problem import FunctionalProblem\n",
        "from pymoo.algorithms.so_genetic_algorithm import GA\n",
        "\n",
        "from pymoo.factory import get_sampling, get_crossover, get_mutation, get_termination\n",
        "from pymoo.optimize import minimize\n",
        "from sklearn.datasets import make_blobs"
      ],
      "execution_count": 2,
      "outputs": []
    },
    {
      "cell_type": "markdown",
      "metadata": {
        "id": "TC0dYsGnND3p"
      },
      "source": [
        "Problem 3:  \n",
        "**Tension/Compression String Design. (Section 4.2.3).**\n",
        "\n",
        "\n",
        "---\n",
        "\n",
        "\n",
        "Objective functions:  \n",
        "```\n",
        "Minimize f(X) = (x3 + 2) * x2 * x1^2\n",
        "Such that:\n",
        "g1(X) = 1 − (x2^3 * x3)/(71785 * x1^4) <= 0\n",
        "g2(X) = (4*x2^2 − x1*x2)/12566*(x2*x1^3 − x1^4) + 1/(5108 * x1^2) − 1 <= 0\n",
        "g3(X) = 1 − (140.45 * x1)/(x2^2 * x3) <= 0\n",
        "g4(X) = (x1 + x2)/(1.5) − 1 <= 0\n",
        "\n",
        "Bounds:\n",
        "0.05 <= x1 <= 2 ; 0.25 <= x2 <= 1.3 ; 2 <= x3 <= 15\n",
        "```\n",
        "\n",
        "> Minimizing the weight of a tension/compression spring subject to constraints on minimum deflection, shear stress, surge frequency, limits on outside diameter and on design\n",
        "variables. The design variables are the mean coil diameter(x1), the wire diameter (x2) and the number of active coil (x3)."
      ]
    },
    {
      "cell_type": "code",
      "metadata": {
        "id": "chDJLfVeNHBL"
      },
      "source": [
        "#objective functions\n",
        "objs = [\n",
        "    lambda x: (x[2] + 2) * x[1] * x[0]**2,\n",
        "]\n",
        "\n",
        "# Contraint equations\n",
        "constr_ieq = [\n",
        "    lambda x: 1 - (x[1]**3 * x[2])/(71785 * x[0]**4),\n",
        "    lambda x: (4*x[1]**2 - x[0]*x[1])/(12566*(x[1] * x[0]**3 - x[0]**4)) + 1/(5108 * x[0]**2) - 1,\n",
        "    lambda x: 1 - (140.45 * x[0])/(x[1]**2 * x[2]),\n",
        "    lambda x: (x[0] + x[1])/(1.5) - 1\n",
        "]\n",
        "\n",
        "# value bounds\n",
        "lower_bound = np.array([0.05, 0.25, 2])\n",
        "upper_bound = np.array([2, 1.3, 15])\n",
        "\n",
        "# initialising problem\n",
        "problem = FunctionalProblem(3, objs, constr_ieq=constr_ieq, xl=lower_bound, xu=upper_bound)"
      ],
      "execution_count": 3,
      "outputs": []
    },
    {
      "cell_type": "markdown",
      "metadata": {
        "id": "THEtRIQ7N92A"
      },
      "source": [
        "\n",
        "Instead of starting out with a randomly generated population as we usually do, I will be generating clusters of populations, i.e. the population will be clustered into groups instead of being scattered throughout the solution space.\n",
        "\n",
        "**Reason**: Comparison of algo/solution quality with that when population is randomly scattered."
      ]
    },
    {
      "cell_type": "code",
      "metadata": {
        "id": "6h50s_M9OAAp"
      },
      "source": [
        "X, y = make_blobs(n_samples=300, centers=30, n_features=3, random_state=0)"
      ],
      "execution_count": 4,
      "outputs": []
    },
    {
      "cell_type": "code",
      "metadata": {
        "id": "KRnXtppGOGVq"
      },
      "source": [
        "algorithm = GA(\n",
        "    pop_size=1000,\n",
        "    sampling = X,\n",
        "    crossover=get_crossover(\"real_sbx\", prob=0.9, eta=15),\n",
        "    mutation=get_mutation(\"real_pm\", eta=20),\n",
        "    eliminate_duplicates=True)\n",
        "\n",
        "termination = get_termination(\"n_gen\", 280)\n",
        "\n",
        "res = minimize(problem,\n",
        "               algorithm,\n",
        "               termination,\n",
        "               seed=1,\n",
        "               save_history=True,\n",
        "               verbose=True)"
      ],
      "execution_count": null,
      "outputs": []
    },
    {
      "cell_type": "markdown",
      "metadata": {
        "id": "cOQ7AnS0OpCK"
      },
      "source": [
        "`<output hidden due to length>`\n",
        "\n",
        "Results:"
      ]
    },
    {
      "cell_type": "code",
      "metadata": {
        "id": "NbCUAfE0OqEs",
        "outputId": "55433380-34cf-4b0d-f544-b7a2a2ad21ef",
        "colab": {
          "base_uri": "https://localhost:8080/",
          "height": 85
        }
      },
      "source": [
        "print(\"X: \", res.X)\n",
        "print(\"Obj: \", res.F)\n",
        "print(\"Constraints: \", res.G)\n",
        "print(\"Execution time: \", res.exec_time)"
      ],
      "execution_count": 6,
      "outputs": [
        {
          "output_type": "stream",
          "text": [
            "X:  [ 0.05047845  0.32828536 13.17359145]\n",
            "Obj:  [0.01269264]\n",
            "Constraints:  [0. 0. 0. 0.]\n",
            "Execution time:  41.97625660896301\n"
          ],
          "name": "stdout"
        }
      ]
    },
    {
      "cell_type": "markdown",
      "metadata": {
        "id": "O0SNX6JZO5FR"
      },
      "source": [
        "Covergence:\n",
        "\n",
        "\n",
        "\n",
        "```\n",
        "x-axis: number of function evaluations\n",
        "y-axis: optimum objective value\n",
        "```\n"
      ]
    },
    {
      "cell_type": "code",
      "metadata": {
        "id": "r4wBxek2O4uB",
        "outputId": "478d228a-0a82-4a2c-d105-b01be71ee901",
        "colab": {
          "base_uri": "https://localhost:8080/",
          "height": 390
        }
      },
      "source": [
        "import matplotlib.pyplot as plt\n",
        "\n",
        "n_evals = np.array([e.evaluator.n_eval for e in res.history])\n",
        "opt = np.array([e.opt[0].F for e in res.history])\n",
        "plt.figure(figsize=(12,6))\n",
        "plt.title(\"Problem 3 Convergence: GA\")\n",
        "plt.plot(n_evals, opt, \"-\")\n",
        "plt.show()"
      ],
      "execution_count": 10,
      "outputs": [
        {
          "output_type": "display_data",
          "data": {
            "image/png": "[encoded data removed]",
            "text/plain": [
              "<Figure size 864x432 with 1 Axes>"
            ]
          },
          "metadata": {
            "tags": [],
            "needs_background": "light"
          }
        }
      ]
    },
    {
      "cell_type": "markdown",
      "metadata": {
        "id": "SsiUXWxbO_Pt"
      },
      "source": [
        "Convergence with logarithmic scale Y-Axis"
      ]
    },
    {
      "cell_type": "code",
      "metadata": {
        "id": "h7xGPcz8PDVU",
        "outputId": "4c3a36df-b668-4397-fbd2-14ce50637c5a",
        "colab": {
          "base_uri": "https://localhost:8080/",
          "height": 390
        }
      },
      "source": [
        "n_evals = np.array([e.evaluator.n_eval for e in res.history])\n",
        "opt = np.array([e.opt[0].F for e in res.history])\n",
        "plt.figure(figsize=(12,6))\n",
        "plt.title(\"Problem 3 Convergence: GA\")\n",
        "plt.plot(n_evals, opt, \"-\")\n",
        "plt.yscale(\"log\")\n",
        "plt.show()"
      ],
      "execution_count": 9,
      "outputs": [
        {
          "output_type": "display_data",
          "data": {
            "image/png": "[encoded data removed]",
            "text/plain": [
              "<Figure size 864x432 with 1 Axes>"
            ]
          },
          "metadata": {
            "tags": [],
            "needs_background": "light"
          }
        }
      ]
    }
  ]
}