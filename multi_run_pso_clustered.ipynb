{
  "nbformat": 4,
  "nbformat_minor": 0,
  "metadata": {
    "colab": {
      "name": "multi-run-pso-clustered.ipynb",
      "provenance": [],
      "toc_visible": true,
      "authorship_tag": "ABX9TyPACx7IBpWS1tFn9WJW9ek4",
      "include_colab_link": true
    },
    "kernelspec": {
      "name": "python3",
      "display_name": "Python 3"
    }
  },
  "cells": [
    {
      "cell_type": "markdown",
      "metadata": {
        "id": "view-in-github",
        "colab_type": "text"
      },
      "source": [
        "<a href=\"https://colab.research.google.com/github/ekanshi258/optimization-algos/blob/master/multi_run_pso_clustered.ipynb\" target=\"_parent\"><img src=\"https://colab.research.google.com/assets/colab-badge.svg\" alt=\"Open In Colab\"/></a>"
      ]
    },
    {
      "cell_type": "markdown",
      "metadata": {
        "id": "yDFqWj1j_Lf8"
      },
      "source": [
        "## Single Objective\n",
        "\n",
        "5 runs of clustered PSO on each of the 5 test functions. \n",
        "\n",
        "### **Initial Population: Clustered**"
      ]
    },
    {
      "cell_type": "code",
      "metadata": {
        "id": "4YU4p-M4--C8"
      },
      "source": [
        "pip install pymoo"
      ],
      "execution_count": null,
      "outputs": []
    },
    {
      "cell_type": "markdown",
      "metadata": {
        "id": "oftwDqruBY94"
      },
      "source": [
        "Imports:"
      ]
    },
    {
      "cell_type": "code",
      "metadata": {
        "id": "X7aE0812BaHO"
      },
      "source": [
        "from pymoo.algorithms.so_pso import PSO, PSOAnimation\n",
        "from pymoo.factory import Ackley\n",
        "from pymoo.optimize import minimize\n",
        "import numpy as np"
      ],
      "execution_count": null,
      "outputs": []
    },
    {
      "cell_type": "markdown",
      "metadata": {
        "id": "hdwXmhTUIWUN"
      },
      "source": [
        "Clustered Population Sample:"
      ]
    },
    {
      "cell_type": "code",
      "metadata": {
        "id": "43LexZUcFqA-"
      },
      "source": [
        "from sklearn.datasets import make_blobs\n",
        "X, y = make_blobs(n_samples=300, centers=30, n_features=2, random_state=0)"
      ],
      "execution_count": null,
      "outputs": []
    },
    {
      "cell_type": "markdown",
      "metadata": {
        "id": "ae-LnveCBojU"
      },
      "source": [
        "_____\n",
        "### Ackley"
      ]
    },
    {
      "cell_type": "code",
      "metadata": {
        "id": "7-lDZP0kBv_O",
        "outputId": "218e7471-bad4-4da1-bb52-03fe4b0698e8",
        "colab": {
          "base_uri": "https://localhost:8080/"
        }
      },
      "source": [
        "problem = Ackley()\n",
        "\n",
        "algorithm = PSO(max_velocity_rate=0.025, sampling=X)\n",
        "\n",
        "results = []\n",
        "for i in range(5):\n",
        "  res = minimize(problem,\n",
        "               algorithm,\n",
        "               seed=i,\n",
        "               save_history=False,\n",
        "               verbose=False)\n",
        "  print(i)\n",
        "  print(\"X: \", res.X)\n",
        "  print(\"Obj: \", res.F)\n",
        "  print(\"Execution time: \", res.exec_time)\n",
        "  results.append(res.F)"
      ],
      "execution_count": null,
      "outputs": [
        {
          "output_type": "stream",
          "text": [
            "0\n",
            "X:  [ 2.30115273e-08 -2.26064642e-07]\n",
            "Obj:  [6.42712835e-07]\n",
            "Execution time:  0.25630760192871094\n",
            "1\n",
            "X:  [-7.69474445e-09 -1.63541317e-08]\n",
            "Obj:  [5.11207827e-08]\n",
            "Execution time:  0.20680689811706543\n",
            "2\n",
            "X:  [-4.0905153e-09 -1.4212320e-09]\n",
            "Obj:  [1.22481727e-08]\n",
            "Execution time:  0.22061896324157715\n",
            "3\n",
            "X:  [-9.62525692e-09 -3.06946049e-08]\n",
            "Obj:  [9.09859321e-08]\n",
            "Execution time:  0.21429681777954102\n",
            "4\n",
            "X:  [-7.75378466e-09  3.71345727e-08]\n",
            "Obj:  [1.0729767e-07]\n",
            "Execution time:  0.21627354621887207\n"
          ],
          "name": "stdout"
        }
      ]
    },
    {
      "cell_type": "code",
      "metadata": {
        "id": "eO0rZaRVEQ52",
        "outputId": "bafb3acc-f300-48df-be77-bca365079fe9",
        "colab": {
          "base_uri": "https://localhost:8080/"
        }
      },
      "source": [
        "results = np.array(results)\n",
        "print(\"Min: \", np.min(results))\n",
        "print(\"Max: \", np.max(results))\n",
        "print(\"Mean: \", np.mean(results))\n",
        "print(\"Std Dev: \", np.std(results))"
      ],
      "execution_count": null,
      "outputs": [
        {
          "output_type": "stream",
          "text": [
            "Min:  1.2248172698292592e-08\n",
            "Max:  6.427128345087851e-07\n",
            "Mean:  1.8087307838143829e-07\n",
            "Std Dev:  2.3326337783205095e-07\n"
          ],
          "name": "stdout"
        }
      ]
    },
    {
      "cell_type": "markdown",
      "metadata": {
        "id": "VYj-hIGcFBvT"
      },
      "source": [
        "_____\n",
        "### Rastrigin"
      ]
    },
    {
      "cell_type": "code",
      "metadata": {
        "id": "1SIiG8y-FNsT",
        "outputId": "29991f80-4c28-484a-a5e6-8ff230b3b58a",
        "colab": {
          "base_uri": "https://localhost:8080/"
        }
      },
      "source": [
        "from pymoo.factory import Rastrigin\n",
        "problem = Rastrigin()\n",
        "\n",
        "algorithm = PSO(sampling=X)\n",
        "\n",
        "results = []\n",
        "for i in range(5):\n",
        "  res = minimize(problem,\n",
        "               algorithm,\n",
        "               seed=i,\n",
        "               save_history=False,\n",
        "               verbose=False)\n",
        "  print(i)\n",
        "  print(\"X: \", res.X)\n",
        "  print(\"Obj: \", res.F)\n",
        "  print(\"Execution time: \", res.exec_time)\n",
        "  results.append(res.F)"
      ],
      "execution_count": null,
      "outputs": [
        {
          "output_type": "stream",
          "text": [
            "0\n",
            "X:  [2.73227246e-07 5.11248749e-07]\n",
            "Obj:  [6.66631195e-11]\n",
            "Execution time:  0.39512014389038086\n",
            "1\n",
            "X:  [1.57197168e-06 8.00481912e-09]\n",
            "Obj:  [4.90256724e-10]\n",
            "Execution time:  0.21883010864257812\n",
            "2\n",
            "X:  [4.16983817e-07 1.04918659e-06]\n",
            "Obj:  [2.5288216e-10]\n",
            "Execution time:  0.25301122665405273\n",
            "3\n",
            "X:  [ 1.46690193e-07 -1.81064567e-07]\n",
            "Obj:  [1.07718279e-11]\n",
            "Execution time:  0.2735764980316162\n",
            "4\n",
            "X:  [3.10629656e-07 3.23800170e-07]\n",
            "Obj:  [3.99431599e-11]\n",
            "Execution time:  0.23770666122436523\n"
          ],
          "name": "stdout"
        }
      ]
    },
    {
      "cell_type": "code",
      "metadata": {
        "id": "hGs_bK8FFgr7",
        "outputId": "59557a38-07f2-4af6-d7e5-b284abfc7592",
        "colab": {
          "base_uri": "https://localhost:8080/"
        }
      },
      "source": [
        "results = np.array(results)\n",
        "print(\"Min: \", np.min(results))\n",
        "print(\"Max: \", np.max(results))\n",
        "print(\"Mean: \", np.mean(results))\n",
        "print(\"Std Dev: \", np.std(results))"
      ],
      "execution_count": null,
      "outputs": [
        {
          "output_type": "stream",
          "text": [
            "Min:  1.0771827874123119e-11\n",
            "Max:  4.902567241060751e-10\n",
            "Mean:  1.7210339819939692e-10\n",
            "Std Dev:  1.8019911411561695e-10\n"
          ],
          "name": "stdout"
        }
      ]
    },
    {
      "cell_type": "markdown",
      "metadata": {
        "id": "pLojRQM_GBHZ"
      },
      "source": [
        "_____\n",
        "### Rosenbrock"
      ]
    },
    {
      "cell_type": "code",
      "metadata": {
        "id": "V0UF3mlpGMcE",
        "outputId": "2c9c0fac-0379-4504-dd75-0033ae44b8a0",
        "colab": {
          "base_uri": "https://localhost:8080/"
        }
      },
      "source": [
        "from pymoo.factory import Rosenbrock\n",
        "problem = Rosenbrock()\n",
        "\n",
        "algorithm = PSO(pop_size=100, sampling=X)\n",
        "\n",
        "results = []\n",
        "for i in range(5):\n",
        "  res = minimize(problem,\n",
        "               algorithm,\n",
        "               seed=i,\n",
        "               save_history=False,\n",
        "               verbose=False)\n",
        "  print(i)\n",
        "  print(\"X: \", res.X)\n",
        "  print(\"Obj: \", res.F)\n",
        "  print(\"Execution time: \", res.exec_time)\n",
        "  results.append(res.F)"
      ],
      "execution_count": null,
      "outputs": [
        {
          "output_type": "stream",
          "text": [
            "/usr/local/lib/python3.6/dist-packages/pymoo/operators/repair/inverse_penalty.py:38: RuntimeWarning: divide by zero encountered in double_scalars\n",
            "  Y = d * (1.0 + alpha * np.tan(r * np.arctan((D - d) / (alpha * d))))\n"
          ],
          "name": "stderr"
        },
        {
          "output_type": "stream",
          "text": [
            "0\n",
            "X:  [1.00023719 1.00047305]\n",
            "Obj:  [5.64549765e-08]\n",
            "Execution time:  0.7186257839202881\n"
          ],
          "name": "stdout"
        },
        {
          "output_type": "stream",
          "text": [
            "/usr/local/lib/python3.6/dist-packages/pymoo/operators/mutation/polynomial_mutation.py:52: RuntimeWarning: invalid value encountered in power\n",
            "  d = 1.0 - (np.power(val, mut_pow))\n"
          ],
          "name": "stderr"
        },
        {
          "output_type": "stream",
          "text": [
            "1\n",
            "X:  [0.99981104 0.99962492]\n",
            "Obj:  [3.64982109e-08]\n",
            "Execution time:  0.8756451606750488\n",
            "2\n",
            "X:  [0.99980335 0.99960464]\n",
            "Obj:  [3.91085327e-08]\n",
            "Execution time:  0.8990395069122314\n",
            "3\n",
            "X:  [1.00103768 1.00207762]\n",
            "Obj:  [1.07691804e-06]\n",
            "Execution time:  0.5974175930023193\n",
            "4\n",
            "X:  [0.99919501 0.9983824 ]\n",
            "Obj:  [6.54838721e-07]\n",
            "Execution time:  0.5185151100158691\n"
          ],
          "name": "stdout"
        }
      ]
    },
    {
      "cell_type": "code",
      "metadata": {
        "id": "_DIQaBJFGa1l",
        "outputId": "799d2387-b796-4cc7-a373-e3f519805542",
        "colab": {
          "base_uri": "https://localhost:8080/"
        }
      },
      "source": [
        "results = np.array(results)\n",
        "print(\"Min: \", np.min(results))\n",
        "print(\"Max: \", np.max(results))\n",
        "print(\"Mean: \", np.mean(results))\n",
        "print(\"Std Dev: \", np.std(results))"
      ],
      "execution_count": null,
      "outputs": [
        {
          "output_type": "stream",
          "text": [
            "Min:  3.649821088290655e-08\n",
            "Max:  1.0769180439286043e-06\n",
            "Mean:  3.7276369694603434e-07\n",
            "Std Dev:  4.242289749254513e-07\n"
          ],
          "name": "stdout"
        }
      ]
    },
    {
      "cell_type": "markdown",
      "metadata": {
        "id": "fFLvIi2qHMUk"
      },
      "source": [
        "____\n",
        "### Griewank"
      ]
    },
    {
      "cell_type": "code",
      "metadata": {
        "id": "RB6LDVAuHTxq",
        "outputId": "dac5bb70-8532-45b9-c699-655edfd881ee",
        "colab": {
          "base_uri": "https://localhost:8080/"
        }
      },
      "source": [
        "from pymoo.factory import Griewank\n",
        "problem = Griewank()\n",
        "\n",
        "algorithm = PSO(sampling=X)\n",
        "\n",
        "results = []\n",
        "for i in range(5):\n",
        "  res = minimize(problem,\n",
        "               algorithm,\n",
        "               seed=i,\n",
        "               save_history=False,\n",
        "               verbose=False)\n",
        "  print(i)\n",
        "  print(\"X: \", res.X)\n",
        "  print(\"Obj: \", res.F)\n",
        "  print(\"Execution time: \", res.exec_time)\n",
        "  results.append(res.F)"
      ],
      "execution_count": null,
      "outputs": [
        {
          "output_type": "stream",
          "text": [
            "0\n",
            "X:  [-1.45293171e-05 -2.24795265e-05]\n",
            "Obj:  [2.32062036e-10]\n",
            "Execution time:  0.362377405166626\n",
            "1\n",
            "X:  [ 3.14001957 -4.43844425]\n",
            "Obj:  [0.00739604]\n",
            "Execution time:  0.2559669017791748\n",
            "2\n",
            "X:  [ 3.14004128 -4.43843455]\n",
            "Obj:  [0.00739604]\n",
            "Execution time:  0.2705402374267578\n",
            "3\n",
            "X:  [3.14001269 4.43845294]\n",
            "Obj:  [0.00739604]\n",
            "Execution time:  0.33277344703674316\n",
            "4\n",
            "X:  [8.60512718e-03 8.86829676e+00]\n",
            "Obj:  [0.019775]\n",
            "Execution time:  0.3799710273742676\n"
          ],
          "name": "stdout"
        }
      ]
    },
    {
      "cell_type": "code",
      "metadata": {
        "id": "sh4rH2uLHbeU",
        "outputId": "47f1c15c-c563-4aa0-cd20-b35025cb19de",
        "colab": {
          "base_uri": "https://localhost:8080/"
        }
      },
      "source": [
        "results = np.array(results)\n",
        "print(\"Min: \", np.min(results))\n",
        "print(\"Max: \", np.max(results))\n",
        "print(\"Mean: \", np.mean(results))\n",
        "print(\"Std Dev: \", np.std(results))"
      ],
      "execution_count": null,
      "outputs": [
        {
          "output_type": "stream",
          "text": [
            "Min:  2.3206203625392163e-10\n",
            "Max:  0.019775002960096932\n",
            "Mean:  0.008392624893065026\n",
            "Std Dev:  0.006371408336795642\n"
          ],
          "name": "stdout"
        }
      ]
    },
    {
      "cell_type": "markdown",
      "metadata": {
        "id": "SgWp8Kj3H6_e"
      },
      "source": [
        "______\n",
        "### Zakharov"
      ]
    },
    {
      "cell_type": "code",
      "metadata": {
        "id": "-kb6LuphH1zz",
        "outputId": "362a830d-3a88-4ec4-e00c-290ac9dee842",
        "colab": {
          "base_uri": "https://localhost:8080/"
        }
      },
      "source": [
        "from pymoo.factory import Zakharov\n",
        "problem = Zakharov()\n",
        "\n",
        "algorithm = PSO(sampling=X)\n",
        "\n",
        "results = []\n",
        "for i in range(5):\n",
        "  res = minimize(problem,\n",
        "               algorithm,\n",
        "               seed=i,\n",
        "               save_history=False,\n",
        "               verbose=False)\n",
        "  print(i)\n",
        "  print(\"X: \", res.X)\n",
        "  print(\"Obj: \", res.F)\n",
        "  print(\"Execution time: \", res.exec_time)\n",
        "  results.append(res.F)"
      ],
      "execution_count": null,
      "outputs": [
        {
          "output_type": "stream",
          "text": [
            "0\n",
            "X:  [1.31904360e-06 9.23472888e-07]\n",
            "Obj:  [5.09855039e-12]\n",
            "Execution time:  0.15732908248901367\n",
            "1\n",
            "X:  [-8.36753376e-06 -2.75949966e-06]\n",
            "Obj:  [1.2583941e-10]\n",
            "Execution time:  0.15444636344909668\n",
            "2\n",
            "X:  [-3.50039755e-06 -3.71718122e-06]\n",
            "Obj:  [5.59624632e-11]\n",
            "Execution time:  0.15806865692138672\n",
            "3\n",
            "X:  [-1.96076447e-05  1.24901306e-05]\n",
            "Obj:  [5.47679347e-10]\n",
            "Execution time:  0.1489582061767578\n",
            "4\n",
            "X:  [-4.76466729e-08  5.47487170e-07]\n",
            "Obj:  [5.76236218e-13]\n",
            "Execution time:  0.17932820320129395\n"
          ],
          "name": "stdout"
        }
      ]
    },
    {
      "cell_type": "code",
      "metadata": {
        "id": "p8d6Yje_IaEo",
        "outputId": "1390fda6-f2eb-4a1d-ea65-13c58dd0d314",
        "colab": {
          "base_uri": "https://localhost:8080/"
        }
      },
      "source": [
        "results = np.array(results)\n",
        "print(\"Min: \", np.min(results))\n",
        "print(\"Max: \", np.max(results))\n",
        "print(\"Mean: \", np.mean(results))\n",
        "print(\"Std Dev: \", np.std(results))"
      ],
      "execution_count": null,
      "outputs": [
        {
          "output_type": "stream",
          "text": [
            "Min:  5.762362182592364e-13\n",
            "Max:  5.47679347456088e-10\n",
            "Mean:  1.4703120138863478e-10\n",
            "Std Dev:  2.0535602173123829e-10\n"
          ],
          "name": "stdout"
        }
      ]
    }
  ]
}