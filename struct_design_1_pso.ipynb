{
  "nbformat": 4,
  "nbformat_minor": 0,
  "metadata": {
    "colab": {
      "name": "struct-design-1-pso.ipynb",
      "provenance": [],
      "collapsed_sections": [],
      "authorship_tag": "ABX9TyOskbhVifvREBNUCvTA80Cw",
      "include_colab_link": true
    },
    "kernelspec": {
      "name": "python3",
      "display_name": "Python 3"
    }
  },
  "cells": [
    {
      "cell_type": "markdown",
      "metadata": {
        "id": "view-in-github",
        "colab_type": "text"
      },
      "source": [
        "<a href=\"https://colab.research.google.com/github/ekanshi258/optimization-algos/blob/master/struct_design_1_pso.ipynb\" target=\"_parent\"><img src=\"https://colab.research.google.com/assets/colab-badge.svg\" alt=\"Open In Colab\"/></a>"
      ]
    },
    {
      "cell_type": "code",
      "metadata": {
        "id": "STrmZP5en0ez"
      },
      "source": [
        "pip install pymoo"
      ],
      "execution_count": null,
      "outputs": []
    },
    {
      "cell_type": "markdown",
      "metadata": {
        "id": "AH2g1eIWoDAO"
      },
      "source": [
        "This experiment is based on the following paper:  \n",
        "_Solving structural engineering design optimization problems using an artificial bee colony algorithm_: https://www.aimsciences.org/article/doi/10.3934/jimo.2014.10.777\n",
        "\n",
        "I will be using the PSO to solve the same problem as given in the paper."
      ]
    },
    {
      "cell_type": "code",
      "metadata": {
        "id": "mwWU5wAdoINE"
      },
      "source": [
        "import numpy as np\n",
        "from pymoo.model.problem import FunctionalProblem\n",
        "from pymoo.algorithms.so_pso import PSO\n",
        "from pymoo.factory import get_sampling, get_crossover, get_mutation, get_termination\n",
        "from pymoo.optimize import minimize"
      ],
      "execution_count": 2,
      "outputs": []
    },
    {
      "cell_type": "markdown",
      "metadata": {
        "id": "C1-Ouqg3qeXh"
      },
      "source": [
        "The paper states 3 structural design problems. \n",
        "\n",
        "Problem 1:  \n",
        "**Design of pressure vessel. (Section 4.2.1).**\n",
        "\n",
        "\n",
        "---\n",
        "\n",
        "\n",
        "Objective functions:  \n",
        "```\n",
        "Minimize f(X) = 0.6224*x1*x3*x4 + 1.7781*x2*x3^2+ 3.1661*x1^2*x4 + 19.84*x1^2*x3\n",
        "\n",
        "Such that:\n",
        "g1(X) = −x1 + 0.0193*x3 <= 0\n",
        "g2(X) = −x2 + 0.00954*x3 <= 0\n",
        "g3(X) = − pi*x3^2*x4 − 4/3 *pi*x3^3 + 1296000 <= 0\n",
        "g4(X) = x4 − 240 <= 0\n",
        "\n",
        "Bounds:\n",
        "0.0625 <= x1, x2 <= 99*0.0625 \n",
        "10 <= x3, x4 <= 200\n",
        "```\n",
        "\n",
        "> There are four design variable associated with it namely\n",
        "as thickness of the pressure vessel, Ts = x1, thickness of the head, Th = x2, inner radius of the vessel, R = x3, and length of the vessel without heads, L = x4 i.e. the variables vectors are given (in inches) by X = (Ts, Th,R,L) = (x1, x2, x3, x4).\n",
        " \n"
      ]
    },
    {
      "cell_type": "code",
      "metadata": {
        "id": "FfXQRz5YqfdD"
      },
      "source": [
        "import math\n",
        "\n",
        "pi = math.pi\n",
        "\n",
        "#objective functions\n",
        "objs = [\n",
        "    lambda x: 0.6224 * x[0]*x[2]*x[3] + 1.7781 * x[1]*x[2]**2 + 3.1661 * x[0]**2 * x[3] + 19.84*x[0]**2 * x[2],\n",
        "]\n",
        "\n",
        "# Contraint equations\n",
        "constr_ieq = [\n",
        "    lambda x: - x[0] + 0.0193*x[2],\n",
        "    lambda x: - x[1] + 0.00954*x[2],\n",
        "    lambda x: - pi*x[2]**2*x[3] - 4/3 *pi*x[2]**3 + 1296000,\n",
        "    lambda x: x[3] - 240\n",
        "]\n",
        "\n",
        "# value bounds\n",
        "lower_bound = np.array([0.0625, 0.0625, 10, 10])\n",
        "upper_bound = np.array([99*0.0625, 99*0.0625, 200, 200])\n",
        "\n",
        "# initialising problem\n",
        "problem = FunctionalProblem(4, objs, constr_ieq=constr_ieq, xl=lower_bound, xu=upper_bound)"
      ],
      "execution_count": 3,
      "outputs": []
    },
    {
      "cell_type": "markdown",
      "metadata": {
        "id": "eQRTD7tnqp3S"
      },
      "source": [
        "Initialising the PSO algorithm:"
      ]
    },
    {
      "cell_type": "code",
      "metadata": {
        "id": "C6_3Q8QDqo42"
      },
      "source": [
        "algorithm = PSO(\n",
        "    pop_size=100,\n",
        "    max_velocity_rate=0.25\n",
        ")\n",
        "\n",
        "res = minimize(problem,\n",
        "               algorithm,\n",
        "               seed=1,\n",
        "               save_history=True,\n",
        "               verbose=True)"
      ],
      "execution_count": null,
      "outputs": []
    },
    {
      "cell_type": "markdown",
      "metadata": {
        "id": "vG-4Oa0gua7n"
      },
      "source": [
        "Results:"
      ]
    },
    {
      "cell_type": "code",
      "metadata": {
        "id": "IMNoK80Auc0Q",
        "outputId": "ce1eec77-3238-40b7-8141-c2520a33a867",
        "colab": {
          "base_uri": "https://localhost:8080/",
          "height": 68
        }
      },
      "source": [
        "print(\"X: \", res.X)\n",
        "print(\"Obj: \", res.F)\n",
        "print(\"Constraints: \", res.G)"
      ],
      "execution_count": 5,
      "outputs": [
        {
          "output_type": "stream",
          "text": [
            "X:  [  0.8906855    0.44026628  46.14950437 132.1635093 ]\n",
            "Obj:  [6106.81102015]\n",
            "Constraints:  [0. 0. 0. 0.]\n"
          ],
          "name": "stdout"
        }
      ]
    },
    {
      "cell_type": "code",
      "metadata": {
        "id": "2p9GxIm4uxqp",
        "outputId": "17249a89-09eb-4522-b4ad-c3c08a9cfde2",
        "colab": {
          "base_uri": "https://localhost:8080/",
          "height": 34
        }
      },
      "source": [
        "res.exec_time"
      ],
      "execution_count": 6,
      "outputs": [
        {
          "output_type": "execute_result",
          "data": {
            "text/plain": [
              "14.481839895248413"
            ]
          },
          "metadata": {
            "tags": []
          },
          "execution_count": 6
        }
      ]
    },
    {
      "cell_type": "markdown",
      "metadata": {
        "id": "YZqOEszQuvp0"
      },
      "source": [
        "Convergence:"
      ]
    },
    {
      "cell_type": "code",
      "metadata": {
        "id": "SW1NY4yzu8Sz",
        "outputId": "d5e1b26f-0121-4ab2-de1b-f4773dee36c5",
        "colab": {
          "base_uri": "https://localhost:8080/",
          "height": 390
        }
      },
      "source": [
        "import matplotlib.pyplot as plt\n",
        "\n",
        "n_evals = np.array([e.evaluator.n_eval for e in res.history])\n",
        "opt = np.array([e.opt[0].F for e in res.history])\n",
        "plt.figure(figsize=(12,6))\n",
        "plt.title(\"Problem 1 Convergence: PSO\")\n",
        "plt.plot(n_evals, opt, \"-\")\n",
        "plt.show()"
      ],
      "execution_count": 9,
      "outputs": [
        {
          "output_type": "display_data",
          "data": {
            "image/png": "[encoded data removed]",
            "text/plain": [
              "<Figure size 864x432 with 1 Axes>"
            ]
          },
          "metadata": {
            "tags": [],
            "needs_background": "light"
          }
        }
      ]
    },
    {
      "cell_type": "markdown",
      "metadata": {
        "id": "t4TGZZSpmitW"
      },
      "source": [
        "Convergence with logarithmic scale Y-Axis"
      ]
    },
    {
      "cell_type": "code",
      "metadata": {
        "id": "rkbPDffGmdlJ",
        "outputId": "3456de0d-712a-4f5e-98cb-6e27df1a54be",
        "colab": {
          "base_uri": "https://localhost:8080/",
          "height": 390
        }
      },
      "source": [
        "n_evals = np.array([e.evaluator.n_eval for e in res.history])\n",
        "opt = np.array([e.opt[0].F for e in res.history])\n",
        "plt.figure(figsize=(12,6))\n",
        "plt.title(\"Problem 1 Convergence: PSO\")\n",
        "plt.plot(n_evals, opt, \"-\")\n",
        "plt.yscale(\"log\")\n",
        "plt.show()"
      ],
      "execution_count": 11,
      "outputs": [
        {
          "output_type": "display_data",
          "data": {
            "image/png": "[encoded data removed]",
            "text/plain": [
              "<Figure size 864x432 with 1 Axes>"
            ]
          },
          "metadata": {
            "tags": [],
            "needs_background": "light"
          }
        }
      ]
    }
  ]
}