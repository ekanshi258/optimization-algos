{
  "nbformat": 4,
  "nbformat_minor": 0,
  "metadata": {
    "colab": {
      "name": "PSO-Concrete.ipynb",
      "provenance": [],
      "collapsed_sections": [],
      "authorship_tag": "ABX9TyM3TTUveZOOu3QKHCeKbHaf",
      "include_colab_link": true
    },
    "kernelspec": {
      "name": "python3",
      "display_name": "Python 3"
    }
  },
  "cells": [
    {
      "cell_type": "markdown",
      "metadata": {
        "id": "view-in-github",
        "colab_type": "text"
      },
      "source": [
        "<a href=\"https://colab.research.google.com/github/ekanshi258/optimization-algos/blob/master/PSO-Concrete.ipynb\" target=\"_parent\"><img src=\"https://colab.research.google.com/assets/colab-badge.svg\" alt=\"Open In Colab\"/></a>"
      ]
    },
    {
      "cell_type": "markdown",
      "metadata": {
        "id": "7ikH_Ph1K--S",
        "colab_type": "text"
      },
      "source": [
        "This experiment applies Particle Swarm Optimisation for applications in Civil Engineering\n",
        "\n",
        "**Based on the paper:**   \n",
        "Cost Optimization of No-Slump Concrete Using Genetic\n",
        "Algorithm and Particle Swarm Optimization  \n",
        "Hamed Naseri  \n",
        "http://www.ijimt.org/vol10/832-CM0015.pdf \n",
        "\n",
        "**Some differences:** This code does not consider the need for a certain compressive strength range as mentioned in the paper. The only objective here is to reduce cost at the moment. **(Single Objective)**"
      ]
    },
    {
      "cell_type": "code",
      "metadata": {
        "id": "iBzUMyNWK2Cz",
        "colab_type": "code",
        "colab": {}
      },
      "source": [
        "pip install pyswarms"
      ],
      "execution_count": null,
      "outputs": []
    },
    {
      "cell_type": "code",
      "metadata": {
        "id": "Lzjf2z-RLaxh",
        "colab_type": "code",
        "colab": {}
      },
      "source": [
        "import pyswarms as ps\n",
        "from pyswarms.utils.functions import single_obj as fx\n",
        "options = {'c1': 0.5, 'c2': 0.3, 'w':0.9}\n"
      ],
      "execution_count": null,
      "outputs": []
    },
    {
      "cell_type": "markdown",
      "metadata": {
        "id": "jjQQnjagOXzI",
        "colab_type": "text"
      },
      "source": [
        "𝐶𝑜𝑠𝑡 = 𝑃C\\*𝐶 + 𝑃𝑆𝐹\\*𝑆𝐹 + 𝑃W\\*𝑊 + 𝑃𝐹𝐴\\*𝐹𝐴 + 𝑃𝐶𝐴\\*𝐶𝐴 + 𝑃𝐹i\\*𝐹i\n",
        "\n",
        "where P is the unit price of each material in Iranian Rials, and the rest are the weights of each material in Kg.\n",
        "\n",
        "Dimensions are a form of the following ordered tuple of weights:  \n",
        "`[cement (c), silica fume (sf), water (w), fine aggregate (fa), coarse aggregate (ca), filler (fi)]`"
      ]
    },
    {
      "cell_type": "code",
      "metadata": {
        "id": "AcxL_YMkOUYo",
        "colab_type": "code",
        "colab": {}
      },
      "source": [
        "import numpy as np\n",
        "#Creating Bounds\n",
        "max_bound = np.array([410, 27.3, 139.7, 1300, 1440.6, 188])\n",
        "min_bound = np.array([252.6, 0, 95, 354.2, 600, 0])\n",
        "bounds = (min_bound, max_bound)\n",
        "\n",
        "#Optimizer initialisation\n",
        "optimizer = ps.single.GlobalBestPSO(n_particles=10, dimensions=6, options=options, bounds=bounds)\n"
      ],
      "execution_count": null,
      "outputs": []
    },
    {
      "cell_type": "markdown",
      "metadata": {
        "id": "4Qdm6KFnaKlx",
        "colab_type": "text"
      },
      "source": [
        "Now we write the objective function (aka, cost function that we need to minimize), using the _Cost_ calculation as shown earlier, and the following values:  \n",
        "___________________\n",
        "Material - Price/wt  \n",
        "___\n",
        "Cement - 1200   \n",
        "Silica fume - 7000   \n",
        "Water - 150   \n",
        "Fine aggregate - 200   \n",
        "Coarse aggregate - 120  \n",
        "Filler - 280  "
      ]
    },
    {
      "cell_type": "code",
      "metadata": {
        "id": "Ca-UQp8XaSYe",
        "colab_type": "code",
        "colab": {}
      },
      "source": [
        "def costFunc(x, c, sf, w, fa, ca, fi):\n",
        "  f = x[:,0]*c + x[:,1]*sf + x[:,2]*w + x[:,3]*fa + x[:,4]*ca + x[:,5]*fi\n",
        "  return f "
      ],
      "execution_count": null,
      "outputs": []
    },
    {
      "cell_type": "markdown",
      "metadata": {
        "id": "IVADdxLxfDQi",
        "colab_type": "text"
      },
      "source": [
        "Now, we use the GBest PSO to get our optimal cost and the position, i.e. the values of weights of each"
      ]
    },
    {
      "cell_type": "code",
      "metadata": {
        "id": "piNAfbQ00dOa",
        "colab_type": "code",
        "colab": {
          "base_uri": "https://localhost:8080/",
          "height": 105
        },
        "outputId": "f0e8d0dc-6dba-4040-cb1d-69d74741a94a"
      },
      "source": [
        "#prices per unit weight\n",
        "kwargs = {'c': 1200, 'sf': 7000, 'w': 150, 'fa': 200, 'ca': 120, 'fi': 280}\n",
        "cost, pos =  optimizer.optimize(costFunc, 1000, **kwargs)"
      ],
      "execution_count": null,
      "outputs": [
        {
          "output_type": "stream",
          "text": [
            "2020-09-05 10:36:54,124 - pyswarms.single.global_best - INFO - Optimize for 1000 iters with {'c1': 0.5, 'c2': 0.3, 'w': 0.9}\n",
            "pyswarms.single.global_best: 100%|██████████|1000/1000, best_cost=4.91e+5\n",
            "2020-09-05 10:36:55,812 - pyswarms.single.global_best - INFO - Optimization finished | best cost: 491066.467667448, best pos: [2.59050549e+02 4.20856668e-01 1.05291187e+02 3.97935450e+02\n",
            " 6.19926599e+02 2.67423283e+01]\n"
          ],
          "name": "stderr"
        }
      ]
    },
    {
      "cell_type": "markdown",
      "metadata": {
        "id": "b8wDhShD18Um",
        "colab_type": "text"
      },
      "source": [
        "From the Result above, it is seen that the best cost was `491066.47 Iranian rials`, when the weights (Kg) of each of the 6 materials are as follows:  \n",
        "`[259.05, 0.42, 105.29, 397.94, 619.93, 26.74]`"
      ]
    },
    {
      "cell_type": "code",
      "metadata": {
        "id": "Ny7K6jko17D3",
        "colab_type": "code",
        "colab": {
          "base_uri": "https://localhost:8080/",
          "height": 513
        },
        "outputId": "546f42ec-6420-438d-93b6-75187e27a912"
      },
      "source": [
        "import matplotlib.pyplot as plt\n",
        "from pyswarms.utils.plotters import plot_cost_history\n",
        "plot_cost_history(cost_history=optimizer.cost_history)\n",
        "plt.show()"
      ],
      "execution_count": null,
      "outputs": [
        {
          "output_type": "display_data",
          "data": {
            "image/png": "[encoded data removed]",
            "text/plain": [
              "<Figure size 720x576 with 1 Axes>"
            ]
          },
          "metadata": {
            "tags": [],
            "needs_background": "light"
          }
        }
      ]
    },
    {
      "cell_type": "markdown",
      "metadata": {
        "id": "QglomHOV5Ekd",
        "colab_type": "text"
      },
      "source": [
        "Some observations:\n",
        "\n",
        "- The cost suddenly reduced close to the 1000th iteration. It is possible that more changes could be seen in much further iterations\n",
        "\n",
        "- GridSearch could be employed on the `options` (weightage given to history and local/globa best), but it would be computationally much more expensive."
      ]
    }
  ]
}