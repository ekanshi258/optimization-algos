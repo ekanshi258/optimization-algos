{
  "nbformat": 4,
  "nbformat_minor": 0,
  "metadata": {
    "colab": {
      "name": "clustered_design_1_ga.ipynb",
      "provenance": [],
      "collapsed_sections": [],
      "authorship_tag": "ABX9TyNm3c8PwaI/Sy2TjDuxNCGo",
      "include_colab_link": true
    },
    "kernelspec": {
      "name": "python3",
      "display_name": "Python 3"
    }
  },
  "cells": [
    {
      "cell_type": "markdown",
      "metadata": {
        "id": "view-in-github",
        "colab_type": "text"
      },
      "source": [
        "<a href=\"https://colab.research.google.com/github/ekanshi258/optimization-algos/blob/master/clustered_design_1_ga.ipynb\" target=\"_parent\"><img src=\"https://colab.research.google.com/assets/colab-badge.svg\" alt=\"Open In Colab\"/></a>"
      ]
    },
    {
      "cell_type": "code",
      "metadata": {
        "id": "AovrLJ2ZnuSJ"
      },
      "source": [
        "pip install pymoo"
      ],
      "execution_count": null,
      "outputs": []
    },
    {
      "cell_type": "markdown",
      "metadata": {
        "id": "3d0kJ_9ftIRt"
      },
      "source": [
        "This experiment is based on the following paper:  \n",
        "_Solving structural engineering design optimization problems using an artificial bee colony algorithm_: https://www.aimsciences.org/article/doi/10.3934/jimo.2014.10.777\n",
        "\n",
        "I will be using the Genetic Algo to solve the same problem as given in the paper."
      ]
    },
    {
      "cell_type": "code",
      "metadata": {
        "id": "U3iKswe1veCP"
      },
      "source": [
        "import numpy as np\n",
        "from pymoo.model.problem import FunctionalProblem\n",
        "from pymoo.algorithms.so_genetic_algorithm import GA\n",
        "\n",
        "from pymoo.factory import get_sampling, get_crossover, get_mutation, get_termination\n",
        "from pymoo.optimize import minimize\n",
        "from sklearn.datasets import make_blobs"
      ],
      "execution_count": null,
      "outputs": []
    },
    {
      "cell_type": "markdown",
      "metadata": {
        "id": "6tgNTFjkv2nM"
      },
      "source": [
        "Problem 1:  \n",
        "**Design of pressure vessel. (Section 4.2.1).**\n",
        "\n",
        "\n",
        "---\n",
        "\n",
        "\n",
        "Objective functions:  \n",
        "```\n",
        "Minimize f(X) = 0.6224*x1*x3*x4 + 1.7781*x2*x3^2+ 3.1661*x1^2*x4 + 19.84*x1^2*x3\n",
        "\n",
        "Such that:\n",
        "g1(X) = −x1 + 0.0193*x3 <= 0\n",
        "g2(X) = −x2 + 0.00954*x3 <= 0\n",
        "g3(X) = − pi*x3^2*x4 − 4/3 *pi*x3^3 + 1296000 <= 0\n",
        "g4(X) = x4 − 240 <= 0\n",
        "\n",
        "Bounds:\n",
        "0.0625 <= x1, x2 <= 99*0.0625 \n",
        "10 <= x3, x4 <= 200\n",
        "```\n",
        "\n",
        "> There are four design variable associated with it namely\n",
        "as thickness of the pressure vessel, Ts = x1, thickness of the head, Th = x2, inner radius of the vessel, R = x3, and length of the vessel without heads, L = x4 i.e. the variables vectors are given (in inches) by X = (Ts, Th,R,L) = (x1, x2, x3, x4)."
      ]
    },
    {
      "cell_type": "code",
      "metadata": {
        "id": "ESe-Aefrv6pZ"
      },
      "source": [
        "import math\n",
        "pi = math.pi\n",
        "\n",
        "#objective functions\n",
        "objs = [\n",
        "    lambda x: 0.6224 * x[0]*x[2]*x[3] + 1.7781 * x[1]*x[2]**2 + 3.1661 * x[0]**2 * x[3] + 19.84*x[0]**2 * x[2],\n",
        "]\n",
        "\n",
        "# Contraint equations\n",
        "constr_ieq = [\n",
        "    lambda x: - x[0] + 0.0193*x[2],\n",
        "    lambda x: - x[1] + 0.00954*x[2],\n",
        "    lambda x: - pi*x[2]**2*x[3] - 4/3 *pi*x[2]**3 + 1296000,\n",
        "    lambda x: x[3] - 240\n",
        "]\n",
        "\n",
        "# value bounds\n",
        "lower_bound = np.array([0.0625, 0.0625, 10, 10])\n",
        "upper_bound = np.array([99*0.0625, 99*0.0625, 200, 200])\n",
        "\n",
        "# initialising problem\n",
        "problem = FunctionalProblem(4, objs, constr_ieq=constr_ieq, xl=lower_bound, xu=upper_bound)"
      ],
      "execution_count": null,
      "outputs": []
    },
    {
      "cell_type": "markdown",
      "metadata": {
        "id": "scOKVazFv_JA"
      },
      "source": [
        "Instead of starting out with a randomly generated population as we usually do, I will be generating clusters of populations, i.e. the population will be clustered into groups instead of being scattered throughout the solution space.\n",
        "\n",
        "**Reason**: Comparison of algo/solution quality with that when population is randomly scattered."
      ]
    },
    {
      "cell_type": "code",
      "metadata": {
        "id": "hPkttibKwCoe"
      },
      "source": [
        "# Generating 30 clusters:\n",
        "X, y = make_blobs(n_samples=300, centers=30, n_features=4, random_state=0)"
      ],
      "execution_count": null,
      "outputs": []
    },
    {
      "cell_type": "markdown",
      "metadata": {
        "id": "6b_XdZ9nwBiC"
      },
      "source": [
        "Starting GA:"
      ]
    },
    {
      "cell_type": "code",
      "metadata": {
        "id": "QLux2KHRwQMQ",
        "outputId": "88109776-b4f8-4c75-e50f-51c495587422",
        "colab": {
          "base_uri": "https://localhost:8080/",
          "height": 1000
        }
      },
      "source": [
        "algorithm = GA(\n",
        "    pop_size=1000,\n",
        "    sampling = X,\n",
        "    crossover=get_crossover(\"real_sbx\", prob=0.9, eta=15),\n",
        "    mutation=get_mutation(\"real_pm\", eta=20),\n",
        "    eliminate_duplicates=True)\n",
        "\n",
        "termination = get_termination(\"n_gen\", 280)\n",
        "\n",
        "res = minimize(problem,\n",
        "               algorithm,\n",
        "               termination,\n",
        "               seed=1,\n",
        "               save_history=True,\n",
        "               verbose=True)"
      ],
      "execution_count": null,
      "outputs": [
        {
          "output_type": "stream",
          "text": [
            "===========================================================================\n",
            "n_gen |  n_eval |   cv (min)   |   cv (avg)   |     fopt     |     favg    \n",
            "===========================================================================\n",
            "    1 |     300 |  1.28801E+06 |  1.29600E+06 |            - |            -\n",
            "    2 |    1300 |  4.94540E+05 |  1.27660E+06 |            - |            -\n"
          ],
          "name": "stdout"
        },
        {
          "output_type": "stream",
          "text": [
            "/usr/local/lib/python3.6/dist-packages/pymoo/operators/crossover/simulated_binary_crossover.py:45: RuntimeWarning: invalid value encountered in power\n",
            "  betaq[mask] = np.power((rand * alpha), (1.0 / (self.eta + 1.0)))[mask]\n",
            "/usr/local/lib/python3.6/dist-packages/pymoo/operators/mutation/polynomial_mutation.py:47: RuntimeWarning: invalid value encountered in power\n",
            "  d = np.power(val, mut_pow) - 1.0\n",
            "/usr/local/lib/python3.6/dist-packages/pymoo/operators/mutation/polynomial_mutation.py:52: RuntimeWarning: invalid value encountered in power\n",
            "  d = 1.0 - (np.power(val, mut_pow))\n",
            "/usr/local/lib/python3.6/dist-packages/pymoo/operators/mutation/polynomial_mutation.py:59: RuntimeWarning: invalid value encountered in less\n",
            "  _Y[_Y < xl] = xl[_Y < xl]\n",
            "/usr/local/lib/python3.6/dist-packages/pymoo/operators/mutation/polynomial_mutation.py:60: RuntimeWarning: invalid value encountered in greater\n",
            "  _Y[_Y > xu] = xu[_Y > xu]\n",
            "/usr/local/lib/python3.6/dist-packages/pymoo/operators/repair/to_bound.py:13: RuntimeWarning: invalid value encountered in less\n",
            "  X[X < xl] = xl[X < xl]\n",
            "/usr/local/lib/python3.6/dist-packages/pymoo/operators/repair/to_bound.py:17: RuntimeWarning: invalid value encountered in greater\n",
            "  X[X > xu] = xu[X > xu]\n",
            "/usr/local/lib/python3.6/dist-packages/pymoo/model/problem.py:587: RuntimeWarning: invalid value encountered in less\n",
            "  ieq[ieq < 0] = 0\n"
          ],
          "name": "stderr"
        },
        {
          "output_type": "stream",
          "text": [
            "    3 |    2300 |  2.82250E+05 |  1.24511E+06 |            - |            -\n",
            "    4 |    3300 |  1.235328423 |  1.16033E+06 |            - |            -\n",
            "    5 |    4300 |  0.00000E+00 |  9.94084E+05 |  6.99277E+04 |  6.99277E+04\n",
            "    6 |    5300 |  0.00000E+00 |  7.32086E+05 |  1.99885E+04 |  5.08802E+04\n",
            "    7 |    6300 |  0.00000E+00 |  3.97089E+05 |  1.48105E+04 |  5.52664E+04\n",
            "    8 |    7300 |  0.00000E+00 |  1.10706E+05 |  1.48105E+04 |  5.71128E+04\n",
            "    9 |    8300 |  0.00000E+00 |  0.362639733 |  1.37262E+04 |  5.88892E+04\n",
            "   10 |    9300 |  0.00000E+00 |  0.002754730 |  8.67128E+03 |  5.83352E+04\n",
            "   11 |   10300 |  0.00000E+00 |  0.00000E+00 |  8.67128E+03 |  3.36035E+04\n",
            "   12 |   11300 |  0.00000E+00 |  0.00000E+00 |  8.12381E+03 |  2.34643E+04\n",
            "   13 |   12300 |  0.00000E+00 |  0.00000E+00 |  8.12381E+03 |  1.83978E+04\n",
            "   14 |   13300 |  0.00000E+00 |  0.00000E+00 |  8.12381E+03 |  1.50428E+04\n",
            "   15 |   14300 |  0.00000E+00 |  0.00000E+00 |  8.12381E+03 |  1.29098E+04\n",
            "   16 |   15300 |  0.00000E+00 |  0.00000E+00 |  7.84902E+03 |  1.15624E+04\n",
            "   17 |   16300 |  0.00000E+00 |  0.00000E+00 |  7.70765E+03 |  1.05457E+04\n",
            "   18 |   17300 |  0.00000E+00 |  0.00000E+00 |  7.70765E+03 |  9.83584E+03\n",
            "   19 |   18300 |  0.00000E+00 |  0.00000E+00 |  7.69211E+03 |  9.30646E+03\n",
            "   20 |   19300 |  0.00000E+00 |  0.00000E+00 |  7.56759E+03 |  8.92667E+03\n",
            "   21 |   20300 |  0.00000E+00 |  0.00000E+00 |  7.44228E+03 |  8.62737E+03\n",
            "   22 |   21300 |  0.00000E+00 |  0.00000E+00 |  7.44228E+03 |  8.39431E+03\n",
            "   23 |   22300 |  0.00000E+00 |  0.00000E+00 |  7.44228E+03 |  8.21330E+03\n",
            "   24 |   23300 |  0.00000E+00 |  0.00000E+00 |  7.44228E+03 |  8.05807E+03\n",
            "   25 |   24300 |  0.00000E+00 |  0.00000E+00 |  7.44228E+03 |  7.93606E+03\n",
            "   26 |   25300 |  0.00000E+00 |  0.00000E+00 |  7.41059E+03 |  7.83895E+03\n",
            "   27 |   26300 |  0.00000E+00 |  0.00000E+00 |  7.41059E+03 |  7.76475E+03\n",
            "   28 |   27300 |  0.00000E+00 |  0.00000E+00 |  7.39066E+03 |  7.69922E+03\n",
            "   29 |   28300 |  0.00000E+00 |  0.00000E+00 |  7.39066E+03 |  7.64110E+03\n",
            "   30 |   29300 |  0.00000E+00 |  0.00000E+00 |  7.39066E+03 |  7.59538E+03\n",
            "   31 |   30300 |  0.00000E+00 |  0.00000E+00 |  7.32446E+03 |  7.55781E+03\n",
            "   32 |   31300 |  0.00000E+00 |  0.00000E+00 |  7.29487E+03 |  7.53350E+03\n",
            "   33 |   32300 |  0.00000E+00 |  0.00000E+00 |  7.29487E+03 |  7.51134E+03\n",
            "   34 |   33300 |  0.00000E+00 |  0.00000E+00 |  7.29100E+03 |  7.49048E+03\n",
            "   35 |   34300 |  0.00000E+00 |  0.00000E+00 |  7.06355E+03 |  7.47196E+03\n",
            "   36 |   35300 |  0.00000E+00 |  0.00000E+00 |  7.06355E+03 |  7.45694E+03\n",
            "   37 |   36300 |  0.00000E+00 |  0.00000E+00 |  7.06355E+03 |  7.44431E+03\n",
            "   38 |   37300 |  0.00000E+00 |  0.00000E+00 |  6.91426E+03 |  7.43271E+03\n",
            "   39 |   38300 |  0.00000E+00 |  0.00000E+00 |  6.91426E+03 |  7.42249E+03\n",
            "   40 |   39300 |  0.00000E+00 |  0.00000E+00 |  6.91426E+03 |  7.41340E+03\n",
            "   41 |   40300 |  0.00000E+00 |  0.00000E+00 |  6.91426E+03 |  7.40457E+03\n",
            "   42 |   41300 |  0.00000E+00 |  0.00000E+00 |  6.91426E+03 |  7.39449E+03\n",
            "   43 |   42300 |  0.00000E+00 |  0.00000E+00 |  6.91182E+03 |  7.38552E+03\n",
            "   44 |   43300 |  0.00000E+00 |  0.00000E+00 |  6.91182E+03 |  7.37854E+03\n",
            "   45 |   44300 |  0.00000E+00 |  0.00000E+00 |  6.91182E+03 |  7.37092E+03\n",
            "   46 |   45300 |  0.00000E+00 |  0.00000E+00 |  6.91182E+03 |  7.36491E+03\n",
            "   47 |   46300 |  0.00000E+00 |  0.00000E+00 |  6.91182E+03 |  7.35798E+03\n",
            "   48 |   47300 |  0.00000E+00 |  0.00000E+00 |  6.89141E+03 |  7.35168E+03\n",
            "   49 |   48300 |  0.00000E+00 |  0.00000E+00 |  6.86820E+03 |  7.34301E+03\n",
            "   50 |   49300 |  0.00000E+00 |  0.00000E+00 |  6.86820E+03 |  7.33724E+03\n",
            "   51 |   50300 |  0.00000E+00 |  0.00000E+00 |  6.86820E+03 |  7.32679E+03\n",
            "   52 |   51300 |  0.00000E+00 |  0.00000E+00 |  6.86120E+03 |  7.31460E+03\n",
            "   53 |   52300 |  0.00000E+00 |  0.00000E+00 |  6.86120E+03 |  7.30033E+03\n",
            "   54 |   53300 |  0.00000E+00 |  0.00000E+00 |  6.86120E+03 |  7.27786E+03\n",
            "   55 |   54300 |  0.00000E+00 |  0.00000E+00 |  6.86120E+03 |  7.24519E+03\n",
            "   56 |   55300 |  0.00000E+00 |  0.00000E+00 |  6.85322E+03 |  7.19475E+03\n",
            "   57 |   56300 |  0.00000E+00 |  0.00000E+00 |  6.85322E+03 |  7.13115E+03\n",
            "   58 |   57300 |  0.00000E+00 |  0.00000E+00 |  6.78740E+03 |  7.06363E+03\n",
            "   59 |   58300 |  0.00000E+00 |  0.00000E+00 |  6.78740E+03 |  7.01282E+03\n",
            "   60 |   59300 |  0.00000E+00 |  0.00000E+00 |  6.78740E+03 |  6.98475E+03\n",
            "   61 |   60300 |  0.00000E+00 |  0.00000E+00 |  6.78740E+03 |  6.95819E+03\n",
            "   62 |   61300 |  0.00000E+00 |  0.00000E+00 |  6.78740E+03 |  6.93951E+03\n",
            "   63 |   62300 |  0.00000E+00 |  0.00000E+00 |  6.77249E+03 |  6.92419E+03\n",
            "   64 |   63300 |  0.00000E+00 |  0.00000E+00 |  6.77249E+03 |  6.90860E+03\n",
            "   65 |   64300 |  0.00000E+00 |  0.00000E+00 |  6.77249E+03 |  6.89467E+03\n",
            "   66 |   65300 |  0.00000E+00 |  0.00000E+00 |  6.77249E+03 |  6.88236E+03\n",
            "   67 |   66300 |  0.00000E+00 |  0.00000E+00 |  6.77102E+03 |  6.87042E+03\n",
            "   68 |   67300 |  0.00000E+00 |  0.00000E+00 |  6.77052E+03 |  6.85919E+03\n",
            "   69 |   68300 |  0.00000E+00 |  0.00000E+00 |  6.76747E+03 |  6.84950E+03\n",
            "   70 |   69300 |  0.00000E+00 |  0.00000E+00 |  6.76556E+03 |  6.84068E+03\n",
            "   71 |   70300 |  0.00000E+00 |  0.00000E+00 |  6.76556E+03 |  6.83340E+03\n",
            "   72 |   71300 |  0.00000E+00 |  0.00000E+00 |  6.74481E+03 |  6.82688E+03\n",
            "   73 |   72300 |  0.00000E+00 |  0.00000E+00 |  6.74481E+03 |  6.82049E+03\n",
            "   74 |   73300 |  0.00000E+00 |  0.00000E+00 |  6.74453E+03 |  6.81403E+03\n",
            "   75 |   74300 |  0.00000E+00 |  0.00000E+00 |  6.74453E+03 |  6.80890E+03\n",
            "   76 |   75300 |  0.00000E+00 |  0.00000E+00 |  6.74453E+03 |  6.80445E+03\n",
            "   77 |   76300 |  0.00000E+00 |  0.00000E+00 |  6.74453E+03 |  6.79966E+03\n",
            "   78 |   77300 |  0.00000E+00 |  0.00000E+00 |  6.74243E+03 |  6.79459E+03\n",
            "   79 |   78300 |  0.00000E+00 |  0.00000E+00 |  6.74243E+03 |  6.79009E+03\n",
            "   80 |   79300 |  0.00000E+00 |  0.00000E+00 |  6.74243E+03 |  6.78637E+03\n",
            "   81 |   80300 |  0.00000E+00 |  0.00000E+00 |  6.74243E+03 |  6.78290E+03\n",
            "   82 |   81300 |  0.00000E+00 |  0.00000E+00 |  6.74243E+03 |  6.77873E+03\n",
            "   83 |   82300 |  0.00000E+00 |  0.00000E+00 |  6.74243E+03 |  6.77555E+03\n",
            "   84 |   83300 |  0.00000E+00 |  0.00000E+00 |  6.74243E+03 |  6.77267E+03\n",
            "   85 |   84300 |  0.00000E+00 |  0.00000E+00 |  6.74242E+03 |  6.76972E+03\n",
            "   86 |   85300 |  0.00000E+00 |  0.00000E+00 |  6.74242E+03 |  6.76690E+03\n",
            "   87 |   86300 |  0.00000E+00 |  0.00000E+00 |  6.74092E+03 |  6.76438E+03\n",
            "   88 |   87300 |  0.00000E+00 |  0.00000E+00 |  6.74040E+03 |  6.76234E+03\n",
            "   89 |   88300 |  0.00000E+00 |  0.00000E+00 |  6.74040E+03 |  6.76000E+03\n",
            "   90 |   89300 |  0.00000E+00 |  0.00000E+00 |  6.73914E+03 |  6.75797E+03\n",
            "   91 |   90300 |  0.00000E+00 |  0.00000E+00 |  6.73914E+03 |  6.75599E+03\n",
            "   92 |   91300 |  0.00000E+00 |  0.00000E+00 |  6.73914E+03 |  6.75409E+03\n",
            "   93 |   92300 |  0.00000E+00 |  0.00000E+00 |  6.73865E+03 |  6.75242E+03\n",
            "   94 |   93300 |  0.00000E+00 |  0.00000E+00 |  6.73865E+03 |  6.75065E+03\n",
            "   95 |   94300 |  0.00000E+00 |  0.00000E+00 |  6.73865E+03 |  6.74926E+03\n",
            "   96 |   95300 |  0.00000E+00 |  0.00000E+00 |  6.73833E+03 |  6.74800E+03\n",
            "   97 |   96300 |  0.00000E+00 |  0.00000E+00 |  6.73764E+03 |  6.74683E+03\n",
            "   98 |   97300 |  0.00000E+00 |  0.00000E+00 |  6.73534E+03 |  6.74573E+03\n",
            "   99 |   98300 |  0.00000E+00 |  0.00000E+00 |  6.73533E+03 |  6.74476E+03\n",
            "  100 |   99300 |  0.00000E+00 |  0.00000E+00 |  6.73533E+03 |  6.74400E+03\n",
            "  101 |  100300 |  0.00000E+00 |  0.00000E+00 |  6.73528E+03 |  6.74315E+03\n",
            "  102 |  101300 |  0.00000E+00 |  0.00000E+00 |  6.73528E+03 |  6.74239E+03\n",
            "  103 |  102300 |  0.00000E+00 |  0.00000E+00 |  6.73528E+03 |  6.74173E+03\n",
            "  104 |  103300 |  0.00000E+00 |  0.00000E+00 |  6.73528E+03 |  6.74109E+03\n",
            "  105 |  104300 |  0.00000E+00 |  0.00000E+00 |  6.73528E+03 |  6.74057E+03\n",
            "  106 |  105300 |  0.00000E+00 |  0.00000E+00 |  6.73518E+03 |  6.74003E+03\n",
            "  107 |  106300 |  0.00000E+00 |  0.00000E+00 |  6.73518E+03 |  6.73955E+03\n",
            "  108 |  107300 |  0.00000E+00 |  0.00000E+00 |  6.73518E+03 |  6.73923E+03\n",
            "  109 |  108300 |  0.00000E+00 |  0.00000E+00 |  6.73484E+03 |  6.73889E+03\n",
            "  110 |  109300 |  0.00000E+00 |  0.00000E+00 |  6.73484E+03 |  6.73858E+03\n",
            "  111 |  110300 |  0.00000E+00 |  0.00000E+00 |  6.73484E+03 |  6.73835E+03\n",
            "  112 |  111300 |  0.00000E+00 |  0.00000E+00 |  6.73484E+03 |  6.73812E+03\n",
            "  113 |  112300 |  0.00000E+00 |  0.00000E+00 |  6.73481E+03 |  6.73787E+03\n",
            "  114 |  113300 |  0.00000E+00 |  0.00000E+00 |  6.73481E+03 |  6.73769E+03\n",
            "  115 |  114300 |  0.00000E+00 |  0.00000E+00 |  6.73481E+03 |  6.73751E+03\n",
            "  116 |  115300 |  0.00000E+00 |  0.00000E+00 |  6.73469E+03 |  6.73733E+03\n",
            "  117 |  116300 |  0.00000E+00 |  0.00000E+00 |  6.73469E+03 |  6.73712E+03\n",
            "  118 |  117300 |  0.00000E+00 |  0.00000E+00 |  6.73467E+03 |  6.73693E+03\n",
            "  119 |  118300 |  0.00000E+00 |  0.00000E+00 |  6.73452E+03 |  6.73671E+03\n",
            "  120 |  119300 |  0.00000E+00 |  0.00000E+00 |  6.73452E+03 |  6.73649E+03\n",
            "  121 |  120300 |  0.00000E+00 |  0.00000E+00 |  6.73452E+03 |  6.73628E+03\n",
            "  122 |  121300 |  0.00000E+00 |  0.00000E+00 |  6.73452E+03 |  6.73602E+03\n",
            "  123 |  122300 |  0.00000E+00 |  0.00000E+00 |  6.73448E+03 |  6.73575E+03\n",
            "  124 |  123300 |  0.00000E+00 |  0.00000E+00 |  6.73418E+03 |  6.73552E+03\n",
            "  125 |  124300 |  0.00000E+00 |  0.00000E+00 |  6.73416E+03 |  6.73533E+03\n",
            "  126 |  125300 |  0.00000E+00 |  0.00000E+00 |  6.73405E+03 |  6.73520E+03\n",
            "  127 |  126300 |  0.00000E+00 |  0.00000E+00 |  6.73405E+03 |  6.73507E+03\n",
            "  128 |  127300 |  0.00000E+00 |  0.00000E+00 |  6.73405E+03 |  6.73494E+03\n",
            "  129 |  128300 |  0.00000E+00 |  0.00000E+00 |  6.73405E+03 |  6.73484E+03\n",
            "  130 |  129300 |  0.00000E+00 |  0.00000E+00 |  6.73405E+03 |  6.73476E+03\n",
            "  131 |  130300 |  0.00000E+00 |  0.00000E+00 |  6.73405E+03 |  6.73470E+03\n",
            "  132 |  131300 |  0.00000E+00 |  0.00000E+00 |  6.73403E+03 |  6.73464E+03\n",
            "  133 |  132300 |  0.00000E+00 |  0.00000E+00 |  6.73399E+03 |  6.73456E+03\n",
            "  134 |  133300 |  0.00000E+00 |  0.00000E+00 |  6.73399E+03 |  6.73450E+03\n",
            "  135 |  134300 |  0.00000E+00 |  0.00000E+00 |  6.73393E+03 |  6.73442E+03\n",
            "  136 |  135300 |  0.00000E+00 |  0.00000E+00 |  6.73391E+03 |  6.73434E+03\n",
            "  137 |  136300 |  0.00000E+00 |  0.00000E+00 |  6.73391E+03 |  6.73425E+03\n",
            "  138 |  137300 |  0.00000E+00 |  0.00000E+00 |  6.73389E+03 |  6.73417E+03\n",
            "  139 |  138300 |  0.00000E+00 |  0.00000E+00 |  6.73389E+03 |  6.73411E+03\n",
            "  140 |  139300 |  0.00000E+00 |  0.00000E+00 |  6.73389E+03 |  6.73408E+03\n",
            "  141 |  140300 |  0.00000E+00 |  0.00000E+00 |  6.73389E+03 |  6.73406E+03\n",
            "  142 |  141300 |  0.00000E+00 |  0.00000E+00 |  6.73389E+03 |  6.73403E+03\n",
            "  143 |  142300 |  0.00000E+00 |  0.00000E+00 |  6.73387E+03 |  6.73401E+03\n",
            "  144 |  143300 |  0.00000E+00 |  0.00000E+00 |  6.73232E+03 |  6.73398E+03\n",
            "  145 |  144300 |  0.00000E+00 |  0.00000E+00 |  6.73232E+03 |  6.73396E+03\n",
            "  146 |  145300 |  0.00000E+00 |  0.00000E+00 |  6.73231E+03 |  6.73394E+03\n",
            "  147 |  146300 |  0.00000E+00 |  0.00000E+00 |  6.73231E+03 |  6.73393E+03\n",
            "  148 |  147300 |  0.00000E+00 |  0.00000E+00 |  6.73231E+03 |  6.73392E+03\n",
            "  149 |  148300 |  0.00000E+00 |  0.00000E+00 |  6.73231E+03 |  6.73391E+03\n",
            "  150 |  149300 |  0.00000E+00 |  0.00000E+00 |  6.73231E+03 |  6.73390E+03\n",
            "  151 |  150300 |  0.00000E+00 |  0.00000E+00 |  6.73230E+03 |  6.73389E+03\n",
            "  152 |  151300 |  0.00000E+00 |  0.00000E+00 |  6.73224E+03 |  6.73387E+03\n",
            "  153 |  152300 |  0.00000E+00 |  0.00000E+00 |  6.73224E+03 |  6.73386E+03\n",
            "  154 |  153300 |  0.00000E+00 |  0.00000E+00 |  6.73224E+03 |  6.73384E+03\n",
            "  155 |  154300 |  0.00000E+00 |  0.00000E+00 |  6.73219E+03 |  6.73382E+03\n",
            "  156 |  155300 |  0.00000E+00 |  0.00000E+00 |  6.73218E+03 |  6.73378E+03\n",
            "  157 |  156300 |  0.00000E+00 |  0.00000E+00 |  6.73218E+03 |  6.73374E+03\n",
            "  158 |  157300 |  0.00000E+00 |  0.00000E+00 |  6.73216E+03 |  6.73368E+03\n",
            "  159 |  158300 |  0.00000E+00 |  0.00000E+00 |  6.73216E+03 |  6.73358E+03\n",
            "  160 |  159300 |  0.00000E+00 |  0.00000E+00 |  6.73216E+03 |  6.73344E+03\n",
            "  161 |  160300 |  0.00000E+00 |  0.00000E+00 |  6.73216E+03 |  6.73324E+03\n",
            "  162 |  161300 |  0.00000E+00 |  0.00000E+00 |  6.73216E+03 |  6.73295E+03\n",
            "  163 |  162300 |  0.00000E+00 |  0.00000E+00 |  6.73216E+03 |  6.73257E+03\n",
            "  164 |  163300 |  0.00000E+00 |  0.00000E+00 |  6.73216E+03 |  6.73228E+03\n",
            "  165 |  164300 |  0.00000E+00 |  0.00000E+00 |  6.73215E+03 |  6.73226E+03\n",
            "  166 |  165300 |  0.00000E+00 |  0.00000E+00 |  6.73215E+03 |  6.73224E+03\n",
            "  167 |  166300 |  0.00000E+00 |  0.00000E+00 |  6.73215E+03 |  6.73223E+03\n",
            "  168 |  167300 |  0.00000E+00 |  0.00000E+00 |  6.73215E+03 |  6.73221E+03\n",
            "  169 |  168300 |  0.00000E+00 |  0.00000E+00 |  6.73215E+03 |  6.73220E+03\n",
            "  170 |  169300 |  0.00000E+00 |  0.00000E+00 |  6.73215E+03 |  6.73219E+03\n",
            "  171 |  170300 |  0.00000E+00 |  0.00000E+00 |  6.73215E+03 |  6.73219E+03\n",
            "  172 |  171300 |  0.00000E+00 |  0.00000E+00 |  6.73215E+03 |  6.73218E+03\n",
            "  173 |  172300 |  0.00000E+00 |  0.00000E+00 |  6.73215E+03 |  6.73217E+03\n",
            "  174 |  173300 |  0.00000E+00 |  0.00000E+00 |  6.73215E+03 |  6.73217E+03\n",
            "  175 |  174300 |  0.00000E+00 |  0.00000E+00 |  6.73214E+03 |  6.73217E+03\n",
            "  176 |  175300 |  0.00000E+00 |  0.00000E+00 |  6.73214E+03 |  6.73216E+03\n",
            "  177 |  176300 |  0.00000E+00 |  0.00000E+00 |  6.73214E+03 |  6.73216E+03\n",
            "  178 |  177300 |  0.00000E+00 |  0.00000E+00 |  6.73214E+03 |  6.73216E+03\n",
            "  179 |  178300 |  0.00000E+00 |  0.00000E+00 |  6.73214E+03 |  6.73216E+03\n",
            "  180 |  179300 |  0.00000E+00 |  0.00000E+00 |  6.73214E+03 |  6.73215E+03\n",
            "  181 |  180300 |  0.00000E+00 |  0.00000E+00 |  6.73214E+03 |  6.73215E+03\n",
            "  182 |  181300 |  0.00000E+00 |  0.00000E+00 |  6.73214E+03 |  6.73215E+03\n",
            "  183 |  182300 |  0.00000E+00 |  0.00000E+00 |  6.73214E+03 |  6.73215E+03\n",
            "  184 |  183300 |  0.00000E+00 |  0.00000E+00 |  6.73214E+03 |  6.73215E+03\n",
            "  185 |  184300 |  0.00000E+00 |  0.00000E+00 |  6.73214E+03 |  6.73215E+03\n",
            "  186 |  185300 |  0.00000E+00 |  0.00000E+00 |  6.73214E+03 |  6.73215E+03\n",
            "  187 |  186300 |  0.00000E+00 |  0.00000E+00 |  6.73214E+03 |  6.73214E+03\n",
            "  188 |  187300 |  0.00000E+00 |  0.00000E+00 |  6.73214E+03 |  6.73214E+03\n",
            "  189 |  188300 |  0.00000E+00 |  0.00000E+00 |  6.73214E+03 |  6.73214E+03\n",
            "  190 |  189300 |  0.00000E+00 |  0.00000E+00 |  6.73214E+03 |  6.73214E+03\n",
            "  191 |  190300 |  0.00000E+00 |  0.00000E+00 |  6.73214E+03 |  6.73214E+03\n",
            "  192 |  191300 |  0.00000E+00 |  0.00000E+00 |  6.73214E+03 |  6.73214E+03\n",
            "  193 |  192300 |  0.00000E+00 |  0.00000E+00 |  6.73214E+03 |  6.73214E+03\n",
            "  194 |  193300 |  0.00000E+00 |  0.00000E+00 |  6.73214E+03 |  6.73214E+03\n",
            "  195 |  194300 |  0.00000E+00 |  0.00000E+00 |  6.73214E+03 |  6.73214E+03\n",
            "  196 |  195300 |  0.00000E+00 |  0.00000E+00 |  6.73214E+03 |  6.73214E+03\n",
            "  197 |  196300 |  0.00000E+00 |  0.00000E+00 |  6.73213E+03 |  6.73214E+03\n",
            "  198 |  197300 |  0.00000E+00 |  0.00000E+00 |  6.73213E+03 |  6.73214E+03\n",
            "  199 |  198300 |  0.00000E+00 |  0.00000E+00 |  6.73213E+03 |  6.73214E+03\n",
            "  200 |  199300 |  0.00000E+00 |  0.00000E+00 |  6.73213E+03 |  6.73214E+03\n",
            "  201 |  200300 |  0.00000E+00 |  0.00000E+00 |  6.73213E+03 |  6.73214E+03\n",
            "  202 |  201300 |  0.00000E+00 |  0.00000E+00 |  6.73213E+03 |  6.73214E+03\n",
            "  203 |  202300 |  0.00000E+00 |  0.00000E+00 |  6.73213E+03 |  6.73214E+03\n",
            "  204 |  203300 |  0.00000E+00 |  0.00000E+00 |  6.73213E+03 |  6.73214E+03\n",
            "  205 |  204300 |  0.00000E+00 |  0.00000E+00 |  6.73213E+03 |  6.73214E+03\n",
            "  206 |  205300 |  0.00000E+00 |  0.00000E+00 |  6.73213E+03 |  6.73214E+03\n",
            "  207 |  206300 |  0.00000E+00 |  0.00000E+00 |  6.73213E+03 |  6.73214E+03\n",
            "  208 |  207300 |  0.00000E+00 |  0.00000E+00 |  6.73213E+03 |  6.73214E+03\n",
            "  209 |  208300 |  0.00000E+00 |  0.00000E+00 |  6.73213E+03 |  6.73214E+03\n",
            "  210 |  209300 |  0.00000E+00 |  0.00000E+00 |  6.73213E+03 |  6.73214E+03\n",
            "  211 |  210300 |  0.00000E+00 |  0.00000E+00 |  6.73213E+03 |  6.73213E+03\n",
            "  212 |  211300 |  0.00000E+00 |  0.00000E+00 |  6.73213E+03 |  6.73213E+03\n",
            "  213 |  212300 |  0.00000E+00 |  0.00000E+00 |  6.73213E+03 |  6.73213E+03\n",
            "  214 |  213300 |  0.00000E+00 |  0.00000E+00 |  6.73213E+03 |  6.73213E+03\n",
            "  215 |  214300 |  0.00000E+00 |  0.00000E+00 |  6.73213E+03 |  6.73213E+03\n",
            "  216 |  215300 |  0.00000E+00 |  0.00000E+00 |  6.73213E+03 |  6.73213E+03\n",
            "  217 |  216300 |  0.00000E+00 |  0.00000E+00 |  6.73213E+03 |  6.73213E+03\n",
            "  218 |  217300 |  0.00000E+00 |  0.00000E+00 |  6.73213E+03 |  6.73213E+03\n",
            "  219 |  218300 |  0.00000E+00 |  0.00000E+00 |  6.73213E+03 |  6.73213E+03\n",
            "  220 |  219300 |  0.00000E+00 |  0.00000E+00 |  6.73213E+03 |  6.73213E+03\n",
            "  221 |  220300 |  0.00000E+00 |  0.00000E+00 |  6.73213E+03 |  6.73213E+03\n",
            "  222 |  221300 |  0.00000E+00 |  0.00000E+00 |  6.73213E+03 |  6.73213E+03\n",
            "  223 |  222300 |  0.00000E+00 |  0.00000E+00 |  6.73213E+03 |  6.73213E+03\n",
            "  224 |  223300 |  0.00000E+00 |  0.00000E+00 |  6.73213E+03 |  6.73213E+03\n",
            "  225 |  224300 |  0.00000E+00 |  0.00000E+00 |  6.73213E+03 |  6.73213E+03\n",
            "  226 |  225300 |  0.00000E+00 |  0.00000E+00 |  6.73213E+03 |  6.73213E+03\n",
            "  227 |  226300 |  0.00000E+00 |  0.00000E+00 |  6.73213E+03 |  6.73213E+03\n",
            "  228 |  227300 |  0.00000E+00 |  0.00000E+00 |  6.73213E+03 |  6.73213E+03\n",
            "  229 |  228300 |  0.00000E+00 |  0.00000E+00 |  6.73213E+03 |  6.73213E+03\n",
            "  230 |  229300 |  0.00000E+00 |  0.00000E+00 |  6.73213E+03 |  6.73213E+03\n",
            "  231 |  230300 |  0.00000E+00 |  0.00000E+00 |  6.73213E+03 |  6.73213E+03\n",
            "  232 |  231300 |  0.00000E+00 |  0.00000E+00 |  6.73213E+03 |  6.73213E+03\n",
            "  233 |  232300 |  0.00000E+00 |  0.00000E+00 |  6.73213E+03 |  6.73213E+03\n",
            "  234 |  233300 |  0.00000E+00 |  0.00000E+00 |  6.73213E+03 |  6.73213E+03\n",
            "  235 |  234300 |  0.00000E+00 |  0.00000E+00 |  6.73213E+03 |  6.73213E+03\n",
            "  236 |  235300 |  0.00000E+00 |  0.00000E+00 |  6.73213E+03 |  6.73213E+03\n",
            "  237 |  236300 |  0.00000E+00 |  0.00000E+00 |  6.73213E+03 |  6.73213E+03\n",
            "  238 |  237300 |  0.00000E+00 |  0.00000E+00 |  6.73213E+03 |  6.73213E+03\n",
            "  239 |  238300 |  0.00000E+00 |  0.00000E+00 |  6.73213E+03 |  6.73213E+03\n",
            "  240 |  239300 |  0.00000E+00 |  0.00000E+00 |  6.73213E+03 |  6.73213E+03\n",
            "  241 |  240300 |  0.00000E+00 |  0.00000E+00 |  6.73213E+03 |  6.73213E+03\n",
            "  242 |  241300 |  0.00000E+00 |  0.00000E+00 |  6.73213E+03 |  6.73213E+03\n",
            "  243 |  242300 |  0.00000E+00 |  0.00000E+00 |  6.73213E+03 |  6.73213E+03\n",
            "  244 |  243300 |  0.00000E+00 |  0.00000E+00 |  6.73213E+03 |  6.73213E+03\n",
            "  245 |  244300 |  0.00000E+00 |  0.00000E+00 |  6.73213E+03 |  6.73213E+03\n",
            "  246 |  245300 |  0.00000E+00 |  0.00000E+00 |  6.73213E+03 |  6.73213E+03\n",
            "  247 |  246300 |  0.00000E+00 |  0.00000E+00 |  6.73213E+03 |  6.73213E+03\n",
            "  248 |  247300 |  0.00000E+00 |  0.00000E+00 |  6.73213E+03 |  6.73213E+03\n",
            "  249 |  248300 |  0.00000E+00 |  0.00000E+00 |  6.73213E+03 |  6.73213E+03\n",
            "  250 |  249300 |  0.00000E+00 |  0.00000E+00 |  6.73213E+03 |  6.73213E+03\n",
            "  251 |  250300 |  0.00000E+00 |  0.00000E+00 |  6.73213E+03 |  6.73213E+03\n",
            "  252 |  251300 |  0.00000E+00 |  0.00000E+00 |  6.73213E+03 |  6.73213E+03\n",
            "  253 |  252300 |  0.00000E+00 |  0.00000E+00 |  6.73213E+03 |  6.73213E+03\n",
            "  254 |  253300 |  0.00000E+00 |  0.00000E+00 |  6.73213E+03 |  6.73213E+03\n",
            "  255 |  254300 |  0.00000E+00 |  0.00000E+00 |  6.73213E+03 |  6.73213E+03\n",
            "  256 |  255300 |  0.00000E+00 |  0.00000E+00 |  6.73213E+03 |  6.73213E+03\n",
            "  257 |  256300 |  0.00000E+00 |  0.00000E+00 |  6.73213E+03 |  6.73213E+03\n",
            "  258 |  257300 |  0.00000E+00 |  0.00000E+00 |  6.73213E+03 |  6.73213E+03\n",
            "  259 |  258300 |  0.00000E+00 |  0.00000E+00 |  6.73213E+03 |  6.73213E+03\n",
            "  260 |  259300 |  0.00000E+00 |  0.00000E+00 |  6.73213E+03 |  6.73213E+03\n",
            "  261 |  260300 |  0.00000E+00 |  0.00000E+00 |  6.73213E+03 |  6.73213E+03\n",
            "  262 |  261300 |  0.00000E+00 |  0.00000E+00 |  6.73213E+03 |  6.73213E+03\n",
            "  263 |  262300 |  0.00000E+00 |  0.00000E+00 |  6.73213E+03 |  6.73213E+03\n",
            "  264 |  263300 |  0.00000E+00 |  0.00000E+00 |  6.73213E+03 |  6.73213E+03\n",
            "  265 |  264300 |  0.00000E+00 |  0.00000E+00 |  6.73213E+03 |  6.73213E+03\n",
            "  266 |  265300 |  0.00000E+00 |  0.00000E+00 |  6.73213E+03 |  6.73213E+03\n",
            "  267 |  266300 |  0.00000E+00 |  0.00000E+00 |  6.73213E+03 |  6.73213E+03\n",
            "  268 |  267300 |  0.00000E+00 |  0.00000E+00 |  6.73213E+03 |  6.73213E+03\n",
            "  269 |  268300 |  0.00000E+00 |  0.00000E+00 |  6.73213E+03 |  6.73213E+03\n",
            "  270 |  269300 |  0.00000E+00 |  0.00000E+00 |  6.73213E+03 |  6.73213E+03\n",
            "  271 |  270300 |  0.00000E+00 |  0.00000E+00 |  6.73213E+03 |  6.73213E+03\n",
            "  272 |  271300 |  0.00000E+00 |  0.00000E+00 |  6.73213E+03 |  6.73213E+03\n",
            "  273 |  272300 |  0.00000E+00 |  0.00000E+00 |  6.73213E+03 |  6.73213E+03\n",
            "  274 |  273300 |  0.00000E+00 |  0.00000E+00 |  6.73213E+03 |  6.73213E+03\n",
            "  275 |  274300 |  0.00000E+00 |  0.00000E+00 |  6.73213E+03 |  6.73213E+03\n",
            "  276 |  275300 |  0.00000E+00 |  0.00000E+00 |  6.73213E+03 |  6.73213E+03\n",
            "  277 |  276300 |  0.00000E+00 |  0.00000E+00 |  6.73213E+03 |  6.73213E+03\n",
            "  278 |  277300 |  0.00000E+00 |  0.00000E+00 |  6.73213E+03 |  6.73213E+03\n",
            "  279 |  278300 |  0.00000E+00 |  0.00000E+00 |  6.73213E+03 |  6.73213E+03\n",
            "  280 |  279300 |  0.00000E+00 |  0.00000E+00 |  6.73213E+03 |  6.73213E+03\n"
          ],
          "name": "stdout"
        }
      ]
    },
    {
      "cell_type": "code",
      "metadata": {
        "id": "JzwVZ91nxCR8",
        "outputId": "d4576598-8a11-43af-8919-059914273924",
        "colab": {
          "base_uri": "https://localhost:8080/",
          "height": 85
        }
      },
      "source": [
        "print(\"X: \", res.X)\n",
        "print(\"Obj: \", res.F)\n",
        "print(\"Constraints: \", res.G)\n",
        "print(\"Execution time: \", res.exec_time)"
      ],
      "execution_count": null,
      "outputs": [
        {
          "output_type": "stream",
          "text": [
            "X:  [ 1.11095781  0.54914579 57.56243133 47.75224693]\n",
            "Obj:  [6732.13321949]\n",
            "Constraints:  [0. 0. 0. 0.]\n",
            "Execution time:  42.29894280433655\n"
          ],
          "name": "stdout"
        }
      ]
    },
    {
      "cell_type": "markdown",
      "metadata": {
        "id": "HU_YqQa8xrp2"
      },
      "source": [
        "Covergence:\n",
        "\n",
        "\n",
        "\n",
        "```\n",
        "x-axis: number of function evaluations\n",
        "y-axis: optimum objective value\n",
        "```\n",
        "\n"
      ]
    },
    {
      "cell_type": "code",
      "metadata": {
        "id": "ISe5okGWxtct",
        "outputId": "d8bff871-790c-4dff-e6b4-482644d3e309",
        "colab": {
          "base_uri": "https://localhost:8080/",
          "height": 390
        }
      },
      "source": [
        "import matplotlib.pyplot as plt\n",
        "\n",
        "n_evals = np.array([e.evaluator.n_eval for e in res.history])\n",
        "opt = np.array([e.opt[0].F for e in res.history])\n",
        "plt.figure(figsize=(12,6))\n",
        "plt.title(\"Problem 1 Convergence: GA\")\n",
        "plt.plot(n_evals, opt, \"-\")\n",
        "plt.show()"
      ],
      "execution_count": null,
      "outputs": [
        {
          "output_type": "display_data",
          "data": {
            "image/png": "[encoded data removed]",
            "text/plain": [
              "<Figure size 864x432 with 1 Axes>"
            ]
          },
          "metadata": {
            "tags": [],
            "needs_background": "light"
          }
        }
      ]
    },
    {
      "cell_type": "markdown",
      "metadata": {
        "id": "7kTr53Kox1QZ"
      },
      "source": [
        "Convergence with logarithmic scale Y-Axis"
      ]
    },
    {
      "cell_type": "code",
      "metadata": {
        "id": "a5mZirDGx5Y6",
        "outputId": "f1f3861f-6414-4a34-fe99-9f0d3e9f9ea8",
        "colab": {
          "base_uri": "https://localhost:8080/",
          "height": 390
        }
      },
      "source": [
        "n_evals = np.array([e.evaluator.n_eval for e in res.history])\n",
        "opt = np.array([e.opt[0].F for e in res.history])\n",
        "plt.figure(figsize=(12,6))\n",
        "plt.title(\"Problem 1 Convergence: GA\")\n",
        "plt.plot(n_evals, opt, \"-\")\n",
        "plt.yscale(\"log\")\n",
        "plt.show()"
      ],
      "execution_count": null,
      "outputs": [
        {
          "output_type": "display_data",
          "data": {
            "image/png": "[encoded data removed]",
            "text/plain": [
              "<Figure size 864x432 with 1 Axes>"
            ]
          },
          "metadata": {
            "tags": [],
            "needs_background": "light"
          }
        }
      ]
    }
  ]
}