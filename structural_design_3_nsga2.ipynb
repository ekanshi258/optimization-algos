{
  "nbformat": 4,
  "nbformat_minor": 0,
  "metadata": {
    "colab": {
      "name": "structural-design-3-nsga2.ipynb",
      "provenance": [],
      "collapsed_sections": [],
      "authorship_tag": "ABX9TyPMcAiNiRHBiTuZJIA97sUb",
      "include_colab_link": true
    },
    "kernelspec": {
      "name": "python3",
      "display_name": "Python 3"
    }
  },
  "cells": [
    {
      "cell_type": "markdown",
      "metadata": {
        "id": "view-in-github",
        "colab_type": "text"
      },
      "source": [
        "<a href=\"https://colab.research.google.com/github/ekanshi258/optimization-algos/blob/master/structural_design_3_nsga2.ipynb\" target=\"_parent\"><img src=\"https://colab.research.google.com/assets/colab-badge.svg\" alt=\"Open In Colab\"/></a>"
      ]
    },
    {
      "cell_type": "code",
      "metadata": {
        "id": "qSULsXtmHv3B"
      },
      "source": [
        "pip install pymoo"
      ],
      "execution_count": null,
      "outputs": []
    },
    {
      "cell_type": "markdown",
      "metadata": {
        "id": "upnCK_EkH4v4"
      },
      "source": [
        "This experiment is based on the following paper:  \n",
        "_Solving structural engineering design optimization problems using an artificial bee colony algorithm_: https://www.aimsciences.org/article/doi/10.3934/jimo.2014.10.777\n",
        "\n",
        "I will be using the NSGA2 to solve the same problem as given in the paper.\n"
      ]
    },
    {
      "cell_type": "code",
      "metadata": {
        "id": "xN33WA_xH9lA"
      },
      "source": [
        "import numpy as np\n",
        "from pymoo.model.problem import FunctionalProblem"
      ],
      "execution_count": 2,
      "outputs": []
    },
    {
      "cell_type": "markdown",
      "metadata": {
        "id": "NiQnq8hVICBW"
      },
      "source": [
        "The paper states 3 structural design problems. \n",
        "\n",
        "Problem 3:  \n",
        "**Tension/Compression String Design. (Section 4.2.3).**\n",
        "\n",
        "\n",
        "---\n",
        "\n",
        "\n",
        "Objective functions:  \n",
        "```\n",
        "Minimize f(X) = (x3 + 2) * x2 * x1^2\n",
        "Such that:\n",
        "g1(X) = 1 − (x2^3 * x3)/(71785 * x1^4) <= 0\n",
        "g2(X) = (4*x2^2 − x1*x2)/12566*(x2*x1^3 − x1^4) + 1/(5108 * x1^2) − 1 <= 0\n",
        "g3(X) = 1 − (140.45 * x1)/(x2^2 * x3) <= 0\n",
        "g4(X) = (x1 + x2)/(1.5) − 1 <= 0\n",
        "\n",
        "Bounds:\n",
        "0.05 <= x1 <= 2 ; 0.25 <= x2 <= 1.3 ; 2 <= x3 <= 15\n",
        "```\n",
        "\n",
        "> Minimizing the weight of a tension/compression spring subject to constraints on minimum deflection, shear stress, surge frequency, limits on outside diameter and on design\n",
        "variables. The design variables are the mean coil diameter(x1), the wire diameter (x2) and the number of active coil (x3).\n",
        " \n",
        "\n"
      ]
    },
    {
      "cell_type": "code",
      "metadata": {
        "id": "KZt_k2XfKAdW"
      },
      "source": [
        "#objective functions\n",
        "objs = [\n",
        "    lambda x: (x[2] + 2) * x[1] * x[0]**2,\n",
        "]\n",
        "\n",
        "# Contraint equations\n",
        "constr_ieq = [\n",
        "    lambda x: 1 - (x[1]**3 * x[2])/(71785 * x[0]**4),\n",
        "    lambda x: (4*x[1]**2 - x[0]*x[1])/(12566*(x[1] * x[0]**3 - x[0]**4)) + 1/(5108 * x[0]**2) - 1,\n",
        "    lambda x: 1 - (140.45 * x[0])/(x[1]**2 * x[2]),\n",
        "    lambda x: (x[0] + x[1])/(1.5) - 1\n",
        "]\n",
        "\n",
        "# value bounds\n",
        "lower_bound = np.array([0.05, 0.25, 2])\n",
        "upper_bound = np.array([2, 1.3, 15])\n",
        "\n",
        "# initialising problem\n",
        "problem = FunctionalProblem(3, objs, constr_ieq=constr_ieq, xl=lower_bound, xu=upper_bound)"
      ],
      "execution_count": 3,
      "outputs": []
    },
    {
      "cell_type": "markdown",
      "metadata": {
        "id": "PF8VF_-fMJPW"
      },
      "source": [
        "Initialising NSGA2 and setting a termination condition:"
      ]
    },
    {
      "cell_type": "code",
      "metadata": {
        "id": "HAMz6ug8MOl4"
      },
      "source": [
        "from pymoo.algorithms.nsga2 import NSGA2\n",
        "from pymoo.factory import get_sampling, get_crossover, get_mutation, get_termination\n",
        "\n",
        "algorithm = NSGA2(\n",
        "    pop_size=100,\n",
        "    n_offsprings=25,\n",
        "    sampling=get_sampling(\"real_random\"),\n",
        "    crossover=get_crossover(\"real_sbx\", prob=0.9, eta=15),\n",
        "    mutation=get_mutation(\"real_pm\", eta=20),\n",
        "    eliminate_duplicates=True\n",
        ")\n",
        "\n",
        "termination = get_termination(\"n_gen\", 280)"
      ],
      "execution_count": 4,
      "outputs": []
    },
    {
      "cell_type": "markdown",
      "metadata": {
        "id": "cdz4SR5iMV3M"
      },
      "source": [
        "Putting it all to work:"
      ]
    },
    {
      "cell_type": "code",
      "metadata": {
        "id": "Q592Czi7MVZf"
      },
      "source": [
        "from pymoo.optimize import minimize\n",
        "\n",
        "ans = minimize(problem,\n",
        "               algorithm,\n",
        "               termination,\n",
        "               seed=1,\n",
        "               save_history=True,\n",
        "               verbose=True)"
      ],
      "execution_count": null,
      "outputs": []
    },
    {
      "cell_type": "markdown",
      "metadata": {
        "id": "GqbYRzyrO2fx"
      },
      "source": [
        "(output has been hidden due to its length)"
      ]
    },
    {
      "cell_type": "code",
      "metadata": {
        "id": "Dg0vwC4GMj2m",
        "outputId": "bee0f903-816c-42b7-c820-42f0db1240b8",
        "colab": {
          "base_uri": "https://localhost:8080/",
          "height": 68
        }
      },
      "source": [
        "print(\"X: \", ans.X)\n",
        "print(\"Obj: \", ans.F)\n",
        "print(\"Constraints: \", ans.G)"
      ],
      "execution_count": 6,
      "outputs": [
        {
          "output_type": "stream",
          "text": [
            "X:  [0.05698529 0.49784682 6.15037622]\n",
            "Obj:  [0.01317647]\n",
            "Constraints:  [0. 0. 0. 0.]\n"
          ],
          "name": "stdout"
        }
      ]
    },
    {
      "cell_type": "markdown",
      "metadata": {
        "id": "WrxUfGODMulu"
      },
      "source": [
        "The value of the objective function using the Aritifical Bee Colony was `f(X) = 0.01266`, which is not too far off from our result. However some observations can be made."
      ]
    },
    {
      "cell_type": "markdown",
      "metadata": {
        "id": "NzSjFwUcNCr2"
      },
      "source": [
        "**Observations**\n",
        "\n",
        "1. Some normalization may be required, since the ranges of each of the parameters are very different in size and magnitude.\n",
        "2. Parameter tuning for the NSGA2 algo itself may be required, but might turn out to be computationally intensive"
      ]
    },
    {
      "cell_type": "markdown",
      "metadata": {
        "id": "p3OBfZmukyNq"
      },
      "source": [
        "Covergence:\n",
        "\n",
        "\n",
        "\n",
        "```\n",
        "x-axis: number of function evaluations\n",
        "y-axis: optimum objective value\n",
        "```\n"
      ]
    },
    {
      "cell_type": "code",
      "metadata": {
        "id": "Bm9Y4uF6kspV",
        "outputId": "b8682740-5c3b-4f35-8b32-0c79d9d6cd97",
        "colab": {
          "base_uri": "https://localhost:8080/",
          "height": 390
        }
      },
      "source": [
        "import matplotlib.pyplot as plt\n",
        "\n",
        "n_evals = np.array([e.evaluator.n_eval for e in ans.history])\n",
        "opt = np.array([e.opt[0].F for e in ans.history])\n",
        "plt.figure(figsize=(12,6))\n",
        "plt.title(\"Problem 3 Convergence: NSGA2\")\n",
        "plt.plot(n_evals, opt, \"-\")\n",
        "plt.show()"
      ],
      "execution_count": 9,
      "outputs": [
        {
          "output_type": "display_data",
          "data": {
            "image/png": "[encoded data removed]",
            "text/plain": [
              "<Figure size 864x432 with 1 Axes>"
            ]
          },
          "metadata": {
            "tags": [],
            "needs_background": "light"
          }
        }
      ]
    },
    {
      "cell_type": "markdown",
      "metadata": {
        "id": "aroDl2tGk0eM"
      },
      "source": [
        "Convergence with Log y-axis:"
      ]
    },
    {
      "cell_type": "code",
      "metadata": {
        "id": "tOSPnN08kz9v",
        "outputId": "857d24ae-c689-479f-f8e2-e5ee682b6a3d",
        "colab": {
          "base_uri": "https://localhost:8080/",
          "height": 390
        }
      },
      "source": [
        "n_evals = np.array([e.evaluator.n_eval for e in ans.history])\n",
        "opt = np.array([e.opt[0].F for e in ans.history])\n",
        "plt.figure(figsize=(12,6))\n",
        "plt.title(\"Problem 3 Convergence: NSGA2\")\n",
        "plt.plot(n_evals, opt, \"-\")\n",
        "plt.yscale(\"log\")\n",
        "plt.show()"
      ],
      "execution_count": 10,
      "outputs": [
        {
          "output_type": "display_data",
          "data": {
            "image/png": "[encoded data removed]",
            "text/plain": [
              "<Figure size 864x432 with 1 Axes>"
            ]
          },
          "metadata": {
            "tags": [],
            "needs_background": "light"
          }
        }
      ]
    }
  ]
}