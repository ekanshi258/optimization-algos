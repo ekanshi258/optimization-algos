{
  "nbformat": 4,
  "nbformat_minor": 0,
  "metadata": {
    "colab": {
      "name": "GA-Concrete.ipynb",
      "provenance": [],
      "authorship_tag": "ABX9TyPP51SAavY3PW+FOzanJdgZ",
      "include_colab_link": true
    },
    "kernelspec": {
      "name": "python3",
      "display_name": "Python 3"
    }
  },
  "cells": [
    {
      "cell_type": "markdown",
      "metadata": {
        "id": "view-in-github",
        "colab_type": "text"
      },
      "source": [
        "<a href=\"https://colab.research.google.com/github/ekanshi258/optimization-algos/blob/master/GA_Concrete.ipynb\" target=\"_parent\"><img src=\"https://colab.research.google.com/assets/colab-badge.svg\" alt=\"Open In Colab\"/></a>"
      ]
    },
    {
      "cell_type": "markdown",
      "metadata": {
        "id": "YXakLg8XQlZJ",
        "colab_type": "text"
      },
      "source": [
        "This experiment applies Genetic Algorithm for applications in Civil Engineering\n",
        "\n",
        "**Based on the paper:**   \n",
        "Cost Optimization of No-Slump Concrete Using Genetic\n",
        "Algorithm and Particle Swarm Optimization  \n",
        "Hamed Naseri  \n",
        "http://www.ijimt.org/vol10/832-CM0015.pdf \n",
        "\n",
        "**Some differences:** This code does not consider the need for a certain compressive strength range as mentioned in the paper. The only objective here is to reduce cost at the moment. **(Single Objective)**"
      ]
    },
    {
      "cell_type": "code",
      "metadata": {
        "id": "LB8MtFR05BwS",
        "colab_type": "code",
        "colab": {}
      },
      "source": [
        "pip install geneticalgorithm"
      ],
      "execution_count": null,
      "outputs": []
    },
    {
      "cell_type": "code",
      "metadata": {
        "id": "iFaJdg5H5LkZ",
        "colab_type": "code",
        "colab": {}
      },
      "source": [
        "import numpy as np\n",
        "from geneticalgorithm import geneticalgorithm as ga"
      ],
      "execution_count": null,
      "outputs": []
    },
    {
      "cell_type": "markdown",
      "metadata": {
        "id": "91mX07bfQqqh",
        "colab_type": "text"
      },
      "source": [
        "Defining the objective function\n",
        "\n",
        "based on the equation: 𝐶𝑜𝑠𝑡 = 𝑃C*𝐶 + 𝑃𝑆𝐹*𝑆𝐹 + 𝑃W*𝑊 + 𝑃𝐹𝐴*𝐹𝐴 + 𝑃𝐶𝐴*𝐶𝐴 + 𝑃𝐹i*𝐹i"
      ]
    },
    {
      "cell_type": "code",
      "metadata": {
        "id": "eVGizlV25P9Q",
        "colab_type": "code",
        "colab": {}
      },
      "source": [
        "def costFunc(x):\n",
        "  f = x[0]*1200 + x[1]*7000 + x[2]*150 + x[3]*200 + x[4]*120 + x[5]*280\n",
        "  return f "
      ],
      "execution_count": null,
      "outputs": []
    },
    {
      "cell_type": "markdown",
      "metadata": {
        "id": "8_UQh2AoQ5_0",
        "colab_type": "text"
      },
      "source": [
        "Setting the bounds and initializing the GA model"
      ]
    },
    {
      "cell_type": "code",
      "metadata": {
        "id": "vN3DZetn6DXD",
        "colab_type": "code",
        "colab": {}
      },
      "source": [
        "bounds = np.array([[252.6, 410],[0, 27.3],[95, 139.7],[354.2, 1300],[600, 1440.6],[0, 188]])\n",
        "model = ga(function=costFunc, dimension=6, variable_type='real', variable_boundaries=bounds)"
      ],
      "execution_count": null,
      "outputs": []
    },
    {
      "cell_type": "code",
      "metadata": {
        "id": "Cy6b9q3X7J0e",
        "colab_type": "code",
        "colab": {
          "base_uri": "https://localhost:8080/",
          "height": 54
        },
        "outputId": "4ee4c281-87b2-43db-eac7-7efc1260d110"
      },
      "source": [
        "model.run()"
      ],
      "execution_count": 10,
      "outputs": [
        {
          "output_type": "stream",
          "text": [
            "|||||||||||||||||||||||||||||||||||||_____________ 74.4% GA is running...Buffered data was truncated after reaching the output size limit."
          ],
          "name": "stdout"
        }
      ]
    },
    {
      "cell_type": "code",
      "metadata": {
        "id": "7LfKttD_PFRy",
        "colab_type": "code",
        "colab": {
          "base_uri": "https://localhost:8080/",
          "height": 68
        },
        "outputId": "d64972cc-fd6d-4e39-8c62-6b1d9fb6ee25"
      },
      "source": [
        "model.output_dict"
      ],
      "execution_count": 12,
      "outputs": [
        {
          "output_type": "execute_result",
          "data": {
            "text/plain": [
              "{'function': 460222.6370233852,\n",
              " 'variable': array([2.52602025e+02, 7.44769235e-04, 9.50020192e+01, 3.54206550e+02,\n",
              "        6.00026289e+02, 8.09439089e-04])}"
            ]
          },
          "metadata": {
            "tags": []
          },
          "execution_count": 12
        }
      ]
    },
    {
      "cell_type": "markdown",
      "metadata": {
        "id": "RJcDqO_mRHBX",
        "colab_type": "text"
      },
      "source": [
        "The above output shows that the optimal cost found by GA is `460222.64` Iranian rials, with weights of each material as follows:\n",
        "`[2.52602025e+02, 7.44769235e-04, 9.50020192e+01, 3.54206550e+02, 6.00026289e+02, 8.09439089e-04]`"
      ]
    },
    {
      "cell_type": "code",
      "metadata": {
        "id": "7C3YoB9LPPSz",
        "colab_type": "code",
        "colab": {
          "base_uri": "https://localhost:8080/",
          "height": 279
        },
        "outputId": "66ab9e35-3026-4a08-b160-f80cd288bac4"
      },
      "source": [
        "import matplotlib.pyplot as plt\n",
        "plt.plot(model.report)\n",
        "plt.ylabel('Cost Function')\n",
        "plt.xlabel('Iteration')\n",
        "plt.show()"
      ],
      "execution_count": 18,
      "outputs": [
        {
          "output_type": "display_data",
          "data": {
            "image/png": "[encoded data removed]",
            "text/plain": [
              "<Figure size 432x288 with 1 Axes>"
            ]
          },
          "metadata": {
            "tags": [],
            "needs_background": "light"
          }
        }
      ]
    },
    {
      "cell_type": "markdown",
      "metadata": {
        "id": "vtsZkpDWRmMb",
        "colab_type": "text"
      },
      "source": [
        "**Observations:**\n",
        "\n",
        "The optimal price of the mix found by GA is lower than that found by PSO (491066.47 IRR). However, the ratios of the material differ quite a bit, which shows that anothe robjective function will be required to contraint the ratios. \n",
        "\n",
        "Therefore, this would not be a good single-objective problem and definitely requires multiobjective optimization"
      ]
    }
  ]
}