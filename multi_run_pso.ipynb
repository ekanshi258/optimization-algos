{
  "nbformat": 4,
  "nbformat_minor": 0,
  "metadata": {
    "colab": {
      "name": "multi-run-pso.ipynb",
      "provenance": [],
      "collapsed_sections": [],
      "toc_visible": true,
      "authorship_tag": "ABX9TyPnwat70gmwNoZcoi2TR32B",
      "include_colab_link": true
    },
    "kernelspec": {
      "name": "python3",
      "display_name": "Python 3"
    }
  },
  "cells": [
    {
      "cell_type": "markdown",
      "metadata": {
        "id": "view-in-github",
        "colab_type": "text"
      },
      "source": [
        "<a href=\"https://colab.research.google.com/github/ekanshi258/optimization-algos/blob/master/multi_run_pso.ipynb\" target=\"_parent\"><img src=\"https://colab.research.google.com/assets/colab-badge.svg\" alt=\"Open In Colab\"/></a>"
      ]
    },
    {
      "cell_type": "markdown",
      "metadata": {
        "id": "yDFqWj1j_Lf8"
      },
      "source": [
        "## Single Objective\n",
        "\n",
        "5 runs of PSO on each of the 5 test functions. \n",
        "\n",
        "### **Initial Population: Randomised**"
      ]
    },
    {
      "cell_type": "code",
      "metadata": {
        "id": "4YU4p-M4--C8"
      },
      "source": [
        "pip install pymoo"
      ],
      "execution_count": null,
      "outputs": []
    },
    {
      "cell_type": "markdown",
      "metadata": {
        "id": "oftwDqruBY94"
      },
      "source": [
        "Imports:"
      ]
    },
    {
      "cell_type": "code",
      "metadata": {
        "id": "X7aE0812BaHO"
      },
      "source": [
        "from pymoo.algorithms.so_pso import PSO, PSOAnimation\n",
        "from pymoo.factory import Ackley\n",
        "from pymoo.optimize import minimize\n",
        "import numpy as np"
      ],
      "execution_count": null,
      "outputs": []
    },
    {
      "cell_type": "markdown",
      "metadata": {
        "id": "ae-LnveCBojU"
      },
      "source": [
        "_____\n",
        "### Ackley"
      ]
    },
    {
      "cell_type": "code",
      "metadata": {
        "id": "7-lDZP0kBv_O",
        "outputId": "a27dbc2a-b863-4dd9-949c-0f0c81bc529b",
        "colab": {
          "base_uri": "https://localhost:8080/"
        }
      },
      "source": [
        "problem = Ackley()\n",
        "\n",
        "algorithm = PSO(max_velocity_rate=0.025)\n",
        "\n",
        "results = []\n",
        "for i in range(5):\n",
        "  res = minimize(problem,\n",
        "               algorithm,\n",
        "               seed=i,\n",
        "               save_history=False,\n",
        "               verbose=False)\n",
        "  print(i)\n",
        "  print(\"X: \", res.X)\n",
        "  print(\"Obj: \", res.F)\n",
        "  print(\"Execution time: \", res.exec_time)\n",
        "  results.append(res.F)"
      ],
      "execution_count": null,
      "outputs": [
        {
          "output_type": "stream",
          "text": [
            "0\n",
            "X:  [ 2.99490827e-08 -1.06411741e-07]\n",
            "Obj:  [3.12671475e-07]\n",
            "Execution time:  0.23718881607055664\n",
            "1\n",
            "X:  [-7.94956179e-09  1.07254590e-07]\n",
            "Obj:  [3.04194228e-07]\n",
            "Execution time:  0.2592191696166992\n",
            "2\n",
            "X:  [ 3.09240032e-08 -9.63454067e-08]\n",
            "Obj:  [2.86199243e-07]\n",
            "Execution time:  0.25736355781555176\n",
            "3\n",
            "X:  [-8.21937186e-07 -3.83581927e-07]\n",
            "Obj:  [2.56550952e-06]\n",
            "Execution time:  0.2034449577331543\n",
            "4\n",
            "X:  [ 5.43377807e-09 -1.40860731e-09]\n",
            "Obj:  [1.58770566e-08]\n",
            "Execution time:  0.2645535469055176\n"
          ],
          "name": "stdout"
        }
      ]
    },
    {
      "cell_type": "code",
      "metadata": {
        "id": "eO0rZaRVEQ52",
        "outputId": "06a18f37-350b-4031-dde7-70d27380d9ca",
        "colab": {
          "base_uri": "https://localhost:8080/"
        }
      },
      "source": [
        "results = np.array(results)\n",
        "print(\"Min: \", np.min(results))\n",
        "print(\"Max: \", np.max(results))\n",
        "print(\"Mean: \", np.mean(results))\n",
        "print(\"Std Dev: \", np.std(results))"
      ],
      "execution_count": null,
      "outputs": [
        {
          "output_type": "stream",
          "text": [
            "Min:  1.5877056558366576e-08\n",
            "Max:  2.565509515495279e-06\n",
            "Mean:  6.968903034199059e-07\n",
            "Std Dev:  9.408526203157123e-07\n"
          ],
          "name": "stdout"
        }
      ]
    },
    {
      "cell_type": "markdown",
      "metadata": {
        "id": "VYj-hIGcFBvT"
      },
      "source": [
        "_____\n",
        "### Rastrigin"
      ]
    },
    {
      "cell_type": "code",
      "metadata": {
        "id": "1SIiG8y-FNsT",
        "outputId": "b4252cc7-4ec9-4540-d64a-790fd8bf1f2a",
        "colab": {
          "base_uri": "https://localhost:8080/"
        }
      },
      "source": [
        "from pymoo.factory import Rastrigin\n",
        "problem = Rastrigin()\n",
        "\n",
        "algorithm = PSO()\n",
        "\n",
        "results = []\n",
        "for i in range(5):\n",
        "  res = minimize(problem,\n",
        "               algorithm,\n",
        "               seed=i,\n",
        "               save_history=False,\n",
        "               verbose=False)\n",
        "  print(i)\n",
        "  print(\"X: \", res.X)\n",
        "  print(\"Obj: \", res.F)\n",
        "  print(\"Execution time: \", res.exec_time)\n",
        "  results.append(res.F)\n"
      ],
      "execution_count": null,
      "outputs": [
        {
          "output_type": "stream",
          "text": [
            "0\n",
            "X:  [4.48213777e-07 1.10322680e-06]\n",
            "Obj:  [2.81321633e-10]\n",
            "Execution time:  0.20708537101745605\n",
            "1\n",
            "X:  [-2.17873238e-07 -2.73407327e-08]\n",
            "Obj:  [9.56390522e-12]\n",
            "Execution time:  0.2201066017150879\n",
            "2\n",
            "X:  [ 1.70054640e-06 -3.90787691e-07]\n",
            "Obj:  [6.04018169e-10]\n",
            "Execution time:  0.1838243007659912\n",
            "3\n",
            "X:  [-1.60811031e-06  1.92431250e-06]\n",
            "Obj:  [1.24768817e-09]\n",
            "Execution time:  0.2871711254119873\n",
            "4\n",
            "X:  [-7.33960265e-07  1.58700485e-06]\n",
            "Obj:  [6.06540596e-10]\n",
            "Execution time:  0.2198479175567627\n"
          ],
          "name": "stdout"
        }
      ]
    },
    {
      "cell_type": "code",
      "metadata": {
        "id": "hGs_bK8FFgr7",
        "outputId": "6bae56fa-87ff-43ac-9c5f-4e79f937bca1",
        "colab": {
          "base_uri": "https://localhost:8080/"
        }
      },
      "source": [
        "results = np.array(results)\n",
        "print(\"Min: \", np.min(results))\n",
        "print(\"Max: \", np.max(results))\n",
        "print(\"Mean: \", np.mean(results))\n",
        "print(\"Std Dev: \", np.std(results))"
      ],
      "execution_count": null,
      "outputs": [
        {
          "output_type": "stream",
          "text": [
            "Min:  9.563905223330949e-12\n",
            "Max:  1.2476881749989843e-09\n",
            "Mean:  5.498264954439946e-10\n",
            "Std Dev:  4.140392923709311e-10\n"
          ],
          "name": "stdout"
        }
      ]
    },
    {
      "cell_type": "markdown",
      "metadata": {
        "id": "pLojRQM_GBHZ"
      },
      "source": [
        "_____\n",
        "### Rosenbrock"
      ]
    },
    {
      "cell_type": "code",
      "metadata": {
        "id": "V0UF3mlpGMcE",
        "outputId": "ff011508-bcf7-48cf-bafd-b84b8bf609f1",
        "colab": {
          "base_uri": "https://localhost:8080/"
        }
      },
      "source": [
        "from pymoo.factory import Rosenbrock\n",
        "problem = Rosenbrock()\n",
        "\n",
        "algorithm = PSO()\n",
        "\n",
        "results = []\n",
        "for i in range(5):\n",
        "  res = minimize(problem,\n",
        "               algorithm,\n",
        "               seed=i,\n",
        "               save_history=False,\n",
        "               verbose=False)\n",
        "  print(i)\n",
        "  print(\"X: \", res.X)\n",
        "  print(\"Obj: \", res.F)\n",
        "  print(\"Execution time: \", res.exec_time)\n",
        "  results.append(res.F)"
      ],
      "execution_count": null,
      "outputs": [
        {
          "output_type": "stream",
          "text": [
            "0\n",
            "X:  [1.00179662 1.00361572]\n",
            "Obj:  [3.26490269e-06]\n",
            "Execution time:  0.16451597213745117\n",
            "1\n",
            "X:  [1.00003783 1.00006474]\n",
            "Obj:  [1.33300858e-08]\n",
            "Execution time:  0.49870753288269043\n",
            "2\n",
            "X:  [0.99253174 0.98506473]\n",
            "Obj:  [5.60722536e-05]\n",
            "Execution time:  0.2189197540283203\n",
            "3\n",
            "X:  [1.00004587 1.00008302]\n",
            "Obj:  [9.69477161e-09]\n",
            "Execution time:  0.3928248882293701\n",
            "4\n",
            "X:  [0.99755209 0.99512854]\n",
            "Obj:  [6.02596191e-06]\n",
            "Execution time:  0.38269639015197754\n"
          ],
          "name": "stdout"
        }
      ]
    },
    {
      "cell_type": "code",
      "metadata": {
        "id": "_DIQaBJFGa1l",
        "outputId": "2af56114-71e5-456e-f369-7521f583822b",
        "colab": {
          "base_uri": "https://localhost:8080/"
        }
      },
      "source": [
        "results = np.array(results)\n",
        "print(\"Min: \", np.min(results))\n",
        "print(\"Max: \", np.max(results))\n",
        "print(\"Mean: \", np.mean(results))\n",
        "print(\"Std Dev: \", np.std(results))"
      ],
      "execution_count": null,
      "outputs": [
        {
          "output_type": "stream",
          "text": [
            "Min:  9.6947716122593e-09\n",
            "Max:  5.607225361358498e-05\n",
            "Mean:  1.3077228615384077e-05\n",
            "Std Dev:  2.1614810488518794e-05\n"
          ],
          "name": "stdout"
        }
      ]
    },
    {
      "cell_type": "markdown",
      "metadata": {
        "id": "fFLvIi2qHMUk"
      },
      "source": [
        "____\n",
        "### Griewank"
      ]
    },
    {
      "cell_type": "code",
      "metadata": {
        "id": "RB6LDVAuHTxq",
        "outputId": "dabaf47a-3fd3-437c-f13a-14b96603e655",
        "colab": {
          "base_uri": "https://localhost:8080/"
        }
      },
      "source": [
        "from pymoo.factory import Griewank\n",
        "problem = Griewank()\n",
        "\n",
        "algorithm = PSO()\n",
        "\n",
        "results = []\n",
        "for i in range(5):\n",
        "  res = minimize(problem,\n",
        "               algorithm,\n",
        "               seed=i,\n",
        "               save_history=False,\n",
        "               verbose=False)\n",
        "  print(i)\n",
        "  print(\"X: \", res.X)\n",
        "  print(\"Obj: \", res.F)\n",
        "  print(\"Execution time: \", res.exec_time)\n",
        "  results.append(res.F)"
      ],
      "execution_count": null,
      "outputs": [
        {
          "output_type": "stream",
          "text": [
            "0\n",
            "X:  [-6.27981629e+00 -3.75912491e-05]\n",
            "Obj:  [0.0098647]\n",
            "Execution time:  0.3242831230163574\n",
            "1\n",
            "X:  [-3.13959993 -4.43844865]\n",
            "Obj:  [0.00739613]\n",
            "Execution time:  0.5545670986175537\n",
            "2\n",
            "X:  [-3.1400632   4.43858348]\n",
            "Obj:  [0.00739605]\n",
            "Execution time:  0.31464099884033203\n",
            "3\n",
            "X:  [ 3.67760223e-06 -1.63658698e-05]\n",
            "Obj:  [7.37931938e-11]\n",
            "Execution time:  0.34583520889282227\n",
            "4\n",
            "X:  [-3.14002865  4.4384555 ]\n",
            "Obj:  [0.00739604]\n",
            "Execution time:  0.3021965026855469\n"
          ],
          "name": "stdout"
        }
      ]
    },
    {
      "cell_type": "code",
      "metadata": {
        "id": "sh4rH2uLHbeU",
        "outputId": "d477441b-f093-44b3-a36b-c7fd8991be08",
        "colab": {
          "base_uri": "https://localhost:8080/"
        }
      },
      "source": [
        "results = np.array(results)\n",
        "print(\"Min: \", np.min(results))\n",
        "print(\"Max: \", np.max(results))\n",
        "print(\"Mean: \", np.mean(results))\n",
        "print(\"Std Dev: \", np.std(results))"
      ],
      "execution_count": null,
      "outputs": [
        {
          "output_type": "stream",
          "text": [
            "Min:  7.379319377776028e-11\n",
            "Max:  0.00986469864603079\n",
            "Mean:  0.006410582963222366\n",
            "Std Dev:  0.0033448484046988136\n"
          ],
          "name": "stdout"
        }
      ]
    },
    {
      "cell_type": "markdown",
      "metadata": {
        "id": "SgWp8Kj3H6_e"
      },
      "source": [
        "______\n",
        "### Zakharov"
      ]
    },
    {
      "cell_type": "code",
      "metadata": {
        "id": "-kb6LuphH1zz",
        "outputId": "46e078ea-432c-4066-89e7-f25b14a948a5",
        "colab": {
          "base_uri": "https://localhost:8080/"
        }
      },
      "source": [
        "from pymoo.factory import Zakharov\n",
        "problem = Zakharov()\n",
        "\n",
        "algorithm = PSO()\n",
        "\n",
        "results = []\n",
        "for i in range(5):\n",
        "  res = minimize(problem,\n",
        "               algorithm,\n",
        "               seed=i,\n",
        "               save_history=False,\n",
        "               verbose=False)\n",
        "  print(i)\n",
        "  print(\"X: \", res.X)\n",
        "  print(\"Obj: \", res.F)\n",
        "  print(\"Execution time: \", res.exec_time)\n",
        "  results.append(res.F)"
      ],
      "execution_count": null,
      "outputs": [
        {
          "output_type": "stream",
          "text": [
            "0\n",
            "X:  [2.16900283e-06 1.88335811e-06]\n",
            "Obj:  [1.70598012e-11]\n",
            "Execution time:  0.1775221824645996\n",
            "1\n",
            "X:  [ 8.77136942e-06 -3.68662235e-06]\n",
            "Obj:  [9.10167941e-11]\n",
            "Execution time:  0.166825532913208\n",
            "2\n",
            "X:  [ 2.42367777e-06 -2.00857410e-06]\n",
            "Obj:  [1.05433708e-11]\n",
            "Execution time:  0.17854642868041992\n",
            "3\n",
            "X:  [-8.25040360e-07  1.03957426e-06]\n",
            "Obj:  [2.15460307e-12]\n",
            "Execution time:  0.18362021446228027\n",
            "4\n",
            "X:  [2.23431761e-06 8.93501125e-07]\n",
            "Obj:  [9.83327277e-12]\n",
            "Execution time:  0.18619227409362793\n"
          ],
          "name": "stdout"
        }
      ]
    },
    {
      "cell_type": "code",
      "metadata": {
        "id": "p8d6Yje_IaEo",
        "outputId": "aafa5166-b1dc-4af6-d48e-5259f1d03c3c",
        "colab": {
          "base_uri": "https://localhost:8080/"
        }
      },
      "source": [
        "results = np.array(results)\n",
        "print(\"Min: \", np.min(results))\n",
        "print(\"Max: \", np.max(results))\n",
        "print(\"Mean: \", np.mean(results))\n",
        "print(\"Std Dev: \", np.std(results))"
      ],
      "execution_count": null,
      "outputs": [
        {
          "output_type": "stream",
          "text": [
            "Min:  2.154603065021207e-12\n",
            "Max:  9.101679412372622e-11\n",
            "Mean:  2.6121568395984284e-11\n",
            "Std Dev:  3.2789968551096254e-11\n"
          ],
          "name": "stdout"
        }
      ]
    }
  ]
}