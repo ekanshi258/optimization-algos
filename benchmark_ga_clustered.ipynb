{
  "nbformat": 4,
  "nbformat_minor": 0,
  "metadata": {
    "colab": {
      "name": "benchmark-ga-clustered.ipynb",
      "provenance": [],
      "collapsed_sections": [],
      "toc_visible": true,
      "authorship_tag": "ABX9TyOpuk0Wqmn7zguWO2viABhr",
      "include_colab_link": true
    },
    "kernelspec": {
      "name": "python3",
      "display_name": "Python 3"
    }
  },
  "cells": [
    {
      "cell_type": "markdown",
      "metadata": {
        "id": "view-in-github",
        "colab_type": "text"
      },
      "source": [
        "<a href=\"https://colab.research.google.com/github/ekanshi258/optimization-algos/blob/master/benchmark_ga_clustered.ipynb\" target=\"_parent\"><img src=\"https://colab.research.google.com/assets/colab-badge.svg\" alt=\"Open In Colab\"/></a>"
      ]
    },
    {
      "cell_type": "markdown",
      "metadata": {
        "id": "qsU8i2coJDA7"
      },
      "source": [
        "## Single Objective\n",
        "\n",
        "Trying out different benchmark problems to observe the behaviour of GA on different contours.\n",
        "\n",
        "### **Initial Population: Clustered**"
      ]
    },
    {
      "cell_type": "code",
      "metadata": {
        "id": "-ApnPVv5I33T"
      },
      "source": [
        "pip install pymoo"
      ],
      "execution_count": null,
      "outputs": []
    },
    {
      "cell_type": "code",
      "metadata": {
        "id": "i0wHu2mlJJOZ"
      },
      "source": [
        "from pymoo.algorithms.so_genetic_algorithm import GA\n",
        "from pymoo.factory import Ackley\n",
        "from pymoo.optimize import minimize\n",
        "import numpy as np\n",
        "from pymoo.factory import get_problem, get_visualization"
      ],
      "execution_count": null,
      "outputs": []
    },
    {
      "cell_type": "markdown",
      "metadata": {
        "id": "VF0voKg6IQ4W"
      },
      "source": [
        "Clustered Population Sample:"
      ]
    },
    {
      "cell_type": "code",
      "metadata": {
        "id": "TMMVyfv5IaBc"
      },
      "source": [
        "from sklearn.datasets import make_blobs\n",
        "X, y = make_blobs(n_samples=300, centers=30, n_features=2, random_state=0)"
      ],
      "execution_count": null,
      "outputs": []
    },
    {
      "cell_type": "markdown",
      "metadata": {
        "id": "KHsDpCaJJmhk"
      },
      "source": [
        "_____\n",
        "### Ackley"
      ]
    },
    {
      "cell_type": "code",
      "metadata": {
        "id": "dfKZ3dVdJnWu"
      },
      "source": [
        "problem = Ackley()\n",
        "\n",
        "algorithm = GA(\n",
        "    pop_size=100,\n",
        "    sampling=X,\n",
        "    eliminate_duplicates=True)\n",
        "\n",
        "res = minimize(problem,\n",
        "               algorithm,\n",
        "               seed=1,\n",
        "               save_history=True,\n",
        "               verbose=False)"
      ],
      "execution_count": null,
      "outputs": []
    },
    {
      "cell_type": "code",
      "metadata": {
        "id": "9fY9N3YgJ5x3",
        "outputId": "59e343a2-2e3c-4db7-8f3a-d9846e34f074",
        "colab": {
          "base_uri": "https://localhost:8080/",
          "height": 85
        }
      },
      "source": [
        "print(\"X: \", res.X)\n",
        "print(\"Obj: \", res.F)\n",
        "print(\"Constraints: \", res.G)\n",
        "print(\"Execution time: \", res.exec_time)"
      ],
      "execution_count": null,
      "outputs": [
        {
          "output_type": "stream",
          "text": [
            "X:  [3.86347894e-07 3.30494998e-04]\n",
            "Obj:  [0.00093769]\n",
            "Constraints:  None\n",
            "Execution time:  1.7519121170043945\n"
          ],
          "name": "stdout"
        }
      ]
    },
    {
      "cell_type": "markdown",
      "metadata": {
        "id": "TPpWsELMKFYY"
      },
      "source": [
        "Convergence:"
      ]
    },
    {
      "cell_type": "code",
      "metadata": {
        "id": "M7sqtNzLKAYA",
        "outputId": "084b354c-ab6e-4f57-ae09-3307e2e81af5",
        "colab": {
          "base_uri": "https://localhost:8080/",
          "height": 390
        }
      },
      "source": [
        "import matplotlib.pyplot as plt\n",
        "\n",
        "n_evals = np.array([e.evaluator.n_eval for e in res.history])\n",
        "opt = np.array([e.opt[0].F for e in res.history])\n",
        "plt.figure(figsize=(12,6))\n",
        "plt.title(\"Ackley - GA (clustered)\")\n",
        "plt.plot(n_evals, opt, \"-\")\n",
        "plt.yscale(\"log\")\n",
        "plt.show()"
      ],
      "execution_count": null,
      "outputs": [
        {
          "output_type": "display_data",
          "data": {
            "image/png": "[encoded data removed]",
            "text/plain": [
              "<Figure size 864x432 with 1 Axes>"
            ]
          },
          "metadata": {
            "tags": [],
            "needs_background": "light"
          }
        }
      ]
    },
    {
      "cell_type": "markdown",
      "metadata": {
        "id": "Xqsirr5VKaKR"
      },
      "source": [
        "____\n",
        "### Rastrigin"
      ]
    },
    {
      "cell_type": "code",
      "metadata": {
        "id": "1SIiG8y-FNsT"
      },
      "source": [
        "from pymoo.factory import Rastrigin\n",
        "problem = Rastrigin()\n",
        "\n",
        "algorithm = GA(\n",
        "    pop_size=100,\n",
        "    sampling=X,\n",
        "    eliminate_duplicates=True)\n",
        "\n",
        "res = minimize(problem,\n",
        "               algorithm,\n",
        "               seed=1,\n",
        "               save_history=True,\n",
        "               verbose=False)\n"
      ],
      "execution_count": null,
      "outputs": []
    },
    {
      "cell_type": "code",
      "metadata": {
        "id": "hGs_bK8FFgr7",
        "outputId": "0448c700-3d19-4d51-c2d4-459ac6f47137",
        "colab": {
          "base_uri": "https://localhost:8080/",
          "height": 85
        }
      },
      "source": [
        "print(\"X: \", res.X)\n",
        "print(\"Obj: \", res.F)\n",
        "print(\"Constraints: \", res.G)\n",
        "print(\"Execution time: \", res.exec_time)"
      ],
      "execution_count": null,
      "outputs": [
        {
          "output_type": "stream",
          "text": [
            "X:  [ 1.36410741e-05 -2.52586232e-05]\n",
            "Obj:  [1.63490348e-07]\n",
            "Constraints:  None\n",
            "Execution time:  0.8142416477203369\n"
          ],
          "name": "stdout"
        }
      ]
    },
    {
      "cell_type": "markdown",
      "metadata": {
        "id": "ewosWmuEKtyV"
      },
      "source": [
        "Convergence:"
      ]
    },
    {
      "cell_type": "code",
      "metadata": {
        "id": "ApVCIJuJKtyZ",
        "outputId": "8754e599-e54a-4793-c516-b0184ceaec11",
        "colab": {
          "base_uri": "https://localhost:8080/",
          "height": 390
        }
      },
      "source": [
        "n_evals = np.array([e.evaluator.n_eval for e in res.history])\n",
        "opt = np.array([e.opt[0].F for e in res.history])\n",
        "plt.figure(figsize=(12,6))\n",
        "plt.title(\"Rastrigin - GA (clustered)\")\n",
        "plt.plot(n_evals, opt, \"-\")\n",
        "plt.yscale(\"log\")\n",
        "plt.show()"
      ],
      "execution_count": null,
      "outputs": [
        {
          "output_type": "display_data",
          "data": {
            "image/png": "[encoded data removed]",
            "text/plain": [
              "<Figure size 864x432 with 1 Axes>"
            ]
          },
          "metadata": {
            "tags": [],
            "needs_background": "light"
          }
        }
      ]
    },
    {
      "cell_type": "markdown",
      "metadata": {
        "id": "2wTz7yKsK2KF"
      },
      "source": [
        "_____\n",
        "### Rosenbrock"
      ]
    },
    {
      "cell_type": "code",
      "metadata": {
        "id": "okvdmetLK6ow"
      },
      "source": [
        "from pymoo.factory import Rosenbrock\n",
        "problem = Rosenbrock()\n",
        "\n",
        "algorithm = GA(\n",
        "    pop_size=100,\n",
        "    sampling=X,\n",
        "    eliminate_duplicates=True)\n",
        "\n",
        "res = minimize(problem,\n",
        "               algorithm,\n",
        "               seed=1,\n",
        "               save_history=True,\n",
        "               verbose=False)"
      ],
      "execution_count": null,
      "outputs": []
    },
    {
      "cell_type": "code",
      "metadata": {
        "id": "nNSWb6TBLEuK",
        "outputId": "bad2e591-1321-451b-de51-3697571c6f63",
        "colab": {
          "base_uri": "https://localhost:8080/",
          "height": 85
        }
      },
      "source": [
        "print(\"X: \", res.X)\n",
        "print(\"Obj: \", res.F)\n",
        "print(\"Constraints: \", res.G)\n",
        "print(\"Execution time: \", res.exec_time)"
      ],
      "execution_count": null,
      "outputs": [
        {
          "output_type": "stream",
          "text": [
            "X:  [1.00258306 1.00510887]\n",
            "Obj:  [7.08065548e-06]\n",
            "Constraints:  None\n",
            "Execution time:  0.6958227157592773\n"
          ],
          "name": "stdout"
        }
      ]
    },
    {
      "cell_type": "markdown",
      "metadata": {
        "id": "EhplpezoLDTx"
      },
      "source": [
        "Convergence:"
      ]
    },
    {
      "cell_type": "code",
      "metadata": {
        "id": "6rRbZO1wLOYB",
        "outputId": "1900b660-9b3b-4928-c1e8-1b404cfc65e6",
        "colab": {
          "base_uri": "https://localhost:8080/",
          "height": 390
        }
      },
      "source": [
        "n_evals = np.array([e.evaluator.n_eval for e in res.history])\n",
        "opt = np.array([e.opt[0].F for e in res.history])\n",
        "plt.figure(figsize=(12,6))\n",
        "plt.title(\"Rosenbrock - GA (clustered)\")\n",
        "plt.plot(n_evals, opt, \"-\")\n",
        "plt.yscale(\"log\")\n",
        "plt.show()"
      ],
      "execution_count": null,
      "outputs": [
        {
          "output_type": "display_data",
          "data": {
            "image/png": "[encoded data removed]",
            "text/plain": [
              "<Figure size 864x432 with 1 Axes>"
            ]
          },
          "metadata": {
            "tags": [],
            "needs_background": "light"
          }
        }
      ]
    },
    {
      "cell_type": "markdown",
      "metadata": {
        "id": "dZ8PNFW5LdNT"
      },
      "source": [
        "____\n",
        "### Griewank"
      ]
    },
    {
      "cell_type": "code",
      "metadata": {
        "id": "1xiJm8gnLgxL"
      },
      "source": [
        "from pymoo.factory import Griewank\n",
        "problem = Griewank()\n",
        "\n",
        "algorithm = GA(\n",
        "    pop_size=100,\n",
        "    sampling=X,\n",
        "    eliminate_duplicates=True)\n",
        "\n",
        "res = minimize(problem,\n",
        "               algorithm,\n",
        "               seed=1,\n",
        "               save_history=True,\n",
        "               verbose=False)"
      ],
      "execution_count": null,
      "outputs": []
    },
    {
      "cell_type": "code",
      "metadata": {
        "id": "WO717ApcLpfT",
        "outputId": "d5b03787-d438-4cac-8585-53f8ca24de3e",
        "colab": {
          "base_uri": "https://localhost:8080/",
          "height": 85
        }
      },
      "source": [
        "print(\"X: \", res.X)\n",
        "print(\"Obj: \", res.F)\n",
        "print(\"Constraints: \", res.G)\n",
        "print(\"Execution time: \", res.exec_time)"
      ],
      "execution_count": null,
      "outputs": [
        {
          "output_type": "stream",
          "text": [
            "X:  [-0.01105233 -0.09599548]\n",
            "Obj:  [0.00236617]\n",
            "Constraints:  None\n",
            "Execution time:  0.44101762771606445\n"
          ],
          "name": "stdout"
        }
      ]
    },
    {
      "cell_type": "markdown",
      "metadata": {
        "id": "28_8vMEtLwoE"
      },
      "source": [
        "Convergence:"
      ]
    },
    {
      "cell_type": "code",
      "metadata": {
        "id": "lPCJx5jYLxoY",
        "outputId": "b58e22e8-4bbf-494f-e0a0-46de3c1ccd29",
        "colab": {
          "base_uri": "https://localhost:8080/",
          "height": 390
        }
      },
      "source": [
        "n_evals = np.array([e.evaluator.n_eval for e in res.history])\n",
        "opt = np.array([e.opt[0].F for e in res.history])\n",
        "plt.figure(figsize=(12,6))\n",
        "plt.title(\"Griewank - GA (clustered)\")\n",
        "plt.plot(n_evals, opt, \"-\")\n",
        "plt.yscale(\"log\")\n",
        "plt.show()"
      ],
      "execution_count": null,
      "outputs": [
        {
          "output_type": "display_data",
          "data": {
            "image/png": "[encoded data removed]",
            "text/plain": [
              "<Figure size 864x432 with 1 Axes>"
            ]
          },
          "metadata": {
            "tags": [],
            "needs_background": "light"
          }
        }
      ]
    },
    {
      "cell_type": "markdown",
      "metadata": {
        "id": "v1Sli5XWL72o"
      },
      "source": [
        "____\n",
        "### Zakharov"
      ]
    },
    {
      "cell_type": "code",
      "metadata": {
        "id": "pNdncHSaL9_w"
      },
      "source": [
        "from pymoo.factory import Zakharov\n",
        "problem = Zakharov()\n",
        "\n",
        "algorithm = GA(\n",
        "    pop_size=100,\n",
        "    sampling=X,\n",
        "    eliminate_duplicates=True)\n",
        "\n",
        "res = minimize(problem,\n",
        "               algorithm,\n",
        "               seed=1,\n",
        "               save_history=True,\n",
        "               verbose=False)"
      ],
      "execution_count": null,
      "outputs": []
    },
    {
      "cell_type": "code",
      "metadata": {
        "id": "ME8XDXAHMDfU",
        "outputId": "8ed0b83d-d16c-47d2-f3ca-1d5e253506d2",
        "colab": {
          "base_uri": "https://localhost:8080/",
          "height": 85
        }
      },
      "source": [
        "print(\"X: \", res.X)\n",
        "print(\"Obj: \", res.F)\n",
        "print(\"Constraints: \", res.G)\n",
        "print(\"Execution time: \", res.exec_time)"
      ],
      "execution_count": null,
      "outputs": [
        {
          "output_type": "stream",
          "text": [
            "X:  [ 0.00017879 -0.00030845]\n",
            "Obj:  [1.75095909e-07]\n",
            "Constraints:  None\n",
            "Execution time:  0.876981258392334\n"
          ],
          "name": "stdout"
        }
      ]
    },
    {
      "cell_type": "markdown",
      "metadata": {
        "id": "rSpCB-_KMGOJ"
      },
      "source": [
        "Convergence:"
      ]
    },
    {
      "cell_type": "code",
      "metadata": {
        "id": "sUPnY6oiMKXt",
        "outputId": "4f17516f-8bea-440d-956b-b7addc3240a5",
        "colab": {
          "base_uri": "https://localhost:8080/",
          "height": 390
        }
      },
      "source": [
        "n_evals = np.array([e.evaluator.n_eval for e in res.history])\n",
        "opt = np.array([e.opt[0].F for e in res.history])\n",
        "plt.figure(figsize=(12,6))\n",
        "plt.title(\"Zakharov - GA (clustered)\")\n",
        "plt.plot(n_evals, opt, \"-\")\n",
        "plt.yscale(\"log\")\n",
        "plt.show()"
      ],
      "execution_count": null,
      "outputs": [
        {
          "output_type": "display_data",
          "data": {
            "image/png": "[encoded data removed]",
            "text/plain": [
              "<Figure size 864x432 with 1 Axes>"
            ]
          },
          "metadata": {
            "tags": [],
            "needs_background": "light"
          }
        }
      ]
    }
  ]
}