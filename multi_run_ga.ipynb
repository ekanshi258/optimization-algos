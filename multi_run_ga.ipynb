{
  "nbformat": 4,
  "nbformat_minor": 0,
  "metadata": {
    "colab": {
      "name": "multi-run-ga.ipynb",
      "provenance": [],
      "collapsed_sections": [],
      "toc_visible": true,
      "authorship_tag": "ABX9TyNi36/pICmB2Wcpch2nghk5",
      "include_colab_link": true
    },
    "kernelspec": {
      "name": "python3",
      "display_name": "Python 3"
    }
  },
  "cells": [
    {
      "cell_type": "markdown",
      "metadata": {
        "id": "view-in-github",
        "colab_type": "text"
      },
      "source": [
        "<a href=\"https://colab.research.google.com/github/ekanshi258/optimization-algos/blob/master/multi_run_ga.ipynb\" target=\"_parent\"><img src=\"https://colab.research.google.com/assets/colab-badge.svg\" alt=\"Open In Colab\"/></a>"
      ]
    },
    {
      "cell_type": "markdown",
      "metadata": {
        "id": "qsU8i2coJDA7"
      },
      "source": [
        "## Single Objective\n",
        "\n",
        "5 runs of GA on each of the 5 test functions. \n",
        "\n",
        "\n",
        "### **Initial Population: Randomised**"
      ]
    },
    {
      "cell_type": "code",
      "metadata": {
        "id": "-ApnPVv5I33T"
      },
      "source": [
        "pip install pymoo"
      ],
      "execution_count": null,
      "outputs": []
    },
    {
      "cell_type": "code",
      "metadata": {
        "id": "i0wHu2mlJJOZ"
      },
      "source": [
        "from pymoo.algorithms.so_genetic_algorithm import GA\n",
        "from pymoo.factory import Ackley\n",
        "from pymoo.optimize import minimize\n",
        "import numpy as np\n",
        "from pymoo.factory import get_problem, get_visualization"
      ],
      "execution_count": null,
      "outputs": []
    },
    {
      "cell_type": "markdown",
      "metadata": {
        "id": "KHsDpCaJJmhk"
      },
      "source": [
        "_____\n",
        "### Ackley"
      ]
    },
    {
      "cell_type": "code",
      "metadata": {
        "id": "dfKZ3dVdJnWu",
        "outputId": "c2791ea2-5add-44b7-b044-55b6ef199034",
        "colab": {
          "base_uri": "https://localhost:8080/"
        }
      },
      "source": [
        "problem = Ackley()\n",
        "\n",
        "algorithm = GA(\n",
        "    pop_size=100,\n",
        "    eliminate_duplicates=True)\n",
        "\n",
        "results = []\n",
        "for i in range(5):\n",
        "  res = minimize(problem,\n",
        "               algorithm,\n",
        "               seed=i,\n",
        "               save_history=False,\n",
        "               verbose=False)\n",
        "  print(i)\n",
        "  print(\"X: \", res.X)\n",
        "  print(\"Obj: \", res.F)\n",
        "  print(\"Execution time: \", res.exec_time)\n",
        "  results.append(res.F)"
      ],
      "execution_count": null,
      "outputs": [
        {
          "output_type": "stream",
          "text": [
            "0\n",
            "X:  [-3.31596283e-06 -6.44819063e-07]\n",
            "Obj:  [9.55494718e-06]\n",
            "Execution time:  0.5075740814208984\n",
            "1\n",
            "X:  [-6.62244137e-07  4.73167228e-08]\n",
            "Obj:  [1.87789602e-06]\n",
            "Execution time:  0.6445045471191406\n",
            "2\n",
            "X:  [-6.52092051e-09 -2.02817646e-07]\n",
            "Obj:  [5.73952452e-07]\n",
            "Execution time:  0.9575834274291992\n",
            "3\n",
            "X:  [ 5.93921730e-07 -7.84687216e-07]\n",
            "Obj:  [2.78351575e-06]\n",
            "Execution time:  0.7469367980957031\n",
            "4\n",
            "X:  [ 2.58435716e-06 -2.53877834e-07]\n",
            "Obj:  [7.3450313e-06]\n",
            "Execution time:  0.6676266193389893\n"
          ],
          "name": "stdout"
        }
      ]
    },
    {
      "cell_type": "code",
      "metadata": {
        "id": "9fY9N3YgJ5x3",
        "outputId": "15666842-d085-4e42-ab52-575a6141cef0",
        "colab": {
          "base_uri": "https://localhost:8080/"
        }
      },
      "source": [
        "results = np.array(results)\n",
        "print(\"Min: \", np.min(results))\n",
        "print(\"Max: \", np.max(results))\n",
        "print(\"Mean: \", np.mean(results))\n",
        "print(\"Std Dev: \", np.std(results))"
      ],
      "execution_count": null,
      "outputs": [
        {
          "output_type": "stream",
          "text": [
            "Min:  5.739524522319073e-07\n",
            "Max:  9.554947177026207e-06\n",
            "Mean:  4.427068539758494e-06\n",
            "Std Dev:  3.430909381613772e-06\n"
          ],
          "name": "stdout"
        }
      ]
    },
    {
      "cell_type": "markdown",
      "metadata": {
        "id": "Xqsirr5VKaKR"
      },
      "source": [
        "____\n",
        "### Rastrigin"
      ]
    },
    {
      "cell_type": "code",
      "metadata": {
        "id": "1SIiG8y-FNsT",
        "outputId": "c504c10d-4f7a-46a8-8954-d98ad6d26302",
        "colab": {
          "base_uri": "https://localhost:8080/"
        }
      },
      "source": [
        "from pymoo.factory import Rastrigin\n",
        "problem = Rastrigin()\n",
        "\n",
        "algorithm = GA(\n",
        "    pop_size=100,\n",
        "    eliminate_duplicates=True)\n",
        "\n",
        "results = []\n",
        "for i in range(5):\n",
        "  res = minimize(problem,\n",
        "               algorithm,\n",
        "               seed=i,\n",
        "               save_history=False,\n",
        "               verbose=False)\n",
        "  print(i)\n",
        "  print(\"X: \", res.X)\n",
        "  print(\"Obj: \", res.F)\n",
        "  print(\"Execution time: \", res.exec_time)\n",
        "  results.append(res.F)"
      ],
      "execution_count": null,
      "outputs": [
        {
          "output_type": "stream",
          "text": [
            "0\n",
            "X:  [1.14909199e-05 1.10824867e-05]\n",
            "Obj:  [5.0562754e-08]\n",
            "Execution time:  0.5086452960968018\n",
            "1\n",
            "X:  [1.58952338e-05 3.15093036e-05]\n",
            "Obj:  [2.47096288e-07]\n",
            "Execution time:  0.47436094284057617\n",
            "2\n",
            "X:  [ 1.71608760e-06 -9.07011736e-06]\n",
            "Obj:  [1.6905382e-08]\n",
            "Execution time:  0.4074525833129883\n",
            "3\n",
            "X:  [-1.16212587e-06  7.82024371e-06]\n",
            "Obj:  [1.2400843e-08]\n",
            "Execution time:  0.4768216609954834\n",
            "4\n",
            "X:  [-6.71244326e-07  1.92003795e-05]\n",
            "Obj:  [7.32275396e-08]\n",
            "Execution time:  0.5262072086334229\n"
          ],
          "name": "stdout"
        }
      ]
    },
    {
      "cell_type": "code",
      "metadata": {
        "id": "hGs_bK8FFgr7",
        "outputId": "30fcf531-e20d-41ae-a57b-89055f905c0f",
        "colab": {
          "base_uri": "https://localhost:8080/"
        }
      },
      "source": [
        "results = np.array(results)\n",
        "print(\"Min: \", np.min(results))\n",
        "print(\"Max: \", np.max(results))\n",
        "print(\"Mean: \", np.mean(results))\n",
        "print(\"Std Dev: \", np.std(results))"
      ],
      "execution_count": null,
      "outputs": [
        {
          "output_type": "stream",
          "text": [
            "Min:  1.2400843019122476e-08\n",
            "Max:  2.470962883194261e-07\n",
            "Mean:  8.003856137861476e-08\n",
            "Std Dev:  8.646867254156536e-08\n"
          ],
          "name": "stdout"
        }
      ]
    },
    {
      "cell_type": "markdown",
      "metadata": {
        "id": "2wTz7yKsK2KF"
      },
      "source": [
        "_____\n",
        "### Rosenbrock"
      ]
    },
    {
      "cell_type": "code",
      "metadata": {
        "id": "okvdmetLK6ow",
        "outputId": "7999cbd4-fa58-45d8-c8d3-01f7d75772c9",
        "colab": {
          "base_uri": "https://localhost:8080/"
        }
      },
      "source": [
        "from pymoo.factory import Rosenbrock\n",
        "problem = Rosenbrock()\n",
        "\n",
        "algorithm = GA(\n",
        "    pop_size=100,\n",
        "    eliminate_duplicates=True)\n",
        "\n",
        "results = []\n",
        "for i in range(5):\n",
        "  res = minimize(problem,\n",
        "               algorithm,\n",
        "               seed=i,\n",
        "               save_history=False,\n",
        "               verbose=False)\n",
        "  print(i)\n",
        "  print(\"X: \", res.X)\n",
        "  print(\"Obj: \", res.F)\n",
        "  print(\"Execution time: \", res.exec_time)\n",
        "  results.append(res.F)"
      ],
      "execution_count": null,
      "outputs": [
        {
          "output_type": "stream",
          "text": [
            "0\n",
            "X:  [1.00089639 1.00400541]\n",
            "Obj:  [0.00049002]\n",
            "Execution time:  0.21201157569885254\n",
            "1\n",
            "X:  [1.01889889 1.03807699]\n",
            "Obj:  [0.00035778]\n",
            "Execution time:  0.5605378150939941\n",
            "2\n",
            "X:  [0.9851242  0.97042423]\n",
            "Obj:  [0.0002215]\n",
            "Execution time:  0.7212307453155518\n",
            "3\n",
            "X:  [0.98225411 0.96635996]\n",
            "Obj:  [0.0005511]\n",
            "Execution time:  0.18153905868530273\n",
            "4\n",
            "X:  [1.02024371 1.04090372]\n",
            "Obj:  [0.00040981]\n",
            "Execution time:  0.6541619300842285\n"
          ],
          "name": "stdout"
        }
      ]
    },
    {
      "cell_type": "code",
      "metadata": {
        "id": "nNSWb6TBLEuK",
        "outputId": "bbe155ea-7422-47a0-94d5-4f662a16dd3b",
        "colab": {
          "base_uri": "https://localhost:8080/"
        }
      },
      "source": [
        "results = np.array(results)\n",
        "print(\"Min: \", np.min(results))\n",
        "print(\"Max: \", np.max(results))\n",
        "print(\"Mean: \", np.mean(results))\n",
        "print(\"Std Dev: \", np.std(results))"
      ],
      "execution_count": null,
      "outputs": [
        {
          "output_type": "stream",
          "text": [
            "Min:  0.00022149605508377755\n",
            "Max:  0.000551097925245307\n",
            "Mean:  0.00040603994167395883\n",
            "Std Dev:  0.00011357300131214444\n"
          ],
          "name": "stdout"
        }
      ]
    },
    {
      "cell_type": "markdown",
      "metadata": {
        "id": "dZ8PNFW5LdNT"
      },
      "source": [
        "____\n",
        "### Griewank"
      ]
    },
    {
      "cell_type": "code",
      "metadata": {
        "id": "1xiJm8gnLgxL",
        "outputId": "bda1edfe-8842-4225-e781-5dd8e6a4a432",
        "colab": {
          "base_uri": "https://localhost:8080/"
        }
      },
      "source": [
        "from pymoo.factory import Griewank\n",
        "problem = Griewank()\n",
        "\n",
        "algorithm = GA(\n",
        "    pop_size=100,\n",
        "    eliminate_duplicates=True)\n",
        "\n",
        "results = []\n",
        "for i in range(5):\n",
        "  res = minimize(problem,\n",
        "               algorithm,\n",
        "               seed=i,\n",
        "               save_history=False,\n",
        "               verbose=False)\n",
        "  print(i)\n",
        "  print(\"X: \", res.X)\n",
        "  print(\"Obj: \", res.F)\n",
        "  print(\"Execution time: \", res.exec_time)\n",
        "  results.append(res.F)"
      ],
      "execution_count": null,
      "outputs": [
        {
          "output_type": "stream",
          "text": [
            "0\n",
            "X:  [0.00214412 0.09854693]\n",
            "Obj:  [0.00243161]\n",
            "Execution time:  0.4579169750213623\n",
            "1\n",
            "X:  [-6.16167721 -0.02497133]\n",
            "Obj:  [0.01701949]\n",
            "Execution time:  0.2887756824493408\n",
            "2\n",
            "X:  [-6.60439113e-05 -8.71346955e-05]\n",
            "Obj:  [4.0820014e-09]\n",
            "Execution time:  0.7387783527374268\n",
            "3\n",
            "X:  [-4.95548130e-05 -2.56568682e-04]\n",
            "Obj:  [1.77017826e-08]\n",
            "Execution time:  0.8078742027282715\n",
            "4\n",
            "X:  [-3.06211929e-05 -7.31595392e-03]\n",
            "Obj:  [1.33946154e-05]\n",
            "Execution time:  1.4186267852783203\n"
          ],
          "name": "stdout"
        }
      ]
    },
    {
      "cell_type": "code",
      "metadata": {
        "id": "WO717ApcLpfT",
        "outputId": "3da34a44-340f-4731-e06a-41d9543b5763",
        "colab": {
          "base_uri": "https://localhost:8080/"
        }
      },
      "source": [
        "results = np.array(results)\n",
        "print(\"Min: \", np.min(results))\n",
        "print(\"Max: \", np.max(results))\n",
        "print(\"Mean: \", np.mean(results))\n",
        "print(\"Std Dev: \", np.std(results))"
      ],
      "execution_count": null,
      "outputs": [
        {
          "output_type": "stream",
          "text": [
            "Min:  4.082001403560298e-09\n",
            "Max:  0.01701949175268347\n",
            "Mean:  0.003892904476618453\n",
            "Std Dev:  0.006630271493455302\n"
          ],
          "name": "stdout"
        }
      ]
    },
    {
      "cell_type": "markdown",
      "metadata": {
        "id": "v1Sli5XWL72o"
      },
      "source": [
        "____\n",
        "### Zakharov"
      ]
    },
    {
      "cell_type": "code",
      "metadata": {
        "id": "pNdncHSaL9_w",
        "outputId": "0c7d675c-1b11-4b96-b241-3228714eed9c",
        "colab": {
          "base_uri": "https://localhost:8080/"
        }
      },
      "source": [
        "from pymoo.factory import Zakharov\n",
        "problem = Zakharov()\n",
        "\n",
        "algorithm = GA(\n",
        "    pop_size=100,\n",
        "    eliminate_duplicates=True)\n",
        "\n",
        "results = []\n",
        "for i in range(5):\n",
        "  res = minimize(problem,\n",
        "               algorithm,\n",
        "               seed=i,\n",
        "               save_history=False,\n",
        "               verbose=False)\n",
        "  print(i)\n",
        "  print(\"X: \", res.X)\n",
        "  print(\"Obj: \", res.F)\n",
        "  print(\"Execution time: \", res.exec_time)\n",
        "  results.append(res.F)"
      ],
      "execution_count": null,
      "outputs": [
        {
          "output_type": "stream",
          "text": [
            "0\n",
            "X:  [2.68944907e-04 2.11310450e-06]\n",
            "Obj:  [9.09914433e-08]\n",
            "Execution time:  0.2927429676055908\n",
            "1\n",
            "X:  [-2.77346992e-05  1.05809213e-05]\n",
            "Obj:  [8.91970048e-10]\n",
            "Execution time:  0.27973151206970215\n",
            "2\n",
            "X:  [-5.98832646e-05  1.23102682e-05]\n",
            "Obj:  [4.04841308e-09]\n",
            "Execution time:  0.35477399826049805\n",
            "3\n",
            "X:  [-2.58186334e-05 -3.19205479e-05]\n",
            "Obj:  [3.69523997e-09]\n",
            "Execution time:  0.3999485969543457\n",
            "4\n",
            "X:  [ 1.33562661e-04 -3.56660759e-05]\n",
            "Obj:  [2.00792126e-08]\n",
            "Execution time:  0.37683677673339844\n"
          ],
          "name": "stdout"
        }
      ]
    },
    {
      "cell_type": "code",
      "metadata": {
        "id": "ME8XDXAHMDfU",
        "outputId": "20cda2c4-1f7f-4d60-ca29-a2655c48e801",
        "colab": {
          "base_uri": "https://localhost:8080/"
        }
      },
      "source": [
        "results = np.array(results)\n",
        "print(\"Min: \", np.min(results))\n",
        "print(\"Max: \", np.max(results))\n",
        "print(\"Mean: \", np.mean(results))\n",
        "print(\"Std Dev: \", np.std(results))"
      ],
      "execution_count": null,
      "outputs": [
        {
          "output_type": "stream",
          "text": [
            "Min:  8.919700477523792e-10\n",
            "Max:  9.099144326833223e-08\n",
            "Mean:  2.3941255792844452e-08\n",
            "Std Dev:  3.419806701980516e-08\n"
          ],
          "name": "stdout"
        }
      ]
    }
  ]
}