{
  "nbformat": 4,
  "nbformat_minor": 0,
  "metadata": {
    "colab": {
      "name": "multi-run-ga-clustered.ipynb",
      "provenance": [],
      "collapsed_sections": [],
      "toc_visible": true,
      "authorship_tag": "ABX9TyMrPPVd1Tk9kZapMUemn0qN",
      "include_colab_link": true
    },
    "kernelspec": {
      "name": "python3",
      "display_name": "Python 3"
    }
  },
  "cells": [
    {
      "cell_type": "markdown",
      "metadata": {
        "id": "view-in-github",
        "colab_type": "text"
      },
      "source": [
        "<a href=\"https://colab.research.google.com/github/ekanshi258/optimization-algos/blob/master/multi_run_ga_clustered.ipynb\" target=\"_parent\"><img src=\"https://colab.research.google.com/assets/colab-badge.svg\" alt=\"Open In Colab\"/></a>"
      ]
    },
    {
      "cell_type": "markdown",
      "metadata": {
        "id": "qsU8i2coJDA7"
      },
      "source": [
        "## Single Objective\n",
        "\n",
        "5 runs of clustered GA on each of the 5 test functions. \n",
        "\n",
        "### **Initial Population: Clustered**"
      ]
    },
    {
      "cell_type": "code",
      "metadata": {
        "id": "-ApnPVv5I33T"
      },
      "source": [
        "pip install pymoo"
      ],
      "execution_count": null,
      "outputs": []
    },
    {
      "cell_type": "code",
      "metadata": {
        "id": "i0wHu2mlJJOZ"
      },
      "source": [
        "from pymoo.algorithms.so_genetic_algorithm import GA\n",
        "from pymoo.factory import Ackley\n",
        "from pymoo.optimize import minimize\n",
        "import numpy as np\n",
        "from pymoo.factory import get_problem, get_visualization"
      ],
      "execution_count": null,
      "outputs": []
    },
    {
      "cell_type": "markdown",
      "metadata": {
        "id": "VF0voKg6IQ4W"
      },
      "source": [
        "Clustered Population Sample:"
      ]
    },
    {
      "cell_type": "code",
      "metadata": {
        "id": "TMMVyfv5IaBc"
      },
      "source": [
        "from sklearn.datasets import make_blobs\n",
        "X, y = make_blobs(n_samples=300, centers=30, n_features=2, random_state=0)"
      ],
      "execution_count": null,
      "outputs": []
    },
    {
      "cell_type": "markdown",
      "metadata": {
        "id": "KHsDpCaJJmhk"
      },
      "source": [
        "_____\n",
        "### Ackley"
      ]
    },
    {
      "cell_type": "code",
      "metadata": {
        "id": "dfKZ3dVdJnWu",
        "outputId": "aeb71b62-541e-4fae-d560-e6ab5aea0830",
        "colab": {
          "base_uri": "https://localhost:8080/"
        }
      },
      "source": [
        "problem = Ackley()\n",
        "\n",
        "algorithm = GA(\n",
        "    pop_size=100,\n",
        "    sampling=X,\n",
        "    eliminate_duplicates=True)\n",
        "\n",
        "results = []\n",
        "for i in range(5):\n",
        "  res = minimize(problem,\n",
        "               algorithm,\n",
        "               seed=i,\n",
        "               save_history=False,\n",
        "               verbose=False)\n",
        "  print(i)\n",
        "  print(\"X: \", res.X)\n",
        "  print(\"Obj: \", res.F)\n",
        "  print(\"Execution time: \", res.exec_time)\n",
        "  results.append(res.F)"
      ],
      "execution_count": null,
      "outputs": [
        {
          "output_type": "stream",
          "text": [
            "0\n",
            "X:  [-3.89261572e-07 -7.74703698e-08]\n",
            "Obj:  [1.12259487e-06]\n",
            "Execution time:  0.7945656776428223\n",
            "1\n",
            "X:  [3.86347894e-07 3.30494998e-04]\n",
            "Obj:  [0.00093769]\n",
            "Execution time:  0.9814825057983398\n",
            "2\n",
            "X:  [-8.12408951e-07  3.23660846e-06]\n",
            "Obj:  [9.43878905e-06]\n",
            "Execution time:  0.5651395320892334\n",
            "3\n",
            "X:  [3.45423754e-06 1.59952088e-05]\n",
            "Obj:  [4.62913362e-05]\n",
            "Execution time:  0.5052235126495361\n",
            "4\n",
            "X:  [-5.19709580e-04 -8.78095922e-06]\n",
            "Obj:  [0.00147736]\n",
            "Execution time:  0.9563674926757812\n"
          ],
          "name": "stdout"
        }
      ]
    },
    {
      "cell_type": "code",
      "metadata": {
        "id": "9fY9N3YgJ5x3",
        "outputId": "1725037a-d4e0-4007-d260-c35180d8a5c3",
        "colab": {
          "base_uri": "https://localhost:8080/"
        }
      },
      "source": [
        "results = np.array(results)\n",
        "print(\"Min: \", np.min(results))\n",
        "print(\"Max: \", np.max(results))\n",
        "print(\"Mean: \", np.mean(results))\n",
        "print(\"Std Dev: \", np.std(results))"
      ],
      "execution_count": null,
      "outputs": [
        {
          "output_type": "stream",
          "text": [
            "Min:  1.1225948743920355e-06\n",
            "Max:  0.0014773647828687508\n",
            "Mean:  0.0004943815388618767\n",
            "Std Dev:  0.0006069657824821523\n"
          ],
          "name": "stdout"
        }
      ]
    },
    {
      "cell_type": "markdown",
      "metadata": {
        "id": "Xqsirr5VKaKR"
      },
      "source": [
        "____\n",
        "### Rastrigin"
      ]
    },
    {
      "cell_type": "code",
      "metadata": {
        "id": "1SIiG8y-FNsT",
        "outputId": "f7bbb248-96fc-4205-def2-66edaf236097",
        "colab": {
          "base_uri": "https://localhost:8080/"
        }
      },
      "source": [
        "from pymoo.factory import Rastrigin\n",
        "problem = Rastrigin()\n",
        "\n",
        "algorithm = GA(\n",
        "    pop_size=100,\n",
        "    sampling=X,\n",
        "    eliminate_duplicates=True)\n",
        "\n",
        "results = []\n",
        "for i in range(5):\n",
        "  res = minimize(problem,\n",
        "               algorithm,\n",
        "               seed=i,\n",
        "               save_history=False,\n",
        "               verbose=False)\n",
        "  print(i)\n",
        "  print(\"X: \", res.X)\n",
        "  print(\"Obj: \", res.F)\n",
        "  print(\"Execution time: \", res.exec_time)\n",
        "  results.append(res.F)"
      ],
      "execution_count": null,
      "outputs": [
        {
          "output_type": "stream",
          "text": [
            "/usr/local/lib/python3.6/dist-packages/pymoo/operators/crossover/simulated_binary_crossover.py:45: RuntimeWarning: invalid value encountered in power\n",
            "  betaq[mask] = np.power((rand * alpha), (1.0 / (self.eta + 1.0)))[mask]\n",
            "/usr/local/lib/python3.6/dist-packages/pymoo/operators/mutation/polynomial_mutation.py:52: RuntimeWarning: invalid value encountered in power\n",
            "  d = 1.0 - (np.power(val, mut_pow))\n"
          ],
          "name": "stderr"
        },
        {
          "output_type": "stream",
          "text": [
            "0\n",
            "X:  [ 2.78376180e-06 -2.20017204e-06]\n",
            "Obj:  [2.49777088e-09]\n",
            "Execution time:  0.523770809173584\n"
          ],
          "name": "stdout"
        },
        {
          "output_type": "stream",
          "text": [
            "/usr/local/lib/python3.6/dist-packages/pymoo/operators/mutation/polynomial_mutation.py:47: RuntimeWarning: invalid value encountered in power\n",
            "  d = np.power(val, mut_pow) - 1.0\n"
          ],
          "name": "stderr"
        },
        {
          "output_type": "stream",
          "text": [
            "1\n",
            "X:  [ 1.36410741e-05 -2.52586232e-05]\n",
            "Obj:  [1.63490348e-07]\n",
            "Execution time:  0.42820048332214355\n",
            "2\n",
            "X:  [ 4.49162825e-06 -3.73753501e-06]\n",
            "Obj:  [6.77387746e-09]\n",
            "Execution time:  0.5264708995819092\n",
            "3\n",
            "X:  [-4.60254463e-07  6.28667619e-08]\n",
            "Obj:  [4.28101998e-11]\n",
            "Execution time:  0.45002245903015137\n",
            "4\n",
            "X:  [-7.30692947e-08  2.50837596e-06]\n",
            "Obj:  [1.24933308e-09]\n",
            "Execution time:  0.3748507499694824\n"
          ],
          "name": "stdout"
        }
      ]
    },
    {
      "cell_type": "code",
      "metadata": {
        "id": "hGs_bK8FFgr7",
        "outputId": "06dac318-b1ad-45e0-cbf6-3fa9277b389c",
        "colab": {
          "base_uri": "https://localhost:8080/"
        }
      },
      "source": [
        "results = np.array(results)\n",
        "print(\"Min: \", np.min(results))\n",
        "print(\"Max: \", np.max(results))\n",
        "print(\"Mean: \", np.mean(results))\n",
        "print(\"Std Dev: \", np.std(results))"
      ],
      "execution_count": null,
      "outputs": [
        {
          "output_type": "stream",
          "text": [
            "Min:  4.2810199829546036e-11\n",
            "Max:  1.6349034837048748e-07\n",
            "Mean:  3.4810827997944216e-08\n",
            "Std Dev:  6.437982948384633e-08\n"
          ],
          "name": "stdout"
        }
      ]
    },
    {
      "cell_type": "markdown",
      "metadata": {
        "id": "2wTz7yKsK2KF"
      },
      "source": [
        "_____\n",
        "### Rosenbrock"
      ]
    },
    {
      "cell_type": "code",
      "metadata": {
        "id": "okvdmetLK6ow",
        "outputId": "011c4448-86a1-411d-d25f-92ce92c7e916",
        "colab": {
          "base_uri": "https://localhost:8080/"
        }
      },
      "source": [
        "from pymoo.factory import Rosenbrock\n",
        "problem = Rosenbrock()\n",
        "\n",
        "algorithm = GA(\n",
        "    pop_size=100,\n",
        "    sampling=X,\n",
        "    eliminate_duplicates=True)\n",
        "\n",
        "results = []\n",
        "for i in range(5):\n",
        "  res = minimize(problem,\n",
        "               algorithm,\n",
        "               seed=i,\n",
        "               save_history=False,\n",
        "               verbose=False)\n",
        "  print(i)\n",
        "  print(\"X: \", res.X)\n",
        "  print(\"Obj: \", res.F)\n",
        "  print(\"Execution time: \", res.exec_time)\n",
        "  results.append(res.F)"
      ],
      "execution_count": null,
      "outputs": [
        {
          "output_type": "stream",
          "text": [
            "/usr/local/lib/python3.6/dist-packages/pymoo/operators/crossover/simulated_binary_crossover.py:45: RuntimeWarning: invalid value encountered in power\n",
            "  betaq[mask] = np.power((rand * alpha), (1.0 / (self.eta + 1.0)))[mask]\n",
            "/usr/local/lib/python3.6/dist-packages/pymoo/operators/mutation/polynomial_mutation.py:47: RuntimeWarning: invalid value encountered in power\n",
            "  d = np.power(val, mut_pow) - 1.0\n",
            "/usr/local/lib/python3.6/dist-packages/pymoo/operators/mutation/polynomial_mutation.py:52: RuntimeWarning: invalid value encountered in power\n",
            "  d = 1.0 - (np.power(val, mut_pow))\n"
          ],
          "name": "stderr"
        },
        {
          "output_type": "stream",
          "text": [
            "0\n",
            "X:  [0.9889151  0.97891324]\n",
            "Obj:  [0.00021507]\n",
            "Execution time:  0.35301661491394043\n",
            "1\n",
            "X:  [1.00258306 1.00510887]\n",
            "Obj:  [7.08065548e-06]\n",
            "Execution time:  0.44051408767700195\n",
            "2\n",
            "X:  [0.98842065 0.9769093 ]\n",
            "Obj:  [0.00013452]\n",
            "Execution time:  0.18836522102355957\n",
            "3\n",
            "X:  [0.9922751  0.98455872]\n",
            "Obj:  [5.99356916e-05]\n",
            "Execution time:  0.421367883682251\n",
            "4\n",
            "X:  [0.987723   0.97473445]\n",
            "Obj:  [0.00022508]\n",
            "Execution time:  0.2657620906829834\n"
          ],
          "name": "stdout"
        }
      ]
    },
    {
      "cell_type": "code",
      "metadata": {
        "id": "nNSWb6TBLEuK",
        "outputId": "4deab299-5bf4-4cf2-b237-9cb6cb06976b",
        "colab": {
          "base_uri": "https://localhost:8080/"
        }
      },
      "source": [
        "results = np.array(results)\n",
        "print(\"Min: \", np.min(results))\n",
        "print(\"Max: \", np.max(results))\n",
        "print(\"Mean: \", np.mean(results))\n",
        "print(\"Std Dev: \", np.std(results))"
      ],
      "execution_count": null,
      "outputs": [
        {
          "output_type": "stream",
          "text": [
            "Min:  7.080655482196879e-06\n",
            "Max:  0.0002250761794594203\n",
            "Mean:  0.0001283355027603403\n",
            "Std Dev:  8.520633803373922e-05\n"
          ],
          "name": "stdout"
        }
      ]
    },
    {
      "cell_type": "markdown",
      "metadata": {
        "id": "dZ8PNFW5LdNT"
      },
      "source": [
        "____\n",
        "### Griewank"
      ]
    },
    {
      "cell_type": "code",
      "metadata": {
        "id": "1xiJm8gnLgxL",
        "outputId": "9dcf97b9-9235-4e2c-b113-ed5915a852dd",
        "colab": {
          "base_uri": "https://localhost:8080/"
        }
      },
      "source": [
        "from pymoo.factory import Griewank\n",
        "problem = Griewank()\n",
        "\n",
        "algorithm = GA(\n",
        "    pop_size=100,\n",
        "    sampling=X,\n",
        "    eliminate_duplicates=True)\n",
        "\n",
        "results = []\n",
        "for i in range(5):\n",
        "  res = minimize(problem,\n",
        "               algorithm,\n",
        "               seed=i,\n",
        "               save_history=False,\n",
        "               verbose=False)\n",
        "  print(i)\n",
        "  print(\"X: \", res.X)\n",
        "  print(\"Obj: \", res.F)\n",
        "  print(\"Execution time: \", res.exec_time)\n",
        "  results.append(res.F)"
      ],
      "execution_count": null,
      "outputs": [
        {
          "output_type": "stream",
          "text": [
            "0\n",
            "X:  [-0.00010934 -0.00023879]\n",
            "Obj:  [2.02499312e-08]\n",
            "Execution time:  0.43538546562194824\n",
            "1\n",
            "X:  [-0.01105233 -0.09599548]\n",
            "Obj:  [0.00236617]\n",
            "Execution time:  0.29993557929992676\n",
            "2\n",
            "X:  [ 1.09467376e-04 -4.25597339e-05]\n",
            "Obj:  [6.4478346e-09]\n",
            "Execution time:  0.5755143165588379\n",
            "3\n",
            "X:  [3.13964009 4.43784136]\n",
            "Obj:  [0.0073962]\n",
            "Execution time:  0.5528852939605713\n",
            "4\n",
            "X:  [ 3.13869477 -4.43814763]\n",
            "Obj:  [0.00739694]\n",
            "Execution time:  0.4932281970977783\n"
          ],
          "name": "stdout"
        }
      ]
    },
    {
      "cell_type": "code",
      "metadata": {
        "id": "WO717ApcLpfT",
        "outputId": "a8110001-0a3c-40a4-8050-434140428dfa",
        "colab": {
          "base_uri": "https://localhost:8080/"
        }
      },
      "source": [
        "results = np.array(results)\n",
        "print(\"Min: \", np.min(results))\n",
        "print(\"Max: \", np.max(results))\n",
        "print(\"Mean: \", np.mean(results))\n",
        "print(\"Std Dev: \", np.std(results))"
      ],
      "execution_count": null,
      "outputs": [
        {
          "output_type": "stream",
          "text": [
            "Min:  6.447834599576652e-09\n",
            "Max:  0.007396944427162877\n",
            "Mean:  0.003431868861794074\n",
            "Std Dev:  0.0033504854385391627\n"
          ],
          "name": "stdout"
        }
      ]
    },
    {
      "cell_type": "markdown",
      "metadata": {
        "id": "v1Sli5XWL72o"
      },
      "source": [
        "____\n",
        "### Zakharov"
      ]
    },
    {
      "cell_type": "code",
      "metadata": {
        "id": "pNdncHSaL9_w",
        "outputId": "5b780db6-9995-417b-d9ce-8052135ea712",
        "colab": {
          "base_uri": "https://localhost:8080/"
        }
      },
      "source": [
        "from pymoo.factory import Zakharov\n",
        "problem = Zakharov()\n",
        "\n",
        "algorithm = GA(\n",
        "    pop_size=100,\n",
        "    sampling=X,\n",
        "    eliminate_duplicates=True)\n",
        "\n",
        "results = []\n",
        "for i in range(5):\n",
        "  res = minimize(problem,\n",
        "               algorithm,\n",
        "               seed=i,\n",
        "               save_history=False,\n",
        "               verbose=False)\n",
        "  print(i)\n",
        "  print(\"X: \", res.X)\n",
        "  print(\"Obj: \", res.F)\n",
        "  print(\"Execution time: \", res.exec_time)\n",
        "  results.append(res.F)"
      ],
      "execution_count": null,
      "outputs": [
        {
          "output_type": "stream",
          "text": [
            "/usr/local/lib/python3.6/dist-packages/pymoo/operators/crossover/simulated_binary_crossover.py:45: RuntimeWarning: invalid value encountered in power\n",
            "  betaq[mask] = np.power((rand * alpha), (1.0 / (self.eta + 1.0)))[mask]\n"
          ],
          "name": "stderr"
        },
        {
          "output_type": "stream",
          "text": [
            "0\n",
            "X:  [-1.50851499e-07  2.47620385e-05]\n",
            "Obj:  [1.22261015e-09]\n",
            "Execution time:  0.31074976921081543\n",
            "1\n",
            "X:  [ 0.00017879 -0.00030845]\n",
            "Obj:  [1.75095909e-07]\n",
            "Execution time:  0.44731903076171875\n",
            "2\n",
            "X:  [ 5.70086338e-05 -3.20996328e-05]\n",
            "Obj:  [4.29329704e-09]\n",
            "Execution time:  0.38646745681762695\n",
            "3\n",
            "X:  [7.87419841e-06 4.22345291e-06]\n",
            "Obj:  [1.46435166e-10]\n",
            "Execution time:  0.38871002197265625\n",
            "4\n",
            "X:  [-9.69232856e-05 -1.81939902e-05]\n",
            "Obj:  [1.4168118e-08]\n",
            "Execution time:  0.39221763610839844\n"
          ],
          "name": "stdout"
        }
      ]
    },
    {
      "cell_type": "code",
      "metadata": {
        "id": "ME8XDXAHMDfU",
        "outputId": "3ed91634-b3a2-4ab7-9efc-4323e183b63c",
        "colab": {
          "base_uri": "https://localhost:8080/"
        }
      },
      "source": [
        "results = np.array(results)\n",
        "print(\"Min: \", np.min(results))\n",
        "print(\"Max: \", np.max(results))\n",
        "print(\"Mean: \", np.mean(results))\n",
        "print(\"Std Dev: \", np.std(results))"
      ],
      "execution_count": null,
      "outputs": [
        {
          "output_type": "stream",
          "text": [
            "Min:  1.464351657393236e-10\n",
            "Max:  1.7509590879783312e-07\n",
            "Mean:  3.8985273834292055e-08\n",
            "Std Dev:  6.823489369002841e-08\n"
          ],
          "name": "stdout"
        }
      ]
    }
  ]
}