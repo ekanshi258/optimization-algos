{
  "nbformat": 4,
  "nbformat_minor": 0,
  "metadata": {
    "colab": {
      "name": "clustered_design_1.ipynb",
      "provenance": [],
      "collapsed_sections": [],
      "authorship_tag": "ABX9TyNgBFLiaD++9+vDeeZQYYEn",
      "include_colab_link": true
    },
    "kernelspec": {
      "name": "python3",
      "display_name": "Python 3"
    }
  },
  "cells": [
    {
      "cell_type": "markdown",
      "metadata": {
        "id": "view-in-github",
        "colab_type": "text"
      },
      "source": [
        "<a href=\"https://colab.research.google.com/github/ekanshi258/optimization-algos/blob/master/clustered_design_1.ipynb\" target=\"_parent\"><img src=\"https://colab.research.google.com/assets/colab-badge.svg\" alt=\"Open In Colab\"/></a>"
      ]
    },
    {
      "cell_type": "code",
      "metadata": {
        "id": "TL6flxX0g3gM",
        "colab_type": "code",
        "colab": {}
      },
      "source": [
        "pip install pymoo"
      ],
      "execution_count": null,
      "outputs": []
    },
    {
      "cell_type": "markdown",
      "metadata": {
        "id": "BvBjsmQAhEW-",
        "colab_type": "text"
      },
      "source": [
        "This experiment is based on the following paper:  \n",
        "_Solving structural engineering design optimization problems using an artificial bee colony algorithm_: https://www.aimsciences.org/article/doi/10.3934/jimo.2014.10.777\n",
        "\n",
        "I will be using the NSGA2 (with clustered initial population) to solve the same problem as given in the paper.\n"
      ]
    },
    {
      "cell_type": "code",
      "metadata": {
        "id": "2y86dCQ8hLJZ",
        "colab_type": "code",
        "colab": {}
      },
      "source": [
        "import numpy as np\n",
        "from pymoo.model.problem import FunctionalProblem\n",
        "from pymoo.algorithms.nsga2 import NSGA2\n",
        "from pymoo.factory import get_sampling, get_crossover, get_mutation, get_termination\n",
        "from pymoo.optimize import minimize\n",
        "from sklearn.datasets import make_blobs"
      ],
      "execution_count": 3,
      "outputs": []
    },
    {
      "cell_type": "markdown",
      "metadata": {
        "id": "ACCBuLJfhqJY",
        "colab_type": "text"
      },
      "source": [
        "The paper states 3 structural design problems. \n",
        "\n",
        "Problem 1:  \n",
        "**Design of pressure vessel. (Section 4.2.1).**\n",
        "\n",
        "\n",
        "---\n"
      ]
    },
    {
      "cell_type": "markdown",
      "metadata": {
        "id": "N41vwVoPh6eE",
        "colab_type": "text"
      },
      "source": [
        "Objective functions:  \n",
        "```\n",
        "Minimize f(X) = 0.6224*x1*x3*x4 + 1.7781*x2*x3^2+ 3.1661*x1^2*x4 + 19.84*x1^2*x3\n",
        "\n",
        "Such that:\n",
        "g1(X) = −x1 + 0.0193*x3 <= 0\n",
        "g2(X) = −x2 + 0.00954*x3 <= 0\n",
        "g3(X) = − pi*x3^2*x4 − 4/3 *pi*x3^3 + 1296000 <= 0\n",
        "g4(X) = x4 − 240 <= 0\n",
        "\n",
        "Bounds:\n",
        "0.0625 <= x1, x2 <= 99*0.0625 \n",
        "10 <= x3, x4 <= 200\n",
        "```\n",
        "\n",
        "> There are four design variable associated with it namely\n",
        "as thickness of the pressure vessel, Ts = x1, thickness of the head, Th = x2, inner radius of the vessel, R = x3, and length of the vessel without heads, L = x4 i.e. the variables vectors are given (in inches) by X = (Ts, Th,R,L) = (x1, x2, x3, x4).\n",
        " \n",
        "\n"
      ]
    },
    {
      "cell_type": "code",
      "metadata": {
        "id": "Kb5uPfnYjWQd",
        "colab_type": "code",
        "colab": {}
      },
      "source": [
        "import math\n",
        "\n",
        "pi = math.pi\n",
        "\n",
        "#objective functions\n",
        "objs = [\n",
        "    lambda x: 0.6224 * x[0]*x[2]*x[3] + 1.7781 * x[1]*x[2]**2 + 3.1661 * x[0]**2 * x[3] + 19.84*x[0]**2 * x[2],\n",
        "]\n",
        "\n",
        "# Contraint equations\n",
        "constr_ieq = [\n",
        "    lambda x: - x[0] + 0.0193*x[2],\n",
        "    lambda x: - x[1] + 0.00954*x[2],\n",
        "    lambda x: - pi*x[2]**2*x[3] - 4/3 *pi*x[2]**3 + 1296000,\n",
        "    lambda x: x[3] - 240\n",
        "]\n",
        "\n",
        "# value bounds\n",
        "lower_bound = np.array([0.0625, 0.0625, 10, 10])\n",
        "upper_bound = np.array([99*0.0625, 99*0.0625, 200, 200])\n",
        "\n",
        "# initialising problem\n",
        "problem = FunctionalProblem(4, objs, constr_ieq=constr_ieq, xl=lower_bound, xu=upper_bound)"
      ],
      "execution_count": 4,
      "outputs": []
    },
    {
      "cell_type": "markdown",
      "metadata": {
        "id": "X6hFlnzljIbA",
        "colab_type": "text"
      },
      "source": [
        "\n",
        "Instead of starting out with a randomly generated population as we usually do, I will be generating clusters of populations, i.e. the population will be clustered into groups instead of being scattered throughout the solution space.\n",
        "\n",
        "**Reason**: Comparison of algo/solution quality with that when population is randomly scattered."
      ]
    },
    {
      "cell_type": "code",
      "metadata": {
        "id": "zEA41-RSkueL",
        "colab_type": "code",
        "colab": {}
      },
      "source": [
        "# Generating 30 clusters:\n",
        "X, y = make_blobs(n_samples=300, centers=30, n_features=4, random_state=0)"
      ],
      "execution_count": 15,
      "outputs": []
    },
    {
      "cell_type": "markdown",
      "metadata": {
        "id": "1Mcq0dw-lZnv",
        "colab_type": "text"
      },
      "source": [
        "Initialising the NSGA2 Algo and termination condition:"
      ]
    },
    {
      "cell_type": "code",
      "metadata": {
        "id": "ZvjvhpJolZQ9",
        "colab_type": "code",
        "colab": {}
      },
      "source": [
        "algorithm = NSGA2(\n",
        "    pop_size= 100,     # Since there are already 100 in each population (above), pop_size can be put to as low as 10\n",
        "    n_offsprings=25,\n",
        "    sampling = X,\n",
        "    crossover=get_crossover(\"real_sbx\", prob=0.9, eta=15),\n",
        "    mutation=get_mutation(\"real_pm\", eta=20),\n",
        "    eliminate_duplicates=True\n",
        ")\n",
        "\n",
        "termination = get_termination(\"n_gen\", 280)"
      ],
      "execution_count": 16,
      "outputs": []
    },
    {
      "cell_type": "code",
      "metadata": {
        "id": "N7CAXsCXlwc7",
        "colab_type": "code",
        "colab": {}
      },
      "source": [
        "ans = minimize(problem,\n",
        "               algorithm,\n",
        "               termination,\n",
        "               seed=1,\n",
        "               save_history=True,\n",
        "               verbose=True)"
      ],
      "execution_count": null,
      "outputs": []
    },
    {
      "cell_type": "code",
      "metadata": {
        "id": "tcu3WdXVl2IP",
        "colab_type": "code",
        "colab": {
          "base_uri": "https://localhost:8080/",
          "height": 68
        },
        "outputId": "36c5a7cf-ac06-43a1-d0f3-977c45a73543"
      },
      "source": [
        "print(\"X: \", ans.X)\n",
        "print(\"Obj: \", ans.F)\n",
        "print(\"Constraints: \", ans.G)"
      ],
      "execution_count": 18,
      "outputs": [
        {
          "output_type": "stream",
          "text": [
            "X:  [ 1.26053419  0.62266784 65.2534362  10.00000293]\n",
            "Obj:  [7333.6763316]\n",
            "Constraints:  [0. 0. 0. 0.]\n"
          ],
          "name": "stdout"
        }
      ]
    },
    {
      "cell_type": "code",
      "metadata": {
        "id": "2qGRfkkBl8bp",
        "colab_type": "code",
        "colab": {
          "base_uri": "https://localhost:8080/",
          "height": 34
        },
        "outputId": "c1a5f565-6e33-4f15-eec1-5cbd29bf5e53"
      },
      "source": [
        "ans.exec_time"
      ],
      "execution_count": 19,
      "outputs": [
        {
          "output_type": "execute_result",
          "data": {
            "text/plain": [
              "3.095219373703003"
            ]
          },
          "metadata": {
            "tags": []
          },
          "execution_count": 19
        }
      ]
    },
    {
      "cell_type": "markdown",
      "metadata": {
        "id": "O4CXRN7Kma_f",
        "colab_type": "text"
      },
      "source": [
        "**Observations**\n",
        "\n",
        "The solution obtained from clustering is much worse than that obtained without clustering (`5986.69`) as well as that given in the paper using ABC (`5885.40`). \n",
        "\n",
        "Tuning of the population size, number of clusters, etc. may give better results. "
      ]
    }
  ]
}