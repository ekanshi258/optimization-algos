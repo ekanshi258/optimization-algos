{
  "nbformat": 4,
  "nbformat_minor": 0,
  "metadata": {
    "colab": {
      "name": "benchmark-pso-clustered.ipynb",
      "provenance": [],
      "toc_visible": true,
      "authorship_tag": "ABX9TyMGD7lyQ1muz3zJ5MIpr6sp",
      "include_colab_link": true
    },
    "kernelspec": {
      "name": "python3",
      "display_name": "Python 3"
    }
  },
  "cells": [
    {
      "cell_type": "markdown",
      "metadata": {
        "id": "view-in-github",
        "colab_type": "text"
      },
      "source": [
        "<a href=\"https://colab.research.google.com/github/ekanshi258/optimization-algos/blob/master/benchmark_pso_clustered.ipynb\" target=\"_parent\"><img src=\"https://colab.research.google.com/assets/colab-badge.svg\" alt=\"Open In Colab\"/></a>"
      ]
    },
    {
      "cell_type": "markdown",
      "metadata": {
        "id": "yDFqWj1j_Lf8"
      },
      "source": [
        "## Single Objective\n",
        "\n",
        "Trying out different benchmark problems to observe the behaviour of PSO on different contours.\n",
        "\n",
        "### **Initial Population: Clustered**"
      ]
    },
    {
      "cell_type": "code",
      "metadata": {
        "id": "4YU4p-M4--C8"
      },
      "source": [
        "pip install pymoo"
      ],
      "execution_count": null,
      "outputs": []
    },
    {
      "cell_type": "markdown",
      "metadata": {
        "id": "oftwDqruBY94"
      },
      "source": [
        "Imports:"
      ]
    },
    {
      "cell_type": "code",
      "metadata": {
        "id": "X7aE0812BaHO"
      },
      "source": [
        "from pymoo.algorithms.so_pso import PSO, PSOAnimation\n",
        "from pymoo.factory import Ackley\n",
        "from pymoo.optimize import minimize"
      ],
      "execution_count": null,
      "outputs": []
    },
    {
      "cell_type": "markdown",
      "metadata": {
        "id": "hdwXmhTUIWUN"
      },
      "source": [
        "Clustered Population Sample:"
      ]
    },
    {
      "cell_type": "code",
      "metadata": {
        "id": "43LexZUcFqA-"
      },
      "source": [
        "from sklearn.datasets import make_blobs\n",
        "X, y = make_blobs(n_samples=300, centers=30, n_features=2, random_state=0)"
      ],
      "execution_count": null,
      "outputs": []
    },
    {
      "cell_type": "markdown",
      "metadata": {
        "id": "ae-LnveCBojU"
      },
      "source": [
        "_____\n",
        "### Ackley"
      ]
    },
    {
      "cell_type": "code",
      "metadata": {
        "id": "7-lDZP0kBv_O"
      },
      "source": [
        "problem = Ackley()\n",
        "\n",
        "algorithm = PSO(max_velocity_rate=0.025, sampling=X)\n",
        "\n",
        "res = minimize(problem,\n",
        "               algorithm,\n",
        "               seed=1,\n",
        "               save_history=True,\n",
        "               verbose=False)"
      ],
      "execution_count": null,
      "outputs": []
    },
    {
      "cell_type": "code",
      "metadata": {
        "id": "eO0rZaRVEQ52",
        "outputId": "c3fbd576-b19a-419e-92af-0368f9731222",
        "colab": {
          "base_uri": "https://localhost:8080/",
          "height": 85
        }
      },
      "source": [
        "print(\"X: \", res.X)\n",
        "print(\"Obj: \", res.F)\n",
        "print(\"Constraints: \", res.G)\n",
        "print(\"Execution time: \", res.exec_time)"
      ],
      "execution_count": null,
      "outputs": [
        {
          "output_type": "stream",
          "text": [
            "X:  [-7.69474445e-09 -1.63541317e-08]\n",
            "Obj:  [5.11207827e-08]\n",
            "Constraints:  None\n",
            "Execution time:  0.881126880645752\n"
          ],
          "name": "stdout"
        }
      ]
    },
    {
      "cell_type": "markdown",
      "metadata": {
        "id": "gAtJztgSD0lQ"
      },
      "source": [
        "Convergence:"
      ]
    },
    {
      "cell_type": "code",
      "metadata": {
        "id": "TyM6zlU3DwmJ",
        "outputId": "07bb0c09-1b53-47ed-a58d-5e4d16b532a4",
        "colab": {
          "base_uri": "https://localhost:8080/",
          "height": 390
        }
      },
      "source": [
        "import matplotlib.pyplot as plt\n",
        "import numpy as np\n",
        "\n",
        "n_evals = np.array([e.evaluator.n_eval for e in res.history])\n",
        "opt = np.array([e.opt[0].F for e in res.history])\n",
        "plt.figure(figsize=(12,6))\n",
        "plt.title(\"Ackley - PSO (local search)\")\n",
        "plt.plot(n_evals, opt, \"-\")\n",
        "plt.yscale(\"log\")\n",
        "plt.show()"
      ],
      "execution_count": null,
      "outputs": [
        {
          "output_type": "display_data",
          "data": {
            "image/png": "[encoded data removed]",
            "text/plain": [
              "<Figure size 864x432 with 1 Axes>"
            ]
          },
          "metadata": {
            "tags": [],
            "needs_background": "light"
          }
        }
      ]
    },
    {
      "cell_type": "markdown",
      "metadata": {
        "id": "VYj-hIGcFBvT"
      },
      "source": [
        "_____\n",
        "### Rastrigin"
      ]
    },
    {
      "cell_type": "code",
      "metadata": {
        "id": "1SIiG8y-FNsT"
      },
      "source": [
        "from pymoo.factory import Rastrigin\n",
        "problem = Rastrigin()\n",
        "\n",
        "algorithm = PSO(sampling=X)\n",
        "\n",
        "res = minimize(problem,\n",
        "               algorithm,\n",
        "               seed=1,\n",
        "               save_history=True,\n",
        "               verbose=False)\n"
      ],
      "execution_count": null,
      "outputs": []
    },
    {
      "cell_type": "code",
      "metadata": {
        "id": "hGs_bK8FFgr7",
        "outputId": "a2f68515-a58f-41d9-d08b-bffd02f3e3ad",
        "colab": {
          "base_uri": "https://localhost:8080/",
          "height": 85
        }
      },
      "source": [
        "print(\"X: \", res.X)\n",
        "print(\"Obj: \", res.F)\n",
        "print(\"Constraints: \", res.G)\n",
        "print(\"Execution time: \", res.exec_time)"
      ],
      "execution_count": null,
      "outputs": [
        {
          "output_type": "stream",
          "text": [
            "X:  [1.57197168e-06 8.00481912e-09]\n",
            "Obj:  [4.90256724e-10]\n",
            "Constraints:  None\n",
            "Execution time:  0.8445630073547363\n"
          ],
          "name": "stdout"
        }
      ]
    },
    {
      "cell_type": "markdown",
      "metadata": {
        "id": "rPbnLY8BFlGx"
      },
      "source": [
        "Convergence:"
      ]
    },
    {
      "cell_type": "code",
      "metadata": {
        "id": "0pVeD0spFppL",
        "outputId": "b12c0887-2471-46ba-cdfc-e763bcfb7dbe",
        "colab": {
          "base_uri": "https://localhost:8080/",
          "height": 390
        }
      },
      "source": [
        "n_evals = np.array([e.evaluator.n_eval for e in res.history])\n",
        "opt = np.array([e.opt[0].F for e in res.history])\n",
        "plt.figure(figsize=(12,6))\n",
        "plt.title(\"Rastrigin - PSO (clustered)\")\n",
        "plt.plot(n_evals, opt, \"-\")\n",
        "plt.yscale(\"log\")\n",
        "plt.show()"
      ],
      "execution_count": null,
      "outputs": [
        {
          "output_type": "display_data",
          "data": {
            "image/png": "[encoded data removed]",
            "text/plain": [
              "<Figure size 864x432 with 1 Axes>"
            ]
          },
          "metadata": {
            "tags": [],
            "needs_background": "light"
          }
        }
      ]
    },
    {
      "cell_type": "markdown",
      "metadata": {
        "id": "pLojRQM_GBHZ"
      },
      "source": [
        "_____\n",
        "### Rosenbrock"
      ]
    },
    {
      "cell_type": "code",
      "metadata": {
        "id": "V0UF3mlpGMcE"
      },
      "source": [
        "from pymoo.factory import Rosenbrock\n",
        "problem = Rosenbrock()\n",
        "\n",
        "algorithm = PSO(pop_size=100, sampling=X)\n",
        "\n",
        "res = minimize(problem,\n",
        "               algorithm,\n",
        "               seed=1,\n",
        "               save_history=True,\n",
        "               verbose=True)"
      ],
      "execution_count": null,
      "outputs": []
    },
    {
      "cell_type": "code",
      "metadata": {
        "id": "_DIQaBJFGa1l",
        "outputId": "0775610a-4011-4a72-d5a1-bee0f30d3f7e",
        "colab": {
          "base_uri": "https://localhost:8080/",
          "height": 85
        }
      },
      "source": [
        "print(\"X: \", res.X)\n",
        "print(\"Obj: \", res.F)\n",
        "print(\"Constraints: \", res.G)\n",
        "print(\"Execution time: \", res.exec_time)"
      ],
      "execution_count": null,
      "outputs": [
        {
          "output_type": "stream",
          "text": [
            "X:  [0.99981104 0.99962492]\n",
            "Obj:  [3.64982109e-08]\n",
            "Constraints:  None\n",
            "Execution time:  4.475488662719727\n"
          ],
          "name": "stdout"
        }
      ]
    },
    {
      "cell_type": "markdown",
      "metadata": {
        "id": "mfwnAbT5Ggtl"
      },
      "source": [
        "Convergence:"
      ]
    },
    {
      "cell_type": "code",
      "metadata": {
        "id": "X8CG5u3IGf_s",
        "outputId": "2ff73384-6e02-4f62-c2b4-3ef260bd2b42",
        "colab": {
          "base_uri": "https://localhost:8080/",
          "height": 390
        }
      },
      "source": [
        "n_evals = np.array([e.evaluator.n_eval for e in res.history])\n",
        "opt = np.array([e.opt[0].F for e in res.history])\n",
        "plt.figure(figsize=(12,6))\n",
        "plt.title(\"Rosenbrock - PSO (clustered)\")\n",
        "plt.plot(n_evals, opt, \"-\")\n",
        "plt.yscale(\"log\")\n",
        "plt.show()"
      ],
      "execution_count": null,
      "outputs": [
        {
          "output_type": "display_data",
          "data": {
            "image/png": "[encoded data removed]",
            "text/plain": [
              "<Figure size 864x432 with 1 Axes>"
            ]
          },
          "metadata": {
            "tags": [],
            "needs_background": "light"
          }
        }
      ]
    },
    {
      "cell_type": "markdown",
      "metadata": {
        "id": "fFLvIi2qHMUk"
      },
      "source": [
        "____\n",
        "### Griewank"
      ]
    },
    {
      "cell_type": "code",
      "metadata": {
        "id": "RB6LDVAuHTxq"
      },
      "source": [
        "from pymoo.factory import Griewank\n",
        "problem = Griewank()\n",
        "\n",
        "algorithm = PSO(sampling=X)\n",
        "\n",
        "res = minimize(problem,\n",
        "               algorithm,\n",
        "               seed=1,\n",
        "               save_history=True,\n",
        "               verbose=False)"
      ],
      "execution_count": null,
      "outputs": []
    },
    {
      "cell_type": "code",
      "metadata": {
        "id": "sh4rH2uLHbeU",
        "outputId": "568a445c-122f-4531-a786-1b625b088244",
        "colab": {
          "base_uri": "https://localhost:8080/",
          "height": 85
        }
      },
      "source": [
        "print(\"X: \", res.X)\n",
        "print(\"Obj: \", res.F)\n",
        "print(\"Constraints: \", res.G)\n",
        "print(\"Execution time: \", res.exec_time)"
      ],
      "execution_count": null,
      "outputs": [
        {
          "output_type": "stream",
          "text": [
            "X:  [ 3.14001957 -4.43844425]\n",
            "Obj:  [0.00739604]\n",
            "Constraints:  None\n",
            "Execution time:  0.9290497303009033\n"
          ],
          "name": "stdout"
        }
      ]
    },
    {
      "cell_type": "code",
      "metadata": {
        "id": "Uxr10DgkHesT",
        "outputId": "624d05c3-83b4-40cf-a225-dc98f8706130",
        "colab": {
          "base_uri": "https://localhost:8080/",
          "height": 390
        }
      },
      "source": [
        "n_evals = np.array([e.evaluator.n_eval for e in res.history])\n",
        "opt = np.array([e.opt[0].F for e in res.history])\n",
        "plt.figure(figsize=(12,6))\n",
        "plt.title(\"Griewank - PSO (clustered)\")\n",
        "plt.plot(n_evals, opt, \"-\")\n",
        "plt.yscale(\"log\")\n",
        "plt.show()"
      ],
      "execution_count": null,
      "outputs": [
        {
          "output_type": "display_data",
          "data": {
            "image/png": "[encoded data removed]",
            "text/plain": [
              "<Figure size 864x432 with 1 Axes>"
            ]
          },
          "metadata": {
            "tags": [],
            "needs_background": "light"
          }
        }
      ]
    },
    {
      "cell_type": "markdown",
      "metadata": {
        "id": "SgWp8Kj3H6_e"
      },
      "source": [
        "______\n",
        "### Zakharov"
      ]
    },
    {
      "cell_type": "code",
      "metadata": {
        "id": "-kb6LuphH1zz"
      },
      "source": [
        "from pymoo.factory import Zakharov\n",
        "problem = Zakharov()\n",
        "\n",
        "algorithm = PSO(sampling=X)\n",
        "\n",
        "res = minimize(problem,\n",
        "               algorithm,\n",
        "               seed=1,\n",
        "               save_history=True,\n",
        "               verbose=False)"
      ],
      "execution_count": null,
      "outputs": []
    },
    {
      "cell_type": "code",
      "metadata": {
        "id": "p8d6Yje_IaEo",
        "outputId": "b64883a4-bd30-4684-9577-2faea84befa8",
        "colab": {
          "base_uri": "https://localhost:8080/",
          "height": 85
        }
      },
      "source": [
        "print(\"X: \", res.X)\n",
        "print(\"Obj: \", res.F)\n",
        "print(\"Constraints: \", res.G)\n",
        "print(\"Execution time: \", res.exec_time)"
      ],
      "execution_count": null,
      "outputs": [
        {
          "output_type": "stream",
          "text": [
            "X:  [-8.36753376e-06 -2.75949966e-06]\n",
            "Obj:  [1.2583941e-10]\n",
            "Constraints:  None\n",
            "Execution time:  0.46373772621154785\n"
          ],
          "name": "stdout"
        }
      ]
    },
    {
      "cell_type": "markdown",
      "metadata": {
        "id": "pEDRlyZEIYcE"
      },
      "source": [
        "Convergence:"
      ]
    },
    {
      "cell_type": "code",
      "metadata": {
        "id": "ruH_u8dRIdMp",
        "outputId": "c9faba6c-2b63-4a25-be65-a6cd1e939a23",
        "colab": {
          "base_uri": "https://localhost:8080/",
          "height": 390
        }
      },
      "source": [
        "n_evals = np.array([e.evaluator.n_eval for e in res.history])\n",
        "opt = np.array([e.opt[0].F for e in res.history])\n",
        "plt.figure(figsize=(12,6))\n",
        "plt.title(\"Zakharov - PSO (clustered)\")\n",
        "plt.plot(n_evals, opt, \"-\")\n",
        "plt.yscale(\"log\")\n",
        "plt.show()"
      ],
      "execution_count": null,
      "outputs": [
        {
          "output_type": "display_data",
          "data": {
            "image/png": "[encoded data removed]",
            "text/plain": [
              "<Figure size 864x432 with 1 Axes>"
            ]
          },
          "metadata": {
            "tags": [],
            "needs_background": "light"
          }
        }
      ]
    }
  ]
}