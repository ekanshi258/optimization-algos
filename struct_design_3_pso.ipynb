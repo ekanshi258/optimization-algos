{
  "nbformat": 4,
  "nbformat_minor": 0,
  "metadata": {
    "colab": {
      "name": "struct-design-3-pso.ipynb",
      "provenance": [],
      "authorship_tag": "ABX9TyN4Sy0o7v1H0Yfe8WqUyLL8",
      "include_colab_link": true
    },
    "kernelspec": {
      "name": "python3",
      "display_name": "Python 3"
    }
  },
  "cells": [
    {
      "cell_type": "markdown",
      "metadata": {
        "id": "view-in-github",
        "colab_type": "text"
      },
      "source": [
        "<a href=\"https://colab.research.google.com/github/ekanshi258/optimization-algos/blob/master/struct_design_3_pso.ipynb\" target=\"_parent\"><img src=\"https://colab.research.google.com/assets/colab-badge.svg\" alt=\"Open In Colab\"/></a>"
      ]
    },
    {
      "cell_type": "code",
      "metadata": {
        "id": "gVcTgzH8ijx4",
        "colab_type": "code",
        "colab": {}
      },
      "source": [
        "pip install pymoo"
      ],
      "execution_count": null,
      "outputs": []
    },
    {
      "cell_type": "markdown",
      "metadata": {
        "id": "zBsVd1tViv9S",
        "colab_type": "text"
      },
      "source": [
        "This experiment is based on the following paper:  \n",
        "_Solving structural engineering design optimization problems using an artificial bee colony algorithm_: https://www.aimsciences.org/article/doi/10.3934/jimo.2014.10.777\n",
        "\n",
        "I will be using PSO to solve the same problem as given in the paper."
      ]
    },
    {
      "cell_type": "code",
      "metadata": {
        "id": "DSkdvBvTixpn",
        "colab_type": "code",
        "colab": {}
      },
      "source": [
        "import numpy as np\n",
        "from pymoo.model.problem import FunctionalProblem\n",
        "from pymoo.algorithms.so_pso import PSO\n",
        "from pymoo.factory import get_sampling, get_crossover, get_mutation, get_termination\n",
        "from pymoo.optimize import minimize"
      ],
      "execution_count": 2,
      "outputs": []
    },
    {
      "cell_type": "markdown",
      "metadata": {
        "id": "qikiLhw6jGAv",
        "colab_type": "text"
      },
      "source": [
        "The paper states 3 structural design problems. \n",
        "\n",
        "Problem 3:  \n",
        "**Tension/Compression String Design. (Section 4.2.3).**\n",
        "\n",
        "\n",
        "---\n",
        "\n",
        "\n",
        "Objective functions:  \n",
        "```\n",
        "Minimize f(X) = (x3 + 2) * x2 * x1^2\n",
        "Such that:\n",
        "g1(X) = 1 − (x2^3 * x3)/(71785 * x1^4) <= 0\n",
        "g2(X) = (4*x2^2 − x1*x2)/12566*(x2*x1^3 − x1^4) + 1/(5108 * x1^2) − 1 <= 0\n",
        "g3(X) = 1 − (140.45 * x1)/(x2^2 * x3) <= 0\n",
        "g4(X) = (x1 + x2)/(1.5) − 1 <= 0\n",
        "\n",
        "Bounds:\n",
        "0.05 <= x1 <= 2 ; 0.25 <= x2 <= 1.3 ; 2 <= x3 <= 15\n",
        "```\n",
        "\n",
        "> Minimizing the weight of a tension/compression spring subject to constraints on minimum deflection, shear stress, surge frequency, limits on outside diameter and on design\n",
        "variables. The design variables are the mean coil diameter(x1), the wire diameter (x2) and the number of active coil (x3)."
      ]
    },
    {
      "cell_type": "code",
      "metadata": {
        "id": "7LOC4PVDjJH0",
        "colab_type": "code",
        "colab": {}
      },
      "source": [
        "#objective functions\n",
        "objs = [\n",
        "    lambda x: (x[2] + 2) * x[1] * x[0]**2,\n",
        "]\n",
        "\n",
        "# Contraint equations\n",
        "constr_ieq = [\n",
        "    lambda x: 1 - (x[1]**3 * x[2])/(71785 * x[0]**4),\n",
        "    lambda x: (4*x[1]**2 - x[0]*x[1])/(12566*(x[1] * x[0]**3 - x[0]**4)) + 1/(5108 * x[0]**2) - 1,\n",
        "    lambda x: 1 - (140.45 * x[0])/(x[1]**2 * x[2]),\n",
        "    lambda x: (x[0] + x[1])/(1.5) - 1\n",
        "]\n",
        "\n",
        "# value bounds\n",
        "lower_bound = np.array([0.05, 0.25, 2])\n",
        "upper_bound = np.array([2, 1.3, 15])\n",
        "\n",
        "# initialising problem\n",
        "problem = FunctionalProblem(3, objs, constr_ieq=constr_ieq, xl=lower_bound, xu=upper_bound)"
      ],
      "execution_count": 3,
      "outputs": []
    },
    {
      "cell_type": "markdown",
      "metadata": {
        "id": "QtB_2QqljXMR",
        "colab_type": "text"
      },
      "source": [
        "Initialising and running the PSO algorithm:"
      ]
    },
    {
      "cell_type": "code",
      "metadata": {
        "id": "qn7g7rrQjPvp",
        "colab_type": "code",
        "colab": {}
      },
      "source": [
        "algorithm = PSO(\n",
        "    pop_size=100,\n",
        "    max_velocity_rate=0.25\n",
        ")\n",
        "\n",
        "res = minimize(problem,\n",
        "               algorithm,\n",
        "               seed=1,\n",
        "               save_history=True,\n",
        "               verbose=True)"
      ],
      "execution_count": null,
      "outputs": []
    },
    {
      "cell_type": "markdown",
      "metadata": {
        "id": "NShY4Ns6jrgj",
        "colab_type": "text"
      },
      "source": [
        "Results:"
      ]
    },
    {
      "cell_type": "code",
      "metadata": {
        "id": "0J2jk2TqjtHj",
        "colab_type": "code",
        "colab": {
          "base_uri": "https://localhost:8080/",
          "height": 68
        },
        "outputId": "fbb185ef-06d8-4e69-c805-6aaffa2dd489"
      },
      "source": [
        "print(\"X: \", res.X)\n",
        "print(\"Obj: \", res.F)\n",
        "print(\"Exec time: \", res.exec_time)"
      ],
      "execution_count": 5,
      "outputs": [
        {
          "output_type": "stream",
          "text": [
            "X:  [0.06028363 0.60087774 4.37021967]\n",
            "Obj:  [0.01391039]\n",
            "Exec time:  19.753023147583008\n"
          ],
          "name": "stdout"
        }
      ]
    },
    {
      "cell_type": "markdown",
      "metadata": {
        "id": "3DS0VHQvkDX9",
        "colab_type": "text"
      },
      "source": [
        "Convergence:"
      ]
    },
    {
      "cell_type": "code",
      "metadata": {
        "id": "tBf6vbeckBoz",
        "colab_type": "code",
        "colab": {
          "base_uri": "https://localhost:8080/",
          "height": 390
        },
        "outputId": "1f0daf3e-c2bc-4f31-8fcf-312cb9d8a1c5"
      },
      "source": [
        "import matplotlib.pyplot as plt\n",
        "\n",
        "n_evals = np.array([e.evaluator.n_eval for e in res.history])\n",
        "opt = np.array([e.opt[0].F for e in res.history])\n",
        "plt.figure(figsize=(12,6))\n",
        "plt.title(\"Problem 3 Convergence: PSO\")\n",
        "plt.plot(n_evals, opt, \"-\")\n",
        "plt.show()"
      ],
      "execution_count": 16,
      "outputs": [
        {
          "output_type": "display_data",
          "data": {
            "image/png": "[encoded data removed]",
            "text/plain": [
              "<Figure size 864x432 with 1 Axes>"
            ]
          },
          "metadata": {
            "tags": [],
            "needs_background": "light"
          }
        }
      ]
    },
    {
      "cell_type": "markdown",
      "metadata": {
        "id": "ZHtHLT2wkKvY",
        "colab_type": "text"
      },
      "source": [
        "Convergence with logarithmic scale Y-Axis"
      ]
    },
    {
      "cell_type": "code",
      "metadata": {
        "id": "mEfyHoI8kRr6",
        "colab_type": "code",
        "colab": {
          "base_uri": "https://localhost:8080/",
          "height": 390
        },
        "outputId": "9a42c154-f079-45e2-d22a-6e62cd9d4d04"
      },
      "source": [
        "import matplotlib.pyplot as plt\n",
        "\n",
        "n_evals = np.array([e.evaluator.n_eval for e in res.history])\n",
        "opt = np.array([e.opt[0].F for e in res.history])\n",
        "plt.figure(figsize=(12,6))\n",
        "plt.title(\"Problem 3 Convergence: PSO\")\n",
        "plt.plot(n_evals, opt, \"-\")\n",
        "plt.yscale(\"log\")\n",
        "plt.show()"
      ],
      "execution_count": 17,
      "outputs": [
        {
          "output_type": "display_data",
          "data": {
            "image/png": "[encoded data removed]",
            "text/plain": [
              "<Figure size 864x432 with 1 Axes>"
            ]
          },
          "metadata": {
            "tags": [],
            "needs_background": "light"
          }
        }
      ]
    }
  ]
}