{
  "nbformat": 4,
  "nbformat_minor": 0,
  "metadata": {
    "colab": {
      "name": "clustered_design_3.ipynb",
      "provenance": [],
      "collapsed_sections": [],
      "authorship_tag": "ABX9TyM7rxFS+I/4Z9aE1eDCkuSE",
      "include_colab_link": true
    },
    "kernelspec": {
      "name": "python3",
      "display_name": "Python 3"
    }
  },
  "cells": [
    {
      "cell_type": "markdown",
      "metadata": {
        "id": "view-in-github",
        "colab_type": "text"
      },
      "source": [
        "<a href=\"https://colab.research.google.com/github/ekanshi258/optimization-algos/blob/master/clustered_design_3.ipynb\" target=\"_parent\"><img src=\"https://colab.research.google.com/assets/colab-badge.svg\" alt=\"Open In Colab\"/></a>"
      ]
    },
    {
      "cell_type": "code",
      "metadata": {
        "id": "GZsBSlsXopiY",
        "colab_type": "code",
        "colab": {}
      },
      "source": [
        "pip install pymoo"
      ],
      "execution_count": null,
      "outputs": []
    },
    {
      "cell_type": "markdown",
      "metadata": {
        "id": "EVv5phS9t50a",
        "colab_type": "text"
      },
      "source": [
        "This experiment is based on the following paper:  \n",
        "_Solving structural engineering design optimization problems using an artificial bee colony algorithm_: https://www.aimsciences.org/article/doi/10.3934/jimo.2014.10.777\n",
        "\n",
        "I will be using the NSGA2 to solve the same problem as given in the paper.\n"
      ]
    },
    {
      "cell_type": "code",
      "metadata": {
        "id": "_rN0QvM8t7TU",
        "colab_type": "code",
        "colab": {}
      },
      "source": [
        "import numpy as np\n",
        "from pymoo.model.problem import FunctionalProblem\n",
        "from pymoo.algorithms.nsga2 import NSGA2\n",
        "from pymoo.factory import get_sampling, get_crossover, get_mutation, get_termination\n",
        "from pymoo.optimize import minimize\n",
        "from sklearn.datasets import make_blobs"
      ],
      "execution_count": 2,
      "outputs": []
    },
    {
      "cell_type": "markdown",
      "metadata": {
        "id": "p3wWfqD2uwq-",
        "colab_type": "text"
      },
      "source": [
        "The paper states 3 structural design problems. \n",
        "\n",
        "Problem 3:  \n",
        "**Tension/Compression String Design. (Section 4.2.3).**\n",
        "\n",
        "\n",
        "---\n",
        "\n",
        "\n",
        "Objective functions:  \n",
        "```\n",
        "Minimize f(X) = (x3 + 2) * x2 * x1^2\n",
        "Such that:\n",
        "g1(X) = 1 − (x2^3 * x3)/(71785 * x1^4) <= 0\n",
        "g2(X) = (4*x2^2 − x1*x2)/12566*(x2*x1^3 − x1^4) + 1/(5108 * x1^2) − 1 <= 0\n",
        "g3(X) = 1 − (140.45 * x1)/(x2^2 * x3) <= 0\n",
        "g4(X) = (x1 + x2)/(1.5) − 1 <= 0\n",
        "\n",
        "Bounds:\n",
        "0.05 <= x1 <= 2 ; 0.25 <= x2 <= 1.3 ; 2 <= x3 <= 15\n",
        "```\n",
        "\n",
        "> Minimizing the weight of a tension/compression spring subject to constraints on minimum deflection, shear stress, surge frequency, limits on outside diameter and on design\n",
        "variables. The design variables are the mean coil diameter(x1), the wire diameter (x2) and the number of active coil (x3)."
      ]
    },
    {
      "cell_type": "code",
      "metadata": {
        "id": "IfxqmB6Cu1mO",
        "colab_type": "code",
        "colab": {}
      },
      "source": [
        "#objective functions\n",
        "objs = [\n",
        "    lambda x: (x[2] + 2) * x[1] * x[0]**2,\n",
        "]\n",
        "\n",
        "# Contraint equations\n",
        "constr_ieq = [\n",
        "    lambda x: 1 - (x[1]**3 * x[2])/(71785 * x[0]**4),\n",
        "    lambda x: (4*x[1]**2 - x[0]*x[1])/(12566*(x[1] * x[0]**3 - x[0]**4)) + 1/(5108 * x[0]**2) - 1,\n",
        "    lambda x: 1 - (140.45 * x[0])/(x[1]**2 * x[2]),\n",
        "    lambda x: (x[0] + x[1])/(1.5) - 1\n",
        "]\n",
        "\n",
        "# value bounds\n",
        "lower_bound = np.array([0.05, 0.25, 2])\n",
        "upper_bound = np.array([2, 1.3, 15])\n",
        "\n",
        "# initialising problem\n",
        "problem = FunctionalProblem(3, objs, constr_ieq=constr_ieq, xl=lower_bound, xu=upper_bound)"
      ],
      "execution_count": 3,
      "outputs": []
    },
    {
      "cell_type": "markdown",
      "metadata": {
        "id": "B-JRN5h7u9z6",
        "colab_type": "text"
      },
      "source": [
        "\n",
        "Instead of starting out with a randomly generated population as we usually do, I will be generating clusters of populations, i.e. the population will be clustered into groups instead of being scattered throughout the solution space.\n",
        "\n",
        "**Reason**: Comparison of algo/solution quality with that when population is randomly scattered."
      ]
    },
    {
      "cell_type": "code",
      "metadata": {
        "id": "LMiYML_cu-aQ",
        "colab_type": "code",
        "colab": {}
      },
      "source": [
        "# Generating 30 clusters:\n",
        "X, y = make_blobs(n_samples=300, centers=30, n_features=3, random_state=0)"
      ],
      "execution_count": 4,
      "outputs": []
    },
    {
      "cell_type": "code",
      "metadata": {
        "id": "7qzaKDAZvGGC",
        "colab_type": "code",
        "colab": {}
      },
      "source": [
        "algorithm = NSGA2(\n",
        "    pop_size= 100,     \n",
        "    n_offsprings=25,\n",
        "    sampling = X,\n",
        "    crossover=get_crossover(\"real_sbx\", prob=0.9, eta=15),\n",
        "    mutation=get_mutation(\"real_pm\", eta=20),\n",
        "    eliminate_duplicates=True\n",
        ")\n",
        "\n",
        "termination = get_termination(\"n_gen\", 280)"
      ],
      "execution_count": 5,
      "outputs": []
    },
    {
      "cell_type": "markdown",
      "metadata": {
        "id": "nTw-n-bavPD_",
        "colab_type": "text"
      },
      "source": [
        "Optimizing:"
      ]
    },
    {
      "cell_type": "code",
      "metadata": {
        "id": "OFL2KCDfvOdE",
        "colab_type": "code",
        "colab": {}
      },
      "source": [
        "ans = minimize(problem,\n",
        "               algorithm,\n",
        "               termination,\n",
        "               seed=1,\n",
        "               save_history=True,\n",
        "               verbose=True)"
      ],
      "execution_count": null,
      "outputs": []
    },
    {
      "cell_type": "code",
      "metadata": {
        "id": "gAy_mOcpvTiK",
        "colab_type": "code",
        "colab": {
          "base_uri": "https://localhost:8080/",
          "height": 68
        },
        "outputId": "4316ff85-3276-475e-c12c-3fcc4020a62e"
      },
      "source": [
        "print(\"X: \", ans.X)\n",
        "print(\"Obj: \", ans.F)\n",
        "print(\"Constraints: \", ans.G)"
      ],
      "execution_count": 7,
      "outputs": [
        {
          "output_type": "stream",
          "text": [
            "X:  [0.06954457 0.94403834 2.00000014]\n",
            "Obj:  [0.01826317]\n",
            "Constraints:  [0. 0. 0. 0.]\n"
          ],
          "name": "stdout"
        }
      ]
    },
    {
      "cell_type": "code",
      "metadata": {
        "id": "-dUzCpw9vhkK",
        "colab_type": "code",
        "colab": {
          "base_uri": "https://localhost:8080/",
          "height": 34
        },
        "outputId": "ecda1f53-603a-471d-f042-ab2165fd91c6"
      },
      "source": [
        "ans.exec_time"
      ],
      "execution_count": 8,
      "outputs": [
        {
          "output_type": "execute_result",
          "data": {
            "text/plain": [
              "2.9024665355682373"
            ]
          },
          "metadata": {
            "tags": []
          },
          "execution_count": 8
        }
      ]
    },
    {
      "cell_type": "markdown",
      "metadata": {
        "id": "Ozm6B4Rtvjrs",
        "colab_type": "text"
      },
      "source": [
        "**Observation**\n",
        "\n",
        "The solution obtained from clustering is much worse than that obtained without clustering (`0.01317647`) as well as that given in the paper using ABC (`0.01266`). \n",
        "\n",
        "Tuning of the population size, number of clusters, etc. may give better results. "
      ]
    }
  ]
}